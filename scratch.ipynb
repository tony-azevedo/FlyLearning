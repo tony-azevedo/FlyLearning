{
 "cells": [
  {
   "cell_type": "code",
   "execution_count": null,
   "metadata": {},
   "outputs": [],
   "source": [
    "from scipy.io import loadmat\n",
    "import pandas as pd\n",
    "import os\n",
    "import matplotlib\n",
    "matplotlib.use(\"Agg\")  # Must be before importing any matplotlib.pyplot-dependent code\n",
    "import matplotlib.pyplot as plt\n",
    "import matplotlib.patches as patches\n",
    "import numpy as np\n",
    "from mapd import Trial, Table\n",
    "import h5py\n",
    "import skvideo.io\n",
    "from scipy.stats import mode\n",
    "\n",
    "%load_ext autoreload\n",
    "%autoreload 2\n",
    "%matplotlib inline"
   ]
  },
  {
   "cell_type": "code",
   "execution_count": null,
   "metadata": {},
   "outputs": [],
   "source": [
    "T = Table('LEDFlashTriggerPiezoControl_250304_F3_C1_Table.parquet') # LEDFlashTriggerPiezoControl_Raw_241205_F2_C1_243\n",
    "# tl = T.trial_list\n",
    "\n",
    "block_1 = T.df.loc[T.df['op_cnd_blocks'] == 1]"
   ]
  },
  {
   "cell_type": "code",
   "execution_count": null,
   "metadata": {},
   "outputs": [],
   "source": [
    "idx = T.df.loc[20:38].index\n",
    "%matplotlib inline\n",
    "fig,ax = T.plot_some_trials(index=idx, from_zero=True)\n",
    "fig.canvas.draw()\n",
    "fig"
   ]
  },
  {
   "cell_type": "code",
   "execution_count": null,
   "metadata": {},
   "outputs": [],
   "source": [
    "fname = T.export_some_probe_groups(index=idx, from_zero=True)"
   ]
  },
  {
   "cell_type": "code",
   "execution_count": null,
   "metadata": {},
   "outputs": [],
   "source": [
    "from mapd.table_export_methods import plot_probe_trace_from_pickle\n",
    "\n",
    "fig = plot_probe_trace_from_pickle(fname)\n",
    "fig.canvas.draw()\n",
    "fig"
   ]
  },
  {
   "cell_type": "code",
   "execution_count": null,
   "metadata": {},
   "outputs": [],
   "source": [
    "fig = T.plot_probe_position_heatmap()"
   ]
  },
  {
   "cell_type": "code",
   "execution_count": null,
   "metadata": {},
   "outputs": [],
   "source": [
    "fig[0].canvas.draw()\n",
    "fig[0]"
   ]
  },
  {
   "cell_type": "code",
   "execution_count": null,
   "metadata": {},
   "outputs": [],
   "source": [
    "T.make_movie_from_index(index=idx)"
   ]
  },
  {
   "cell_type": "code",
   "execution_count": null,
   "metadata": {},
   "outputs": [],
   "source": [
    "def create_probe_frame(xlim=(0, 1280), ylim=(0, 128), radius=8):\n",
    "    fig, ax = plt.subplots(figsize=(6.4, 0.64), dpi=200)\n",
    "    fig.subplots_adjust(left=0, right=1, top=1, bottom=0)\n",
    "    assert fig.canvas.get_width_height() == (1280, 128), \"Unexpected canvas size\"\n",
    "    \n",
    "    ax.set_xlim(*xlim)\n",
    "    ax.set_ylim(*ylim)\n",
    "    ax.set_facecolor('black')\n",
    "    fig.patch.set_facecolor('black')\n",
    "    ax.axis('off')\n",
    "\n",
    "    # Placeholder target rectangle (initial position = 0, width = 0)\n",
    "    rect = patches.Rectangle((0, 0), 0, ylim[1], edgecolor='white', facecolor='none')\n",
    "    ax.add_patch(rect)\n",
    "\n",
    "    # Placeholder probe dot\n",
    "    dot = patches.Circle((0, ylim[1] // 2), radius, color='white')\n",
    "    ax.add_patch(dot)\n",
    "\n",
    "\n",
    "\n",
    "    time_text = ax.text(\n",
    "        0.98, 0.02, \"\", transform=ax.transAxes,\n",
    "        color='white', fontsize=10, ha='right', va='bottom'\n",
    "    )\n",
    "\n",
    "    return fig, ax, dot, rect, time_text\n",
    "\n",
    "\n",
    "def init_video_writer(filename, frame_rate=30, crf=28):\n",
    "    writer = skvideo.io.FFmpegWriter(\n",
    "        filename,\n",
    "        inputdict={'-framerate': str(frame_rate)},\n",
    "        outputdict={\n",
    "            '-vcodec': 'libx264',\n",
    "            '-pix_fmt': 'yuv420p',\n",
    "            '-crf': str(crf),\n",
    "            '-preset': 'slow',\n",
    "            '-movflags': '+faststart'\n",
    "        }\n",
    "    )\n",
    "    return writer\n",
    "\n",
    "def update_probe_frame(dot, rect, probe_position, target_x, target_width, \n",
    "                       time_text=None, time_seconds = None, light_on=False, \n",
    "                       edgewidth_inside=3, edgewidth_outside=1):\n",
    "    \"\"\"\n",
    "    Updates the dot and rectangle in the frame.\n",
    "    - dot: matplotlib Circle object\n",
    "    - rect: matplotlib Rectangle object\n",
    "    - probe_position: scalar or (x, y)\n",
    "    - target_x: left edge of target region\n",
    "    - target_width: width of target region\n",
    "    - light_on: bool, adds yellow fill to rectangle if True\n",
    "    - edgewidth_inside: line width if probe is inside the target\n",
    "    - edgewidth_outside: line width if probe is outside the target\n",
    "    \"\"\"\n",
    "\n",
    "    # Update dot position\n",
    "    if np.ndim(probe_position) == 0 or len(probe_position) == 1:\n",
    "        x = probe_position[0] if np.ndim(probe_position) else probe_position\n",
    "        y = dot.center[1]\n",
    "    else:\n",
    "        x, y = probe_position[0], probe_position[1]\n",
    "    dot.center = (x, y)\n",
    "\n",
    "    # Update target rectangle\n",
    "    rect.set_x(target_x)\n",
    "    rect.set_width(target_width)\n",
    "    rect.set_edgecolor('blue' if light_on else 'white')\n",
    "\n",
    "    inside = target_x <= x <= (target_x + target_width)\n",
    "    rect.set_linewidth(edgewidth_inside if inside else edgewidth_outside)\n",
    "\n",
    "    # Update time text\n",
    "    if time_text is not None and time_seconds is not None:\n",
    "        time_text.set_text(f\"{time_seconds:.2f} s\")"
   ]
  },
  {
   "cell_type": "code",
   "execution_count": null,
   "metadata": {},
   "outputs": [],
   "source": [
    "# Setup\n",
    "fig, ax, dot, rect,time_text = create_probe_frame(radius=6)\n",
    "# writer = init_video_writer(\"debug_probe_video.mp4\", frame_rate=30)\n",
    "\n",
    "\n",
    "tr_probe_position = tr.probe_position[tr.downsample_probe]\n",
    "tr_ardo = tr.arduino_output[tr.downsample_probe].astype(np.bool)\n",
    "tr_time = tr.time[tr.downsample_probe]\n",
    "\n",
    "fr = 1/mode(np.diff(tr.time[tr.downsample_probe])).mode\n",
    "# writer = init_video_writer(\"debug_probe_video.mp4\", frame_rate=fr, crf=28)\n",
    "\n",
    "\n",
    "update_probe_frame(\n",
    "        dot, rect,\n",
    "        probe_position=tr_probe_position[0],\n",
    "        target_x=tr.params['pyasXPosition'],\n",
    "        target_width=tr.params['pyasWidth'],\n",
    "        light_on=tr_ardo[0]\n",
    "    )"
   ]
  },
  {
   "cell_type": "code",
   "execution_count": null,
   "metadata": {},
   "outputs": [],
   "source": [
    "T.genotype"
   ]
  },
  {
   "cell_type": "code",
   "execution_count": null,
   "metadata": {},
   "outputs": [],
   "source": [
    "writer = init_video_writer(f\"./probe_movies/pm_{T.day}_F{T.fly}_C{T.cell}_{T.genotype}.mp4\", frame_rate=fr, crf=28)\n",
    "\n",
    "fig.canvas.draw()\n",
    "\n",
    "# Example loop\n",
    "for idx,pos,ao,tstep in zip(range(len(tr_probe_position)),tr_probe_position,tr_ardo,tr_time):\n",
    "    # idx = 500\n",
    "    # pos = tr_probe_position[idx]\n",
    "    # ao = tr_ardo[idx]\n",
    "    # tstep = tr_time[idx]\n",
    "    # if idx == 500:   \n",
    "    update_probe_frame(\n",
    "        dot, rect,\n",
    "        probe_position=pos,\n",
    "        target_x=tr.params['pyasXPosition'],\n",
    "        target_width=tr.params['pyasWidth'],\n",
    "        time_text=time_text,\n",
    "        time_seconds=tstep,\n",
    "        light_on=ao\n",
    "    )\n",
    "\n",
    "    fig.canvas.draw()\n",
    "    image = np.frombuffer(fig.canvas.tostring_rgb(), dtype='uint8')\n",
    "    image = np.asarray(fig.canvas.buffer_rgba())\n",
    "    image_rgb = image[..., :3]  # drop alpha for ffmpeg compatibility\n",
    "    writer.writeFrame(image_rgb)\n",
    "\n",
    "writer.close()\n",
    "plt.close(fig)"
   ]
  },
  {
   "cell_type": "code",
   "execution_count": null,
   "metadata": {},
   "outputs": [],
   "source": [
    "\n"
   ]
  },
  {
   "cell_type": "code",
   "execution_count": null,
   "metadata": {},
   "outputs": [],
   "source": [
    "\n",
    "\n",
    "def make_probe_position_video(tr, output_path=\"probe_video.mp4\", frame_rate=30, radius=8):\n",
    "    \"\"\"\n",
    "    Generate a video of probe position over time.\n",
    "\n",
    "    Parameters:\n",
    "    - tr: Trial object with attributes `params` and `probe_position`\n",
    "    - output_path: str, path to output .mp4 file\n",
    "    - frame_rate: int, frames per second\n",
    "    - radius: int, radius of the probe dot in data units\n",
    "    \"\"\"\n",
    "\n",
    "    # Set up figure and axis\n",
    "    fig, ax = plt.subplots(figsize=(6.4, 0.64), dpi=200)\n",
    "    ax.set_xlim(0, 1280)\n",
    "    ax.set_ylim(0, 128)\n",
    "    ax.set_facecolor('black')\n",
    "    fig.patch.set_facecolor('black')\n",
    "    ax.axis('off')\n",
    "\n",
    "    # Static rectangle (outline of pyas)\n",
    "    rect = patches.Rectangle(\n",
    "        (tr.params['pyasXPosition'], 0),\n",
    "        tr.params['pyasWidth'], 128,\n",
    "        edgecolor='white', facecolor='none'\n",
    "    )\n",
    "    ax.add_patch(rect)\n",
    "\n",
    "    # Dynamic dot (initialize once)\n",
    "    y_default = 64  # middle of the range if position is 1D\n",
    "    first_pos = tr.probe_position[0]\n",
    "    if np.ndim(first_pos) == 0 or len(first_pos) == 1:\n",
    "        dot = patches.Circle((first_pos[0] if np.ndim(first_pos) else first_pos, y_default), radius, color='white')\n",
    "    else:\n",
    "        dot = patches.Circle((first_pos[0], first_pos[1]), radius, color='white')\n",
    "    ax.add_patch(dot)\n",
    "\n",
    "    # Set up writer\n",
    "    writer = skvideo.io.FFmpegWriter(\n",
    "        output_path,\n",
    "        inputdict={'-framerate': str(frame_rate)},\n",
    "        outputdict={\n",
    "            '-vcodec': 'libx264',\n",
    "            '-pix_fmt': 'yuv420p',\n",
    "            '-crf': '28',\n",
    "            '-preset': 'slow',\n",
    "            '-movflags': '+faststart'\n",
    "        }\n",
    "    )\n",
    "\n",
    "    # Generate frames\n",
    "    for pos in tr.probe_position:\n",
    "        # Update dot position\n",
    "        if np.ndim(pos) == 0 or len(pos) == 1:\n",
    "            x, y = pos[0] if np.ndim(pos) else pos, y_default\n",
    "        else:\n",
    "            x, y = pos[0], pos[1]\n",
    "        dot.center = (x, y)\n",
    "\n",
    "        # Render and write frame\n",
    "        fig.canvas.draw()\n",
    "        image = np.frombuffer(fig.canvas.tostring_rgb(), dtype='uint8')\n",
    "        image = image.reshape(fig.canvas.get_width_height()[::-1] + (3,))\n",
    "        writer.writeFrame(image)\n",
    "\n",
    "    writer.close()\n",
    "    plt.close(fig)\n",
    "    print(f\"Video saved to {output_path}\")"
   ]
  },
  {
   "cell_type": "code",
   "execution_count": null,
   "metadata": {},
   "outputs": [],
   "source": [
    "import numpy as np\n",
    "\n",
    "def make_probe_movie(self,index = None):\n",
    "    \"\"\"\n",
    "    Make a movie of the probe data.\n",
    "    \"\"\"\n",
    "\n",
    "    if index is None:\n",
    "        index = self.df.index\n",
    "    elif not isinstance(index, pd.Series):\n",
    "        if isinstance(index, (list, np.ndarray)):\n",
    "            index = pd.Series(index)\n",
    "        else:\n",
    "            raise TypeError(\"Index must be a pandas Series or a list/array-like object.\")\n",
    "    else:\n",
    "        pass  # index is already a Series\n",
    "\n",
    "    # Get the probe data\n",
    "    tabl = self.df.loc[index]\n",
    "\n",
    "    # setup the figure\n",
    "    fig, ax = plt.subplots()\n",
    "    fig.set_size_inches(12.8, 1.28)  # Set the figure size as needed\n"
   ]
  },
  {
   "cell_type": "code",
   "execution_count": null,
   "metadata": {},
   "outputs": [],
   "source": [
    "T.df.op_cnd_blocks.value_counts()"
   ]
  },
  {
   "cell_type": "code",
   "execution_count": null,
   "metadata": {},
   "outputs": [],
   "source": [
    "T_ = T.df[~T.df['is_rest']]"
   ]
  },
  {
   "cell_type": "code",
   "execution_count": null,
   "metadata": {},
   "outputs": [],
   "source": [
    "for ocb in T_.op_cnd_blocks.unique():\n",
    "            T_rows = T_[T_.op_cnd_blocks==ocb]"
   ]
  },
  {
   "cell_type": "code",
   "execution_count": null,
   "metadata": {},
   "outputs": [],
   "source": [
    "a = 'hi' if T_rows.pyasState.unique()=='hi' else 'lo'\n",
    "a"
   ]
  },
  {
   "cell_type": "code",
   "execution_count": null,
   "metadata": {},
   "outputs": [],
   "source": [
    "T.plot_outcomes(savefig=True)"
   ]
  },
  {
   "cell_type": "code",
   "execution_count": null,
   "metadata": {},
   "outputs": [],
   "source": [
    "plt.close()"
   ]
  },
  {
   "cell_type": "code",
   "execution_count": null,
   "metadata": {},
   "outputs": [],
   "source": [
    "for ocb in T_.op_cnd_blocks.unique():\n",
    "    T_rows = T_[T_.op_cnd_blocks==ocb]\n",
    "    tr_max = T_rows.index.max()\n",
    "    tr_min = T_rows.index.min()\n",
    "    print(f'[{tr_min}, {tr_max}]')"
   ]
  },
  {
   "cell_type": "code",
   "execution_count": null,
   "metadata": {},
   "outputs": [],
   "source": [
    "T_rows = T"
   ]
  }
 ],
 "metadata": {
  "kernelspec": {
   "display_name": "flop_py312",
   "language": "python",
   "name": "python3"
  },
  "language_info": {
   "codemirror_mode": {
    "name": "ipython",
    "version": 3
   },
   "file_extension": ".py",
   "mimetype": "text/x-python",
   "name": "python",
   "nbconvert_exporter": "python",
   "pygments_lexer": "ipython3",
   "version": "3.12.7"
  }
 },
 "nbformat": 4,
 "nbformat_minor": 2
}
