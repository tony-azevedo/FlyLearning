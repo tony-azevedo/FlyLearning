{
 "cells": [
  {
   "cell_type": "code",
   "execution_count": null,
   "metadata": {},
   "outputs": [],
   "source": [
    "from scipy.io import loadmat\n",
    "import pandas as pd\n",
    "import os\n",
    "import matplotlib\n",
    "matplotlib.use(\"Agg\")  # Must be before importing any matplotlib.pyplot-dependent code\n",
    "import matplotlib.pyplot as plt\n",
    "import matplotlib.patches as patches\n",
    "import numpy as np\n",
    "from mapd import Trial, Table\n",
    "import h5py\n",
    "import skvideo.io\n",
    "from scipy.stats import mode\n",
    "\n",
    "%load_ext autoreload\n",
    "%autoreload 2\n",
    "%matplotlib inline"
   ]
  },
  {
   "cell_type": "code",
   "execution_count": null,
   "metadata": {},
   "outputs": [],
   "source": [
    "idx = T.df.loc[20:38].index\n",
    "%matplotlib inline\n",
    "fig,ax = T.plot_some_trials(index=idx, from_zero=True)\n",
    "fig.canvas.draw()\n",
    "fig"
   ]
  },
  {
   "cell_type": "code",
   "execution_count": null,
   "metadata": {},
   "outputs": [],
   "source": [
    "fname = T.export_some_probe_groups(index=idx, from_zero=True)"
   ]
  },
  {
   "cell_type": "code",
   "execution_count": null,
   "metadata": {},
   "outputs": [],
   "source": [
    "from mapd.table_export_methods import plot_probe_trace_from_pickle\n",
    "\n",
    "fig = plot_probe_trace_from_pickle(fname)\n",
    "fig.canvas.draw()\n",
    "fig"
   ]
  },
  {
   "cell_type": "code",
   "execution_count": null,
   "metadata": {},
   "outputs": [],
   "source": [
    "fig = T.plot_probe_position_heatmap()"
   ]
  },
  {
   "cell_type": "code",
   "execution_count": null,
   "metadata": {},
   "outputs": [],
   "source": [
    "fig[0].canvas.draw()\n",
    "fig[0]"
   ]
  },
  {
   "cell_type": "code",
   "execution_count": null,
   "metadata": {},
   "outputs": [],
   "source": [
    "T.make_movie_from_index(index=idx)"
   ]
  }
 ],
 "metadata": {
  "kernelspec": {
   "display_name": "flop_py312",
   "language": "python",
   "name": "python3"
  },
  "language_info": {
   "codemirror_mode": {
    "name": "ipython",
    "version": 3
   },
   "file_extension": ".py",
   "mimetype": "text/x-python",
   "name": "python",
   "nbconvert_exporter": "python",
   "pygments_lexer": "ipython3",
   "version": "3.12.7"
  }
 },
 "nbformat": 4,
 "nbformat_minor": 2
}
