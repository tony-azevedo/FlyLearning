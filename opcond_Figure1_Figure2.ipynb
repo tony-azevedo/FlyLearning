{
 "cells": [
  {
   "cell_type": "markdown",
   "metadata": {},
   "source": [
    "# Import"
   ]
  },
  {
   "cell_type": "code",
   "execution_count": 1,
   "metadata": {},
   "outputs": [],
   "source": [
    "from scipy.io import loadmat\n",
    "import pandas as pd\n",
    "import os\n",
    "import matplotlib.pyplot as plt\n",
    "import numpy as np\n",
    "from mapd import Trial, Table, Sinq\n",
    "import h5py\n",
    "%load_ext autoreload\n",
    "%autoreload 2\n",
    "%matplotlib widget\n",
    "\n",
    "def refresh_table_addons():\n",
    "    import importlib\n",
    "    import mapd.table_plotters as tps\n",
    "    import mapd.table_scalars as tbs\n",
    "    importlib.reload(tps)\n",
    "    importlib.reload(tbs)\n",
    "\n",
    "    for name in dir(tps):\n",
    "        if name.startswith('_'):\n",
    "            continue\n",
    "        attr = getattr(tps, name)\n",
    "        setattr(Table, name, attr)\n",
    "    \n",
    "    for name in dir(tbs):\n",
    "        if name.startswith('_'):\n",
    "            continue\n",
    "        attr = getattr(tbs, name)\n",
    "        setattr(Table, name, attr)"
   ]
  },
  {
   "cell_type": "markdown",
   "metadata": {},
   "source": [
    "# Whole cell recordings"
   ]
  },
  {
   "cell_type": "code",
   "execution_count": null,
   "metadata": {},
   "outputs": [],
   "source": [
    "df_filter = {'pyasState':'hi','_vnc_status_cat':'intact'}\n",
    "early_index = T.df.index[0:300]\n",
    "late_index = T.df.index[300:]\n",
    "\n",
    "T.plot_probe_distribution(filter=None,index=None,bin_min=-500,bin_max=10,savefig=True)\n",
    "plt.close()\n",
    "\n",
    "df_filter = {'pyasState':'hi'}\n",
    "T.plot_probe_distribution(filter=df_filter,index=None,bin_min=-500,bin_max=10,savefig=True)\n",
    "plt.close()\n",
    "\n",
    "df_filter = {'pyasState':'lo'}\n",
    "T.plot_probe_distribution(filter=df_filter,index=None,bin_min=-500,bin_max=10,savefig=True)\n",
    "plt.close()\n",
    "\n",
    "# Early\n",
    "df_filter = {'pyasState':'hi'}\n",
    "T.plot_probe_distribution(filter=df_filter,index=early_index,bin_min=-500,bin_max=10,savefig=True)\n",
    "plt.close()\n",
    "\n",
    "df_filter = {'pyasState':'lo'}\n",
    "T.plot_probe_distribution(filter=df_filter,index=early_index,bin_min=-500,bin_max=10,savefig=True)\n",
    "plt.close()\n",
    "\n",
    "# Late\n",
    "df_filter = {'pyasState':'hi'}\n",
    "T.plot_probe_distribution(filter=df_filter,index=late_index,bin_min=-500,bin_max=10,savefig=True)\n",
    "plt.close()\n",
    "\n",
    "df_filter = {'pyasState':'lo'}\n",
    "T.plot_probe_distribution(filter=df_filter,index=late_index,bin_min=-500,bin_max=10,savefig=True)\n",
    "plt.close()"
   ]
  },
  {
   "cell_type": "markdown",
   "metadata": {},
   "source": [
    "### 210302_F1_C2"
   ]
  },
  {
   "cell_type": "markdown",
   "metadata": {},
   "source": [
    "### 210319_F2_C1"
   ]
  },
  {
   "cell_type": "markdown",
   "metadata": {},
   "source": [
    "### 210331_F2_C1"
   ]
  },
  {
   "cell_type": "markdown",
   "metadata": {},
   "source": [
    "### 210405_F1_C1"
   ]
  },
  {
   "cell_type": "markdown",
   "metadata": {},
   "source": [
    "### 210602_F1_C1"
   ]
  },
  {
   "cell_type": "markdown",
   "metadata": {},
   "source": [
    "### 210604_F1_C1 - HC-LexA/13XLexAop-ChrimsonR;35C09/pJFRC7 75 ATR mixed in"
   ]
  },
  {
   "cell_type": "markdown",
   "metadata": {},
   "source": [
    "### 210903_F3_C1 - HC-LexA/13XLexAop-ChrimsonR;35C09/pJFRC7 75 ATR mixed in"
   ]
  },
  {
   "cell_type": "markdown",
   "metadata": {},
   "source": [
    "### 210907_F1_C1 - HC-LexA/13XLexAop-ChrimsonR;35C09/pJFRC7 75 ATR mixed in"
   ]
  },
  {
   "cell_type": "markdown",
   "metadata": {},
   "source": [
    "### 210908_F3_C1 - HC-LexA/13XLexAop-ChrimsonR;35C09/pJFRC7 75 ATR mixed in"
   ]
  },
  {
   "cell_type": "markdown",
   "metadata": {},
   "source": [
    "### 210915_F1_C1 - HC-LexA/13XLexAop-ChrimsonR;35C09/pJFRC7 75 ATR mixed in"
   ]
  },
  {
   "cell_type": "markdown",
   "metadata": {},
   "source": [
    "### 210917_F2_C1 - HC-LexA/13XLexAop-ChrimsonR;35C09/pJFRC7 75 ATR mixed in"
   ]
  },
  {
   "cell_type": "markdown",
   "metadata": {},
   "source": [
    "# Hot-Cell-Gal4"
   ]
  },
  {
   "cell_type": "markdown",
   "metadata": {},
   "source": [
    "## 241105_F2_C1 -  Hot-Cell-Gal4>Chr in WT"
   ]
  },
  {
   "cell_type": "code",
   "execution_count": null,
   "metadata": {},
   "outputs": [],
   "source": [
    "# T = Table('LEDFlashTriggerPiezoControl_241105_F2_C1_Table.parquet')\n",
    "# T.open_notes_files()\n",
    "# Trial(trial=246, 241121_F1_C1, dT=811.28836, ex=True) vnc was cut here\n",
    "T.df.Trial[246].exclude()\n",
    "T.add_df_category('cut',trial_min=247,categories='_vnc_status_cat')\n",
    "T.plot_outcomes(savefig=True)"
   ]
  },
  {
   "cell_type": "code",
   "execution_count": null,
   "metadata": {},
   "outputs": [],
   "source": [
    "probe_position_hm_df = T.plot_probe_position_heatmap(savefig=True,cmin=-500,cmax=10)"
   ]
  },
  {
   "cell_type": "code",
   "execution_count": null,
   "metadata": {},
   "outputs": [],
   "source": [
    "df_filter = {'pyasState':'hi','_vnc_status_cat':'intact'}\n",
    "early_index = T.df.index[0:100]\n",
    "late_index = T.df.index[100:]\n",
    "\n",
    "T.plot_probe_distribution(filter=None,index=None,bin_min=-500,bin_max=10,savefig=True)\n",
    "plt.close()\n",
    "\n",
    "df_filter = {'_vnc_status_cat':'cut'}\n",
    "T.plot_probe_distribution(filter=df_filter,index=None,bin_min=-500,bin_max=10,savefig=True)\n",
    "plt.close()\n",
    "\n",
    "df_filter['_vnc_status_cat']='intact'\n",
    "T.plot_probe_distribution(filter=df_filter,index=None,bin_min=-500,bin_max=10,savefig=True)\n",
    "plt.close()\n",
    "\n",
    "df_filter = {'pyasState':'hi','_vnc_status_cat':'intact'}\n",
    "T.plot_probe_distribution(filter=df_filter,index=None,bin_min=-500,bin_max=10,savefig=True)\n",
    "plt.close()\n",
    "\n",
    "df_filter = {'pyasState':'lo','_vnc_status_cat':'intact'}\n",
    "T.plot_probe_distribution(filter=df_filter,index=None,bin_min=-500,bin_max=10,savefig=True)\n",
    "plt.close()\n",
    "\n",
    "# Early\n",
    "df_filter = {'pyasState':'hi','_vnc_status_cat':'intact'}\n",
    "T.plot_probe_distribution(filter=df_filter,index=early_index,bin_min=-500,bin_max=10,savefig=True)\n",
    "plt.close()\n",
    "\n",
    "df_filter = {'pyasState':'lo','_vnc_status_cat':'intact'}\n",
    "T.plot_probe_distribution(filter=df_filter,index=early_index,bin_min=-500,bin_max=10,savefig=True)\n",
    "plt.close()\n",
    "\n",
    "# Late\n",
    "df_filter = {'pyasState':'hi','_vnc_status_cat':'intact'}\n",
    "T.plot_probe_distribution(filter=df_filter,index=late_index,bin_min=-500,bin_max=10,savefig=True)\n",
    "plt.close()\n",
    "\n",
    "df_filter = {'pyasState':'lo','_vnc_status_cat':'intact'}\n",
    "T.plot_probe_distribution(filter=df_filter,index=late_index,bin_min=-500,bin_max=10,savefig=True)\n",
    "plt.close()"
   ]
  },
  {
   "cell_type": "markdown",
   "metadata": {},
   "source": [
    "## 241105_F3_C1 -  Hot-Cell-Gal4>Chr in WT"
   ]
  },
  {
   "cell_type": "code",
   "execution_count": null,
   "metadata": {},
   "outputs": [],
   "source": [
    "T = Table('LEDFlashTriggerPiezoControl_241105_F3_C1_Table.parquet')\n",
    "# T.open_notes_files()\n",
    "# T.df.Trial[208].plot_probe_groups(format='png')\n",
    "# T.df.Trial[208].exclude()\n",
    "# [Trial(trial=208, 241105_F3_C1, dT=519.2152, ex=True)]\n",
    "T.add_df_category('cut',trial_min=209,categories='_vnc_status_cat')\n",
    "T.plot_outcomes(savefig=True)"
   ]
  },
  {
   "cell_type": "code",
   "execution_count": null,
   "metadata": {},
   "outputs": [],
   "source": [
    "probe_position_hm_df = T.plot_probe_position_heatmap(savefig=True,cmin=-500,cmax=10)"
   ]
  },
  {
   "cell_type": "code",
   "execution_count": null,
   "metadata": {},
   "outputs": [],
   "source": [
    "# Loop over the selected integers and plot something\n",
    "for tr in range(165,178):\n",
    "    T.df.loc[tr, 'Trial'].plot_probe_groups()"
   ]
  },
  {
   "cell_type": "code",
   "execution_count": null,
   "metadata": {},
   "outputs": [],
   "source": [
    "df_filter = {'pyasState':'hi','_vnc_status_cat':'intact'}\n",
    "early_index = T.df.index[0:100]\n",
    "late_index = T.df.index[100:]\n",
    "\n",
    "T.plot_probe_distribution(filter=None,index=None,bin_min=-500,bin_max=10,savefig=True)\n",
    "plt.close()\n",
    "\n",
    "df_filter = {'_vnc_status_cat':'cut'}\n",
    "T.plot_probe_distribution(filter=df_filter,index=None,bin_min=-500,bin_max=10,savefig=True)\n",
    "plt.close()\n",
    "\n",
    "df_filter['_vnc_status_cat']='intact'\n",
    "T.plot_probe_distribution(filter=df_filter,index=None,bin_min=-500,bin_max=10,savefig=True)\n",
    "plt.close()\n",
    "\n",
    "df_filter = {'pyasState':'hi','_vnc_status_cat':'intact'}\n",
    "T.plot_probe_distribution(filter=df_filter,index=None,bin_min=-500,bin_max=10,savefig=True)\n",
    "plt.close()\n",
    "\n",
    "df_filter = {'pyasState':'lo','_vnc_status_cat':'intact'}\n",
    "T.plot_probe_distribution(filter=df_filter,index=None,bin_min=-500,bin_max=10,savefig=True)\n",
    "plt.close()\n",
    "\n",
    "# Early\n",
    "df_filter = {'pyasState':'hi','_vnc_status_cat':'intact'}\n",
    "T.plot_probe_distribution(filter=df_filter,index=early_index,bin_min=-500,bin_max=10,savefig=True)\n",
    "plt.close()\n",
    "\n",
    "df_filter = {'pyasState':'lo','_vnc_status_cat':'intact'}\n",
    "T.plot_probe_distribution(filter=df_filter,index=early_index,bin_min=-500,bin_max=10,savefig=True)\n",
    "plt.close()\n",
    "\n",
    "# Late\n",
    "df_filter = {'pyasState':'hi','_vnc_status_cat':'intact'}\n",
    "T.plot_probe_distribution(filter=df_filter,index=late_index,bin_min=-500,bin_max=10,savefig=True)\n",
    "plt.close()\n",
    "\n",
    "df_filter = {'pyasState':'lo','_vnc_status_cat':'intact'}\n",
    "T.plot_probe_distribution(filter=df_filter,index=late_index,bin_min=-500,bin_max=10,savefig=True)\n",
    "plt.close()"
   ]
  },
  {
   "cell_type": "markdown",
   "metadata": {},
   "source": [
    "# Behavior with drivers (WT or w)"
   ]
  },
  {
   "cell_type": "markdown",
   "metadata": {},
   "source": [
    "## Green to Blue LED behavior"
   ]
  },
  {
   "cell_type": "markdown",
   "metadata": {},
   "source": [
    "### 250127_F1_C1 - w[1118];pJFRC7;31H05-Gal4"
   ]
  },
  {
   "cell_type": "code",
   "execution_count": null,
   "metadata": {},
   "outputs": [],
   "source": [
    "T = Table('LEDFlashTriggerPiezoControl_250127_F1_C1_Table.parquet')\n",
    "# T.open_notes_files()\n",
    "# T.df.Trial[507].plot_probe_groups(format='png')\n",
    "# T.exclude_trials()\n",
    "T.add_df_category('green',trial_min=4,trial_max=416,categories='_filtercube_status_cat')\n",
    "T.add_df_category('blue',trial_min=417,categories='_filtercube_status_cat')\n",
    "T.plot_outcomes(savefig=True)\n",
    "\n",
    "df_filter = {'pyasState':'hi','_filtercube_status_cat':'green'}\n",
    "# early_index = T.df.index[0:100]\n",
    "# late_index = T.df.index[100:]\n",
    "\n",
    "# T.plot_probe_distribution(filter=None,index=None,bin_min=-500,bin_max=10,savefig=True)\n",
    "# plt.close()\n",
    "\n",
    "df_filter_list = [{'pyasState':'hi','_filtercube_status_cat':'green'},\n",
    "                  {'pyasState':'lo','_filtercube_status_cat':'green'},\n",
    "                  {'pyasState':'hi','_filtercube_status_cat':'blue'},\n",
    "                  {'pyasState':'lo','_filtercube_status_cat':'blue'}]\n",
    "\n",
    "for flt in df_filter_list:\n",
    "    T.plot_probe_distribution(filter=flt,index=None,bin_min=-500,bin_max=10,savefig=True)\n",
    "\n",
    "# plt.close()"
   ]
  },
  {
   "cell_type": "code",
   "execution_count": null,
   "metadata": {},
   "outputs": [],
   "source": [
    "hmdf = T.plot_probe_position_heatmap(savefig=True,cmin=-450, cmax=-10)"
   ]
  },
  {
   "cell_type": "code",
   "execution_count": null,
   "metadata": {},
   "outputs": [],
   "source": [
    "plt.close()"
   ]
  },
  {
   "cell_type": "markdown",
   "metadata": {},
   "source": [
    "### 250127_F2_C1 - w[1118];pJFRC7;31H05-Gal4"
   ]
  },
  {
   "cell_type": "code",
   "execution_count": null,
   "metadata": {},
   "outputs": [],
   "source": [
    "T = Table('LEDFlashTriggerPiezoControl_250127_F2_C1_Table.parquet')\n",
    "T.add_df_category('green',trial_min=1,trial_max=415,categories='_filtercube_status_cat')\n",
    "T.add_df_category('blue',trial_min=417,categories='_filtercube_status_cat')"
   ]
  },
  {
   "cell_type": "code",
   "execution_count": null,
   "metadata": {},
   "outputs": [],
   "source": [
    "T.plot_outcomes(savefig=True)"
   ]
  },
  {
   "cell_type": "code",
   "execution_count": null,
   "metadata": {},
   "outputs": [],
   "source": [
    "df_filter = {'pyasState':'hi','_filtercube_status_cat':'green'}\n",
    "early_index = T.df.index[0:100]\n",
    "late_index = T.df.index[100:]\n",
    "\n",
    "# T.plot_probe_distribution(filter=None,index=None,bin_min=-500,bin_max=10,savefig=True)\n",
    "# plt.close()\n",
    "\n",
    "df_filter_list = [{'pyasState':'hi','_filtercube_status_cat':'green'},\n",
    "                  {'pyasState':'lo','_filtercube_status_cat':'green'},\n",
    "                  {'pyasState':'hi','_filtercube_status_cat':'blue'},\n",
    "                  {'pyasState':'lo','_filtercube_status_cat':'blue'}]\n",
    "\n",
    "for flt in df_filter_list:\n",
    "    T.plot_probe_distribution(filter=flt,index=None,bin_min=-500,bin_max=10,savefig=True)\n",
    "\n",
    "# plt.close()\n"
   ]
  },
  {
   "cell_type": "code",
   "execution_count": null,
   "metadata": {},
   "outputs": [],
   "source": [
    "index = T.df.index[0:400]\n",
    "hmdf = T.plot_probe_position_heatmap(index = index,format='svg',cmin=-450, cmax=-10)"
   ]
  },
  {
   "cell_type": "code",
   "execution_count": null,
   "metadata": {},
   "outputs": [],
   "source": [
    "# T.plot_some_trials(index=T.df.loc[83:85].index,savefig=True)\n",
    "# T.loc[83:85]\n",
    "# T._excluded_df.loc[84, 'Trial'].plot_probe_groups(use_full_y = True,savefig=False)\n",
    "T.df.loc[170, 'Trial'].plot_probe_groups(from_zero=True,use_full_y=False,format='svg')"
   ]
  },
  {
   "cell_type": "code",
   "execution_count": null,
   "metadata": {},
   "outputs": [],
   "source": [
    "\n",
    "plt.close()"
   ]
  },
  {
   "cell_type": "markdown",
   "metadata": {},
   "source": [
    "### 250128_F1_C1 - w[1118];pJFRC7;31H05-Gal4"
   ]
  },
  {
   "cell_type": "code",
   "execution_count": null,
   "metadata": {},
   "outputs": [],
   "source": [
    "T = Table('LEDFlashTriggerPiezoControl_250128_F1_C1_Table.parquet')\n",
    "T.add_df_category('green',trial_min=2,trial_max=582,categories='_filtercube_status_cat')\n",
    "T.add_df_category('blue',trial_min=583,categories='_filtercube_status_cat')\n",
    "\n",
    "# lst = \n",
    "# # T.exclude_list_of_trials(list=lst, reason='Tracking fails')\n",
    "# # T.exclude_list_of_trials(list=lst, reason='Ran out of solution')\n",
    "\n",
    "df_filter = {'pyasState':'hi','_filtercube_status_cat':'green'}\n",
    "early_index = T.df.index[0:100]\n",
    "late_index = T.df.index[100:]\n",
    "\n",
    "# df_filter_list = [{'pyasState':'hi','_filtercube_status_cat':'green'},\n",
    "#                   {'pyasState':'lo','_filtercube_status_cat':'green'},\n",
    "#                   {'pyasState':'hi','_filtercube_status_cat':'blue'},\n",
    "#                   {'pyasState':'lo','_filtercube_status_cat':'blue'}]\n",
    "\n",
    "# for flt in df_filter_list:\n",
    "#     T.plot_probe_distribution(filter=flt,index=None,bin_min=-500,bin_max=10,savefig=True)\n",
    "#     plt.close()\n",
    "\n",
    "T.plot_outcomes(savefig=True)\n"
   ]
  },
  {
   "cell_type": "code",
   "execution_count": null,
   "metadata": {},
   "outputs": [],
   "source": [
    "hmdf = T.plot_probe_position_heatmap(savefig=True,cmin=-450, cmax=-10)\n",
    "# plt.close()\n",
    "# plt.close()"
   ]
  },
  {
   "cell_type": "code",
   "execution_count": null,
   "metadata": {},
   "outputs": [],
   "source": [
    "T.plot_some_trials(index=T.df.loc[3:8].index)"
   ]
  },
  {
   "cell_type": "code",
   "execution_count": null,
   "metadata": {},
   "outputs": [],
   "source": [
    "T.open_notes_files()"
   ]
  },
  {
   "cell_type": "code",
   "execution_count": null,
   "metadata": {},
   "outputs": [],
   "source": [
    "poor_tracking = T.df.loc[54:89]\n",
    "poor_tracking.index\n",
    "T.exclude_list_of_trials(poor_tracking.index,'poor_tracking')"
   ]
  },
  {
   "cell_type": "code",
   "execution_count": null,
   "metadata": {},
   "outputs": [],
   "source": [
    "solution_ran_out = T.df.loc[350:374]\n",
    "solution_ran_out.index\n",
    "T.exclude_list_of_trials(solution_ran_out.index,'solution_ran_out')"
   ]
  },
  {
   "cell_type": "markdown",
   "metadata": {},
   "source": [
    "### 250204_F1_C1 - w[1118];pJFRC7;31H05-Gal4"
   ]
  },
  {
   "cell_type": "code",
   "execution_count": null,
   "metadata": {},
   "outputs": [],
   "source": [
    "T = Table('LEDFlashTriggerPiezoControl_250204_F1_C1_Table.parquet')\n",
    "T.add_df_category('green',trial_min=1,trial_max=576,categories='_filtercube_status_cat')\n",
    "T.add_df_category('blue',trial_min=577,categories='_filtercube_status_cat')\n",
    "\n",
    "df_filter = {'pyasState':'hi','_filtercube_status_cat':'green'}\n",
    "early_index = T.df.index[0:100]\n",
    "late_index = T.df.index[100:]\n",
    "\n",
    "# df_filter_list = [{'pyasState':'hi','_filtercube_status_cat':'green'},\n",
    "#                   {'pyasState':'lo','_filtercube_status_cat':'green'},\n",
    "#                   {'pyasState':'hi','_filtercube_status_cat':'blue'},\n",
    "#                   {'pyasState':'lo','_filtercube_status_cat':'blue'}]\n",
    "\n",
    "# for flt in df_filter_list:\n",
    "#     T.plot_probe_distribution(filter=flt,index=None,bin_min=-500,bin_max=10,savefig=True)\n",
    "#     plt.close()\n",
    "\n",
    "T.plot_outcomes(savefig=True)\n",
    "hmdf = T.plot_probe_position_heatmap(savefig=True,cmin=-450, cmax=10)\n",
    "# T.plot_some_trials(index=T.df.loc[320:327].index,savefig=True)"
   ]
  },
  {
   "cell_type": "markdown",
   "metadata": {},
   "source": [
    "### 250204_F2_C1 - w[1118];pJFRC7;31H05-Gal4"
   ]
  },
  {
   "cell_type": "code",
   "execution_count": null,
   "metadata": {},
   "outputs": [],
   "source": [
    "T = Table('LEDFlashTriggerPiezoControl_250204_F2_C1_Table.parquet')\n",
    "T.add_df_category('green',trial_min=1,trial_max=408,categories='_filtercube_status_cat')\n",
    "T.add_df_category('blue',trial_min=409,categories='_filtercube_status_cat')\n",
    "\n",
    "df_filter = {'pyasState':'hi','_filtercube_status_cat':'green'}\n",
    "early_index = T.df.index[0:100]\n",
    "late_index = T.df.index[100:]\n",
    "\n",
    "# df_filter_list = [{'pyasState':'hi','_filtercube_status_cat':'green'},\n",
    "#                   {'pyasState':'lo','_filtercube_status_cat':'green'},\n",
    "#                   {'pyasState':'hi','_filtercube_status_cat':'blue'},\n",
    "#                   {'pyasState':'lo','_filtercube_status_cat':'blue'}]\n",
    "\n",
    "# for flt in df_filter_list:\n",
    "#     T.plot_probe_distribution(filter=flt,index=None,bin_min=-500,bin_max=10,savefig=True)\n",
    "#     plt.close()\n",
    "\n",
    "T.plot_outcomes(savefig=True)\n"
   ]
  },
  {
   "cell_type": "code",
   "execution_count": null,
   "metadata": {},
   "outputs": [],
   "source": [
    "hmdf = T.plot_probe_position_heatmap(savefig=True,cmin=-450, cmax=10)"
   ]
  },
  {
   "cell_type": "code",
   "execution_count": null,
   "metadata": {},
   "outputs": [],
   "source": [
    "T.plot_some_trials(index=T.df.loc[320:327].index,savefig=True)"
   ]
  },
  {
   "cell_type": "code",
   "execution_count": null,
   "metadata": {},
   "outputs": [],
   "source": [
    "plt.close()"
   ]
  },
  {
   "cell_type": "markdown",
   "metadata": {},
   "source": [
    "## Blue to Green "
   ]
  },
  {
   "cell_type": "markdown",
   "metadata": {},
   "source": [
    "### 250211_F2_C1 - w[1118];pJFRC7;31H05-Gal4"
   ]
  },
  {
   "cell_type": "code",
   "execution_count": null,
   "metadata": {},
   "outputs": [],
   "source": [
    "T = Table('LEDFlashTriggerPiezoControl_250211_F2_C1_Table.parquet')\n",
    "T.add_df_category('blue',trial_min=1,trial_max=354,categories='_filtercube_status_cat')\n",
    "T.add_df_category('green',trial_min=355,categories='_filtercube_status_cat')\n",
    "\n",
    "df_filter = {'pyasState':'hi','_filtercube_status_cat':'green'}\n",
    "early_index = T.df.index[0:100]\n",
    "late_index = T.df.index[100:]\n",
    "\n",
    "# df_filter_list = [{'pyasState':'hi','_filtercube_status_cat':'green'},\n",
    "#                   {'pyasState':'lo','_filtercube_status_cat':'green'},\n",
    "#                   {'pyasState':'hi','_filtercube_status_cat':'blue'},\n",
    "#                   {'pyasState':'lo','_filtercube_status_cat':'blue'}]\n",
    "\n",
    "# for flt in df_filter_list:\n",
    "#     T.plot_probe_distribution(filter=flt,index=None,bin_min=-500,bin_max=10,savefig=True)\n",
    "#     plt.close()\n"
   ]
  },
  {
   "cell_type": "code",
   "execution_count": null,
   "metadata": {},
   "outputs": [],
   "source": [
    "T.plot_outcomes(savefig=True)"
   ]
  },
  {
   "cell_type": "code",
   "execution_count": null,
   "metadata": {},
   "outputs": [],
   "source": [
    "hmdf = T.plot_probe_position_heatmap(savefig=True,cmin=-450, cmax=10)"
   ]
  },
  {
   "cell_type": "code",
   "execution_count": null,
   "metadata": {},
   "outputs": [],
   "source": [
    "T.plot_some_trials(index=T.df.loc[127:135].index,savefig=True)\n"
   ]
  },
  {
   "cell_type": "code",
   "execution_count": null,
   "metadata": {},
   "outputs": [],
   "source": [
    "T.df.loc[128].Trial.plot_probe_groups()"
   ]
  },
  {
   "cell_type": "code",
   "execution_count": null,
   "metadata": {},
   "outputs": [],
   "source": [
    "T.df.loc[T.df['controlToggle']==0].shape"
   ]
  },
  {
   "cell_type": "markdown",
   "metadata": {},
   "source": [
    "### 250211_F3_C1 - w[1118];pJFRC7;31H05-Gal4"
   ]
  },
  {
   "cell_type": "code",
   "execution_count": null,
   "metadata": {},
   "outputs": [],
   "source": [
    "T = Table('LEDFlashTriggerPiezoControl_250211_F3_C1_Table.parquet')\n",
    "T.add_df_category('blue',trial_min=1,trial_max=489,categories='_filtercube_status_cat')\n",
    "T.add_df_category('green',trial_min=490,categories='_filtercube_status_cat')\n",
    "\n",
    "df_filter = {'pyasState':'hi','_filtercube_status_cat':'green'}\n",
    "early_index = T.df.index[0:100]\n",
    "late_index = T.df.index[100:]\n",
    "\n",
    "# df_filter_list = [{'pyasState':'hi','_filtercube_status_cat':'green'},\n",
    "#                   {'pyasState':'lo','_filtercube_status_cat':'green'},\n",
    "#                   {'pyasState':'hi','_filtercube_status_cat':'blue'},\n",
    "#                   {'pyasState':'lo','_filtercube_status_cat':'blue'}]\n",
    "\n",
    "# for flt in df_filter_list:\n",
    "#     T.plot_probe_distribution(filter=flt,index=None,bin_min=-500,bin_max=10,savefig=True)\n",
    "#     plt.close()\n",
    "\n"
   ]
  },
  {
   "cell_type": "code",
   "execution_count": null,
   "metadata": {},
   "outputs": [],
   "source": [
    "T.plot_outcomes(savefig=True)"
   ]
  },
  {
   "cell_type": "code",
   "execution_count": null,
   "metadata": {},
   "outputs": [],
   "source": [
    "hmdf = T.plot_probe_position_heatmap(savefig=True,cmin=-450, cmax=10)\n",
    "# T.plot_some_trials(index=T.df.loc[320:327].index,savefig=True)"
   ]
  },
  {
   "cell_type": "code",
   "execution_count": null,
   "metadata": {},
   "outputs": [],
   "source": [
    "T.plot_some_trials(index=T.df.loc[90:327].index,savefig=True)"
   ]
  },
  {
   "cell_type": "markdown",
   "metadata": {},
   "source": [
    "## W+ Blue to Green"
   ]
  },
  {
   "cell_type": "markdown",
   "metadata": {},
   "source": [
    "SS61350>w+;;pJFRC7 = +;pJFRC7/VT057379-p65ADZp in attP40; R20C08-ZpGdbd in attP2 (SS61350)"
   ]
  },
  {
   "cell_type": "markdown",
   "metadata": {},
   "source": [
    "### 250226_F2_C1 - SS61350>w+;;pJFRC7"
   ]
  },
  {
   "cell_type": "markdown",
   "metadata": {},
   "source": [
    "Nice fly_cell. There was the strange anticipation of the target change. There was a very long rest before switching to green LED. But even then "
   ]
  },
  {
   "cell_type": "code",
   "execution_count": null,
   "metadata": {},
   "outputs": [],
   "source": [
    "T = Table('LEDFlashTriggerPiezoControl_250226_F2_C1_Table.parquet')\n",
    "# T.open_notes_files()"
   ]
  },
  {
   "cell_type": "code",
   "execution_count": null,
   "metadata": {},
   "outputs": [],
   "source": [
    "T.add_df_category('blue',trial_min=1,trial_max=691,categories='_filtercube_status_cat')\n",
    "T.add_df_category('green',trial_min=692,categories='_filtercube_status_cat')"
   ]
  },
  {
   "cell_type": "code",
   "execution_count": null,
   "metadata": {},
   "outputs": [],
   "source": [
    "T.plot_outcomes(savefig=True)"
   ]
  },
  {
   "cell_type": "code",
   "execution_count": null,
   "metadata": {},
   "outputs": [],
   "source": [
    "hmdf = T.plot_probe_position_heatmap(savefig=True,cmin=-450, cmax=10)"
   ]
  },
  {
   "cell_type": "code",
   "execution_count": null,
   "metadata": {},
   "outputs": [],
   "source": [
    "T.df.Trial[691].plot_probe_groups(savefig=True)"
   ]
  },
  {
   "cell_type": "markdown",
   "metadata": {},
   "source": [
    "### 250227_F1_C1 - SS61350>w+;;pJFRC7"
   ]
  },
  {
   "cell_type": "markdown",
   "metadata": {},
   "source": [
    "Blue then Green. Really nice! Timeouts only begin with the green LED"
   ]
  },
  {
   "cell_type": "code",
   "execution_count": null,
   "metadata": {},
   "outputs": [],
   "source": [
    "T = Table('LEDFlashTriggerPiezoControl_250227_F1_C1_Table.parquet')\n",
    "# T.open_notes_files()"
   ]
  },
  {
   "cell_type": "code",
   "execution_count": null,
   "metadata": {},
   "outputs": [],
   "source": [
    "T.exclude_list_of_trials(T.df.loc[83:86].index,reason='probe slipped, can kick')"
   ]
  },
  {
   "cell_type": "code",
   "execution_count": null,
   "metadata": {},
   "outputs": [],
   "source": [
    "T.add_df_category('blue',trial_min=1,trial_max=510,categories='_filtercube_status_cat')\n",
    "T.add_df_category('green',trial_min=511,categories='_filtercube_status_cat')"
   ]
  },
  {
   "cell_type": "code",
   "execution_count": null,
   "metadata": {},
   "outputs": [],
   "source": [
    "T.plot_outcomes(savefig=True)"
   ]
  },
  {
   "cell_type": "code",
   "execution_count": null,
   "metadata": {},
   "outputs": [],
   "source": [
    "hmdf = T.plot_probe_position_heatmap(savefig=True,cmin=-450, cmax=10)"
   ]
  },
  {
   "cell_type": "code",
   "execution_count": null,
   "metadata": {},
   "outputs": [],
   "source": [
    "# T.plot_some_trials(index=T.df.loc[83:85].index,savefig=True)\n",
    "# T.loc[83:85]\n",
    "T._excluded_df.loc[84, 'Trial'].plot_probe_groups(use_full_y = True,savefig=True)"
   ]
  },
  {
   "cell_type": "code",
   "execution_count": null,
   "metadata": {},
   "outputs": [],
   "source": [
    "plt.close()"
   ]
  },
  {
   "cell_type": "code",
   "execution_count": null,
   "metadata": {},
   "outputs": [],
   "source": []
  },
  {
   "cell_type": "markdown",
   "metadata": {},
   "source": [
    "### 250227_F2_C1 - SS61350>w+;;pJFRC7"
   ]
  },
  {
   "cell_type": "markdown",
   "metadata": {},
   "source": [
    "Blue then Green. \n",
    "Nice learning! Some more timeouts and more as off trials with Green."
   ]
  },
  {
   "cell_type": "code",
   "execution_count": null,
   "metadata": {},
   "outputs": [],
   "source": [
    "T = Table('LEDFlashTriggerPiezoControl_250227_F2_C1_Table.parquet')\n",
    "# T.open_notes_files()"
   ]
  },
  {
   "cell_type": "code",
   "execution_count": null,
   "metadata": {},
   "outputs": [],
   "source": [
    "# T.exclude_list_of_trials(T.df.loc[83:86].index,reason='probe slipped, can kick')"
   ]
  },
  {
   "cell_type": "code",
   "execution_count": null,
   "metadata": {},
   "outputs": [],
   "source": [
    "T.add_df_category('blue',trial_min=1,trial_max=510,categories='_filtercube_status_cat')\n",
    "T.add_df_category('green',trial_min=511,categories='_filtercube_status_cat')"
   ]
  },
  {
   "cell_type": "code",
   "execution_count": null,
   "metadata": {},
   "outputs": [],
   "source": [
    "T.plot_outcomes(savefig=True)"
   ]
  },
  {
   "cell_type": "code",
   "execution_count": null,
   "metadata": {},
   "outputs": [],
   "source": [
    "hmdf = T.plot_probe_position_heatmap(savefig=True,cmin=-450, cmax=10)"
   ]
  },
  {
   "cell_type": "code",
   "execution_count": null,
   "metadata": {},
   "outputs": [],
   "source": [
    "# T.plot_some_trials(index=T.df.loc[83:85].index,savefig=True)\n",
    "# T.loc[83:85]\n",
    "T._excluded_df.loc[84, 'Trial'].plot_probe_groups(use_full_y = True,savefig=True)"
   ]
  },
  {
   "cell_type": "markdown",
   "metadata": {},
   "source": [
    "### 250227_F3_C1 - SS61350>w+;;pJFRC7"
   ]
  },
  {
   "cell_type": "markdown",
   "metadata": {},
   "source": [
    "?"
   ]
  },
  {
   "cell_type": "code",
   "execution_count": null,
   "metadata": {},
   "outputs": [],
   "source": [
    "T = Table('LEDFlashTriggerPiezoControl_250227_F3_C1_Table.parquet')\n",
    "# T.open_notes_files()"
   ]
  },
  {
   "cell_type": "code",
   "execution_count": null,
   "metadata": {},
   "outputs": [],
   "source": [
    "# T.exclude_list_of_trials(T.df.loc[83:86].index,reason='probe slipped, can kick')"
   ]
  },
  {
   "cell_type": "code",
   "execution_count": null,
   "metadata": {},
   "outputs": [],
   "source": [
    "T.add_df_category('blue',trial_min=1,trial_max=638,categories='_filtercube_status_cat')"
   ]
  },
  {
   "cell_type": "code",
   "execution_count": null,
   "metadata": {},
   "outputs": [],
   "source": [
    "T.plot_outcomes(savefig=True)"
   ]
  },
  {
   "cell_type": "code",
   "execution_count": null,
   "metadata": {},
   "outputs": [],
   "source": [
    "hmdf = T.plot_probe_position_heatmap(savefig=True,cmin=-450, cmax=10)"
   ]
  },
  {
   "cell_type": "code",
   "execution_count": null,
   "metadata": {},
   "outputs": [],
   "source": [
    "# T.plot_some_trials(index=T.df.loc[83:85].index,savefig=True)\n",
    "# T.loc[83:85]\n",
    "T._excluded_df.loc[84, 'Trial'].plot_probe_groups(use_full_y = True,savefig=True)"
   ]
  },
  {
   "cell_type": "markdown",
   "metadata": {},
   "source": [
    "### 250228_F1_C1 - SS61350>w+;;pJFRC7"
   ]
  },
  {
   "cell_type": "markdown",
   "metadata": {},
   "source": [
    "Blue then Green. \n",
    "This one takes a long time to learn in each block. Some more timeouts and more as off trials with Green."
   ]
  },
  {
   "cell_type": "code",
   "execution_count": null,
   "metadata": {},
   "outputs": [],
   "source": [
    "T = Table('LEDFlashTriggerPiezoControl_250228_F1_C1_Table.parquet')\n",
    "T.open_notes_files()"
   ]
  },
  {
   "cell_type": "code",
   "execution_count": null,
   "metadata": {},
   "outputs": [],
   "source": [
    "# T.exclude_list_of_trials(T.df.loc[83:86].index,reason='probe slipped, can kick')"
   ]
  },
  {
   "cell_type": "code",
   "execution_count": null,
   "metadata": {},
   "outputs": [],
   "source": [
    "T.add_df_category('blue',trial_min=1,trial_max=507,categories='_filtercube_status_cat')\n",
    "T.add_df_category('green',trial_min=508,categories='_filtercube_status_cat')"
   ]
  },
  {
   "cell_type": "code",
   "execution_count": null,
   "metadata": {},
   "outputs": [],
   "source": [
    "T.plot_outcomes(savefig=True)"
   ]
  },
  {
   "cell_type": "code",
   "execution_count": null,
   "metadata": {},
   "outputs": [],
   "source": [
    "hmdf = T.plot_probe_position_heatmap(savefig=True,cmin=-450, cmax=10)"
   ]
  },
  {
   "cell_type": "code",
   "execution_count": null,
   "metadata": {},
   "outputs": [],
   "source": [
    "# T.plot_some_trials(index=T.df.loc[83:85].index,savefig=True)\n",
    "# T.loc[83:85]\n",
    "T._excluded_df.loc[84, 'Trial'].plot_probe_groups(use_full_y = True,savefig=True)"
   ]
  },
  {
   "cell_type": "markdown",
   "metadata": {},
   "source": [
    "### 250304_F3_C1 - SS61350>w+;;pJFRC7"
   ]
  },
  {
   "cell_type": "markdown",
   "metadata": {},
   "source": [
    "Blue then Green. \n"
   ]
  },
  {
   "cell_type": "code",
   "execution_count": null,
   "metadata": {},
   "outputs": [],
   "source": [
    "T = Table('LEDFlashTriggerPiezoControl_250304_F3_C1_Table.parquet')\n",
    "# T.open_notes_files()"
   ]
  },
  {
   "cell_type": "code",
   "execution_count": null,
   "metadata": {},
   "outputs": [],
   "source": [
    "# T.exclude_list_of_trials(T.df.loc[83:86].index,reason='probe slipped, can kick')"
   ]
  },
  {
   "cell_type": "code",
   "execution_count": null,
   "metadata": {},
   "outputs": [],
   "source": [
    "T.add_df_category('blue',trial_min=1,trial_max=1450,categories='_filtercube_status_cat')\n",
    "# T.add_df_category('green',trial_min=508,categories='_filtercube_status_cat')"
   ]
  },
  {
   "cell_type": "code",
   "execution_count": null,
   "metadata": {},
   "outputs": [],
   "source": [
    "fig,ax = T.plot_outcomes(savefig=True)\n",
    "# fname = T.export_some_probe_groups(index=idx, from_zero=True)\n",
    "# fig = plot_probe_trace_from_pickle(fname)\n",
    "fig.canvas.draw()\n",
    "figname =  f\"./Figure1/example_outcomes_{T.day}_F{T.fly}_C{T.cell}_{T.genotype}_.svg\"\n",
    "fig.savefig(fname=figname, format='svg')\n",
    "fig"
   ]
  },
  {
   "cell_type": "code",
   "execution_count": null,
   "metadata": {},
   "outputs": [],
   "source": [
    "hmdf = T.plot_probe_position_heatmap(savefig=True,cmin=-450, cmax=10)"
   ]
  },
  {
   "cell_type": "code",
   "execution_count": null,
   "metadata": {},
   "outputs": [],
   "source": [
    "# T.plot_some_trials(index=T.df.loc[83:85].index,savefig=True)\n",
    "# T.loc[83:85]\n",
    "T._excluded_df.loc[84, 'Trial'].plot_probe_groups(use_full_y = True,savefig=True)"
   ]
  },
  {
   "cell_type": "markdown",
   "metadata": {},
   "source": [
    "### 250425_F1_C1 - +;pJFRC7;31H05-Gal4"
   ]
  },
  {
   "cell_type": "code",
   "execution_count": null,
   "metadata": {},
   "outputs": [],
   "source": [
    "T = Table('LEDFlashTriggerPiezoControl_250425_F1_C1_Table.parquet')\n",
    "# T.open_notes_files()"
   ]
  },
  {
   "cell_type": "code",
   "execution_count": null,
   "metadata": {},
   "outputs": [],
   "source": [
    "T.df"
   ]
  },
  {
   "cell_type": "code",
   "execution_count": null,
   "metadata": {},
   "outputs": [],
   "source": [
    "# T.exclude_list_of_trials(T.df.loc[83:86].index,reason='probe slipped, can kick')"
   ]
  },
  {
   "cell_type": "code",
   "execution_count": null,
   "metadata": {},
   "outputs": [],
   "source": [
    "T.add_df_category('blue',trial_min=1,categories='_filtercube_status_cat')\n",
    "# T.add_df_category('green',trial_min=508,categories='_filtercube_status_cat')"
   ]
  },
  {
   "cell_type": "code",
   "execution_count": null,
   "metadata": {},
   "outputs": [],
   "source": [
    "T.plot_outcomes(savefig=True)"
   ]
  },
  {
   "cell_type": "code",
   "execution_count": null,
   "metadata": {},
   "outputs": [],
   "source": [
    "hmdf = T.plot_probe_position_heatmap(savefig=True,cmin=-450, cmax=10)"
   ]
  },
  {
   "cell_type": "code",
   "execution_count": null,
   "metadata": {},
   "outputs": [],
   "source": [
    "tr = T.df.loc[104,'Trial']\n",
    "tr.plot_group('current_2')"
   ]
  },
  {
   "cell_type": "code",
   "execution_count": null,
   "metadata": {},
   "outputs": [],
   "source": [
    "tr.params"
   ]
  },
  {
   "cell_type": "markdown",
   "metadata": {},
   "source": [
    "## w+ Green to Blue"
   ]
  },
  {
   "cell_type": "markdown",
   "metadata": {},
   "source": [
    "### 250228_F2_C1 - SS61350>w+;;pJFRC7"
   ]
  },
  {
   "cell_type": "markdown",
   "metadata": {},
   "source": [
    "Green then Blue\n"
   ]
  },
  {
   "cell_type": "code",
   "execution_count": null,
   "metadata": {},
   "outputs": [],
   "source": [
    "T = Table('LEDFlashTriggerPiezoControl_250228_F2_C1_Table.parquet')"
   ]
  },
  {
   "cell_type": "code",
   "execution_count": null,
   "metadata": {},
   "outputs": [],
   "source": [
    "T.open_notes_files()"
   ]
  },
  {
   "cell_type": "code",
   "execution_count": null,
   "metadata": {},
   "outputs": [],
   "source": [
    "# T.exclude_list_of_trials(T.df.loc[83:86].index,reason='probe slipped, can kick')"
   ]
  },
  {
   "cell_type": "code",
   "execution_count": null,
   "metadata": {},
   "outputs": [],
   "source": [
    "T.add_df_category('green',trial_min=51,trial_max=713,categories='_filtercube_status_cat')"
   ]
  },
  {
   "cell_type": "code",
   "execution_count": null,
   "metadata": {},
   "outputs": [],
   "source": [
    "T.plot_outcomes(savefig=True)"
   ]
  },
  {
   "cell_type": "code",
   "execution_count": null,
   "metadata": {},
   "outputs": [],
   "source": [
    "index = T.df.index[50:450]\n",
    "hmdf = T.plot_probe_position_heatmap(index = index,format='svg',cmin=-450, cmax=-10)\n",
    "# hmdf = T.plot_probe_position_heatmap(savefig=True,cmin=-450, cmax=10)"
   ]
  },
  {
   "cell_type": "code",
   "execution_count": null,
   "metadata": {},
   "outputs": [],
   "source": [
    "# T.plot_some_trials(index=T.df.loc[83:85].index,savefig=True)\n",
    "# T.loc[83:85]\n",
    "# T._excluded_df.loc[84, 'Trial'].plot_probe_groups(use_full_y = True,savefig=False)\n",
    "T.df.loc[328, 'Trial'].plot_probe_groups(from_zero=True,use_full_y=False,format='svg')"
   ]
  },
  {
   "cell_type": "markdown",
   "metadata": {},
   "source": [
    "### 250304_F2_C1 - SS61350>w+;;pJFRC7"
   ]
  },
  {
   "cell_type": "code",
   "execution_count": null,
   "metadata": {},
   "outputs": [],
   "source": [
    "T = Table('LEDFlashTriggerPiezoControl_250304_F2_C1_Table.parquet')"
   ]
  },
  {
   "cell_type": "code",
   "execution_count": null,
   "metadata": {},
   "outputs": [],
   "source": [
    "T.open_notes_files()"
   ]
  },
  {
   "cell_type": "code",
   "execution_count": null,
   "metadata": {},
   "outputs": [],
   "source": [
    "# T.exclude_list_of_trials(T.df.loc[83:86].index,reason='probe slipped, can kick')"
   ]
  },
  {
   "cell_type": "code",
   "execution_count": null,
   "metadata": {},
   "outputs": [],
   "source": [
    "T.add_df_category('green',trial_min=1,trial_max=408,categories='_filtercube_status_cat')\n",
    "T.add_df_category('green',trial_min=409,trial_max=513,categories='_filtercube_status_cat')"
   ]
  },
  {
   "cell_type": "code",
   "execution_count": null,
   "metadata": {},
   "outputs": [],
   "source": [
    "T.plot_outcomes(savefig=True)"
   ]
  },
  {
   "cell_type": "code",
   "execution_count": null,
   "metadata": {},
   "outputs": [],
   "source": [
    "hmdf = T.plot_probe_position_heatmap(savefig=True,cmin=-450, cmax=10)\n",
    "\n",
    "DEBUG = True"
   ]
  },
  {
   "cell_type": "code",
   "execution_count": null,
   "metadata": {},
   "outputs": [],
   "source": [
    "# T.plot_some_trials(index=T.df.loc[83:85].index,savefig=True)\n",
    "# T.loc[83:85]\n",
    "# T._excluded_df.loc[84, 'Trial'].plot_probe_groups(use_full_y = True,savefig=False)\n",
    "T.df.loc[84, 'Trial'].plot_probe_groups(use_full_y = True,savefig=False)\n"
   ]
  },
  {
   "cell_type": "code",
   "execution_count": null,
   "metadata": {},
   "outputs": [],
   "source": []
  },
  {
   "cell_type": "markdown",
   "metadata": {},
   "source": [
    "# Figure 1"
   ]
  },
  {
   "cell_type": "markdown",
   "metadata": {},
   "source": [
    "# Create Figure 1 sinq"
   ]
  },
  {
   "cell_type": "code",
   "execution_count": 2,
   "metadata": {},
   "outputs": [
    {
     "name": "stdout",
     "output_type": "stream",
     "text": [
      "Found data directory: D:\\Data\n"
     ]
    },
    {
     "data": {
      "text/html": [
       "<div>\n",
       "<style scoped>\n",
       "    .dataframe tbody tr th:only-of-type {\n",
       "        vertical-align: middle;\n",
       "    }\n",
       "\n",
       "    .dataframe tbody tr th {\n",
       "        vertical-align: top;\n",
       "    }\n",
       "\n",
       "    .dataframe thead th {\n",
       "        text-align: right;\n",
       "    }\n",
       "</style>\n",
       "<table border=\"1\" class=\"dataframe\">\n",
       "  <thead>\n",
       "    <tr style=\"text-align: right;\">\n",
       "      <th></th>\n",
       "      <th>parquet</th>\n",
       "      <th>Table</th>\n",
       "      <th>genotype</th>\n",
       "      <th>duration</th>\n",
       "      <th>rms_velocity</th>\n",
       "      <th>outcome_fractions_no_as_no_mv</th>\n",
       "      <th>outcome_fractions_as_off</th>\n",
       "      <th>outcome_fractions_rest</th>\n",
       "      <th>outcome_fractions_no_as_mv</th>\n",
       "      <th>outcome_fractions_probe</th>\n",
       "      <th>outcome_fractions_as_off_late</th>\n",
       "      <th>outcome_fractions_timeout_fail</th>\n",
       "      <th>outcome_fractions_timeout</th>\n",
       "      <th>outcome_fractions_info</th>\n",
       "    </tr>\n",
       "  </thead>\n",
       "  <tbody>\n",
       "    <tr>\n",
       "      <th>250304_F3_C1</th>\n",
       "      <td>LEDFlashTriggerPiezoControl_250304_F3_C1_Table...</td>\n",
       "      <td>None</td>\n",
       "      <td>SS61350_pJFRC7</td>\n",
       "      <td>13404.06094</td>\n",
       "      <td>190728.766293</td>\n",
       "      <td>0.655862</td>\n",
       "      <td>0.171034</td>\n",
       "      <td>0.1</td>\n",
       "      <td>0.042759</td>\n",
       "      <td>0.017241</td>\n",
       "      <td>0.011034</td>\n",
       "      <td>0.002069</td>\n",
       "      <td>0.0</td>\n",
       "      <td>0.0</td>\n",
       "    </tr>\n",
       "  </tbody>\n",
       "</table>\n",
       "</div>"
      ],
      "text/plain": [
       "                                                        parquet Table  \\\n",
       "250304_F3_C1  LEDFlashTriggerPiezoControl_250304_F3_C1_Table...  None   \n",
       "\n",
       "                    genotype     duration   rms_velocity  \\\n",
       "250304_F3_C1  SS61350_pJFRC7  13404.06094  190728.766293   \n",
       "\n",
       "              outcome_fractions_no_as_no_mv  outcome_fractions_as_off  \\\n",
       "250304_F3_C1                       0.655862                  0.171034   \n",
       "\n",
       "              outcome_fractions_rest  outcome_fractions_no_as_mv  \\\n",
       "250304_F3_C1                     0.1                    0.042759   \n",
       "\n",
       "              outcome_fractions_probe  outcome_fractions_as_off_late  \\\n",
       "250304_F3_C1                 0.017241                       0.011034   \n",
       "\n",
       "              outcome_fractions_timeout_fail  outcome_fractions_timeout  \\\n",
       "250304_F3_C1                        0.002069                        0.0   \n",
       "\n",
       "              outcome_fractions_info  \n",
       "250304_F3_C1                     0.0  "
      ]
     },
     "execution_count": 2,
     "metadata": {},
     "output_type": "execute_result"
    }
   ],
   "source": [
    "sinq = Sinq(sinqname='Figure1')\n",
    "sinq.df\n"
   ]
  },
  {
   "cell_type": "code",
   "execution_count": 3,
   "metadata": {},
   "outputs": [
    {
     "name": "stdout",
     "output_type": "stream",
     "text": [
      "Found data directory: D:\\Data\n",
      "T = pd.read_parquet(\"D:\\\\Data\\\\250304\\\\250304_F3_C1\\\\LEDFlashTriggerPiezoControl_250304_F3_C1_Table.parquet\")\n",
      "Getting trials\n"
     ]
    },
    {
     "data": {
      "application/vnd.jupyter.widget-view+json": {
       "model_id": "67a0a3ad1a0f43beb075cf7bb68ef9b1",
       "version_major": 2,
       "version_minor": 0
      },
      "text/plain": [
       "Pandas Apply:   0%|          | 0/1450 [00:00<?, ?it/s]"
      ]
     },
     "metadata": {},
     "output_type": "display_data"
    },
    {
     "name": "stdout",
     "output_type": "stream",
     "text": [
      "Excluding trials:\n",
      "[]\n",
      "Column 'duration' already exists in the DataFrame.\n",
      "Column 'rms_velocity' already exists in the DataFrame.\n"
     ]
    },
    {
     "data": {
      "text/html": [
       "<div>\n",
       "<style scoped>\n",
       "    .dataframe tbody tr th:only-of-type {\n",
       "        vertical-align: middle;\n",
       "    }\n",
       "\n",
       "    .dataframe tbody tr th {\n",
       "        vertical-align: top;\n",
       "    }\n",
       "\n",
       "    .dataframe thead th {\n",
       "        text-align: right;\n",
       "    }\n",
       "</style>\n",
       "<table border=\"1\" class=\"dataframe\">\n",
       "  <thead>\n",
       "    <tr style=\"text-align: right;\">\n",
       "      <th></th>\n",
       "      <th>parquet</th>\n",
       "      <th>Table</th>\n",
       "      <th>genotype</th>\n",
       "      <th>duration</th>\n",
       "      <th>rms_velocity</th>\n",
       "      <th>outcome_fractions_no_as_no_mv</th>\n",
       "      <th>outcome_fractions_as_off</th>\n",
       "      <th>outcome_fractions_rest</th>\n",
       "      <th>outcome_fractions_no_as_mv</th>\n",
       "      <th>outcome_fractions_probe</th>\n",
       "      <th>outcome_fractions_as_off_late</th>\n",
       "      <th>outcome_fractions_timeout_fail</th>\n",
       "      <th>outcome_fractions_timeout</th>\n",
       "      <th>outcome_fractions_info</th>\n",
       "    </tr>\n",
       "  </thead>\n",
       "  <tbody>\n",
       "    <tr>\n",
       "      <th>250304_F3_C1</th>\n",
       "      <td>LEDFlashTriggerPiezoControl_250304_F3_C1_Table...</td>\n",
       "      <td>Day 250304, F3, C1: LEDFlashTriggerPiezoContro...</td>\n",
       "      <td>SS61350_pJFRC7</td>\n",
       "      <td>13404.06094</td>\n",
       "      <td>190728.766293</td>\n",
       "      <td>0.655862</td>\n",
       "      <td>0.171034</td>\n",
       "      <td>0.1</td>\n",
       "      <td>0.042759</td>\n",
       "      <td>0.017241</td>\n",
       "      <td>0.011034</td>\n",
       "      <td>0.002069</td>\n",
       "      <td>0.0</td>\n",
       "      <td>0.0</td>\n",
       "    </tr>\n",
       "  </tbody>\n",
       "</table>\n",
       "</div>"
      ],
      "text/plain": [
       "                                                        parquet  \\\n",
       "250304_F3_C1  LEDFlashTriggerPiezoControl_250304_F3_C1_Table...   \n",
       "\n",
       "                                                          Table  \\\n",
       "250304_F3_C1  Day 250304, F3, C1: LEDFlashTriggerPiezoContro...   \n",
       "\n",
       "                    genotype     duration   rms_velocity  \\\n",
       "250304_F3_C1  SS61350_pJFRC7  13404.06094  190728.766293   \n",
       "\n",
       "              outcome_fractions_no_as_no_mv  outcome_fractions_as_off  \\\n",
       "250304_F3_C1                       0.655862                  0.171034   \n",
       "\n",
       "              outcome_fractions_rest  outcome_fractions_no_as_mv  \\\n",
       "250304_F3_C1                     0.1                    0.042759   \n",
       "\n",
       "              outcome_fractions_probe  outcome_fractions_as_off_late  \\\n",
       "250304_F3_C1                 0.017241                       0.011034   \n",
       "\n",
       "              outcome_fractions_timeout_fail  outcome_fractions_timeout  \\\n",
       "250304_F3_C1                        0.002069                        0.0   \n",
       "\n",
       "              outcome_fractions_info  \n",
       "250304_F3_C1                     0.0  "
      ]
     },
     "execution_count": 3,
     "metadata": {},
     "output_type": "execute_result"
    }
   ],
   "source": [
    "\n",
    "# T = sinq.add_table(table=\"D:\\\\Data\\\\250304\\\\250304_F3_C1\\\\LEDFlashTriggerPiezoControl_250304_F3_C1_Table.parquet\")\n",
    "sinq.restore_table(dayflycell='250304_F3_C1')\n",
    "sinq.add_column('duration')\n",
    "sinq.add_column('rms_velocity')\n",
    "sinq.df"
   ]
  },
  {
   "cell_type": "markdown",
   "metadata": {},
   "source": [
    "## Testing functions"
   ]
  },
  {
   "cell_type": "code",
   "execution_count": 12,
   "metadata": {},
   "outputs": [],
   "source": [
    "T = sinq.T\n",
    "T.find_successful_trials()\n"
   ]
  },
  {
   "cell_type": "code",
   "execution_count": 18,
   "metadata": {},
   "outputs": [],
   "source": [
    "T.df['next_trial'] = T.df['Trial'].shift(-1)"
   ]
  },
  {
   "cell_type": "code",
   "execution_count": 19,
   "metadata": {},
   "outputs": [],
   "source": [
    "successes = T.df.loc[T.df['success']]"
   ]
  },
  {
   "cell_type": "code",
   "execution_count": 20,
   "metadata": {},
   "outputs": [
    {
     "data": {
      "text/plain": [
       "{'Vm_id': 0.0,\n",
       " 'background': 5.0,\n",
       " 'blueToggle': 1.0,\n",
       " 'controlToggle': 1.0,\n",
       " 'cueDelayDurInSec': 0.5,\n",
       " 'cueRampDurInSec': 0.07,\n",
       " 'cueStimDurInSec': 0.3,\n",
       " 'displacement': 1.0,\n",
       " 'displacements': [-1.0, -0.5, 0.5, 1.0],\n",
       " 'durSweep': 6.5,\n",
       " 'gain': [0, 0],\n",
       " 'mode': [0, 0],\n",
       " 'ndf': 1.0,\n",
       " 'ndfs': 1.0,\n",
       " 'postDurInSec': 0.5,\n",
       " 'posttriggerdelay': 0.05,\n",
       " 'preDurInSec': 1.0,\n",
       " 'probeZero': 640.0,\n",
       " 'protocol': 'LEDFlashTriggerPiezoControl',\n",
       " 'pyasState': 'hi',\n",
       " 'pyasWidth': 60.0,\n",
       " 'pyasXPosition': 360.0,\n",
       " 'routineToggle': 0.0,\n",
       " 'samples': 535340.0,\n",
       " 'sampratein': 50000.0,\n",
       " 'sampratein_control': 50000.0,\n",
       " 'samprateout': 50000.0,\n",
       " 'secondary_gain': [0, 0],\n",
       " 'startsample': 12044704.0,\n",
       " 'starttime': 240.89408,\n",
       " 'stimDurInSec': 5.0,\n",
       " 'stimhashval': 1.7,\n",
       " 'target_location': [360.0, 60.0],\n",
       " 'trial': 23.0,\n",
       " 'trialBlock': 1.0}"
      ]
     },
     "execution_count": 20,
     "metadata": {},
     "output_type": "execute_result"
    }
   ],
   "source": [
    "tr1 = successes.iloc[0].Trial\n",
    "tr2 = successes.iloc[0].next_trial\n",
    "tr1.params"
   ]
  },
  {
   "cell_type": "code",
   "execution_count": 32,
   "metadata": {},
   "outputs": [
    {
     "data": {
      "text/plain": [
       "np.int64(23)"
      ]
     },
     "execution_count": 32,
     "metadata": {},
     "output_type": "execute_result"
    }
   ],
   "source": [
    "successes.index[0]"
   ]
  },
  {
   "cell_type": "code",
   "execution_count": null,
   "metadata": {},
   "outputs": [],
   "source": [
    "index=T.df.loc[267:269].index"
   ]
  },
  {
   "cell_type": "code",
   "execution_count": 40,
   "metadata": {},
   "outputs": [
    {
     "name": "stdout",
     "output_type": "stream",
     "text": [
      "Index is incorrectly formatted. If using a single trial, enclose the number in brackets to get a dataframe []\n"
     ]
    },
    {
     "ename": "KeyError",
     "evalue": "\"None of [Index(['timestamp', 'background', 'cueDelayDurInSec', 'cueRampDurInSec',\\n       'cueStimDurInSec', 'displacement', 'displacements', 'durSweep', 'gain',\\n       'mode', 'ndf', 'ndfs', 'postDurInSec', 'posttriggerdelay',\\n       'preDurInSec', 'protocol', 'sampratein', 'samprateout',\\n       'secondary_gain', 'stimDurInSec', 'stimhashval', 'Vm_id', 'trialBlock',\\n       'blueToggle', 'controlToggle', 'routineToggle', 'pyasXPosition',\\n       'pyasWidth', 'probeZero', 'pyasState', 'target_location', 'starttime',\\n       'startsample', 'sampratein_control', 'samples', 'tags', 'excluded',\\n       'Trial', 'as_outcome', 'op_cnd_blocks', 'on_target', 'success',\\n       'next_trial'],\\n      dtype='object')] are in the [index]\"",
     "output_type": "error",
     "traceback": [
      "\u001b[1;31m---------------------------------------------------------------------------\u001b[0m",
      "\u001b[1;31mKeyError\u001b[0m                                  Traceback (most recent call last)",
      "Cell \u001b[1;32mIn[40], line 2\u001b[0m\n\u001b[0;32m      1\u001b[0m \u001b[38;5;66;03m# fig,ax = tr1.plot_probe_groups()\u001b[39;00m\n\u001b[1;32m----> 2\u001b[0m fig,ax \u001b[38;5;241m=\u001b[39m \u001b[43mT\u001b[49m\u001b[38;5;241;43m.\u001b[39;49m\u001b[43mplot_some_probe_groups\u001b[49m\u001b[43m(\u001b[49m\u001b[43mindex\u001b[49m\u001b[38;5;241;43m=\u001b[39;49m\u001b[43msuccesses\u001b[49m\u001b[38;5;241;43m.\u001b[39;49m\u001b[43mloc\u001b[49m\u001b[43m[\u001b[49m\u001b[38;5;241;43m23\u001b[39;49m\u001b[43m]\u001b[49m\u001b[38;5;241;43m.\u001b[39;49m\u001b[43mindex\u001b[49m\u001b[43m,\u001b[49m\u001b[43m \u001b[49m\u001b[43mfrom_zero\u001b[49m\u001b[38;5;241;43m=\u001b[39;49m\u001b[38;5;28;43;01mTrue\u001b[39;49;00m\u001b[43m)\u001b[49m\n\u001b[0;32m      3\u001b[0m fig\n",
      "File \u001b[1;32mc:\\Users\\tony\\Code\\FlyLearning\\mapd\\table_plotters.py:55\u001b[0m, in \u001b[0;36mauto_ax_and_save.<locals>.decorator.<locals>.wrapper\u001b[1;34m(self, ax, format, savefig, *args, **kwargs)\u001b[0m\n\u001b[0;32m     52\u001b[0m         \u001b[38;5;28;01mpass\u001b[39;00m  \u001b[38;5;66;03m# Fail silently if something's weird with trial_ids\u001b[39;00m\n\u001b[0;32m     54\u001b[0m \u001b[38;5;66;03m# Call the actual plotting function\u001b[39;00m\n\u001b[1;32m---> 55\u001b[0m result \u001b[38;5;241m=\u001b[39m \u001b[43mfunc\u001b[49m\u001b[43m(\u001b[49m\u001b[38;5;28;43mself\u001b[39;49m\u001b[43m,\u001b[49m\u001b[43m \u001b[49m\u001b[38;5;241;43m*\u001b[39;49m\u001b[43margs\u001b[49m\u001b[43m,\u001b[49m\u001b[43m \u001b[49m\u001b[43max\u001b[49m\u001b[38;5;241;43m=\u001b[39;49m\u001b[43max\u001b[49m\u001b[43m,\u001b[49m\u001b[43m \u001b[49m\u001b[38;5;241;43m*\u001b[39;49m\u001b[38;5;241;43m*\u001b[39;49m\u001b[43mkwargs\u001b[49m\u001b[43m)\u001b[49m\n\u001b[0;32m     57\u001b[0m \u001b[38;5;66;03m# Set title if a default is given and no title exists\u001b[39;00m\n\u001b[0;32m     58\u001b[0m \u001b[38;5;28;01mif\u001b[39;00m default_title: \u001b[38;5;66;03m# and not ax.get_title():\u001b[39;00m\n",
      "File \u001b[1;32mc:\\Users\\tony\\Code\\FlyLearning\\mapd\\table_plotters.py:112\u001b[0m, in \u001b[0;36mplot_some_probe_groups\u001b[1;34m(self, index, from_zero, ax, savefig, format)\u001b[0m\n\u001b[0;32m    109\u001b[0m     \u001b[38;5;167;01mKeyError\u001b[39;00m(\u001b[38;5;124m'\u001b[39m\u001b[38;5;124mIndex is not sequential\u001b[39m\u001b[38;5;124m'\u001b[39m)\n\u001b[0;32m    111\u001b[0m \u001b[38;5;28;01mtry\u001b[39;00m:\n\u001b[1;32m--> 112\u001b[0m     trial_df \u001b[38;5;241m=\u001b[39m \u001b[38;5;28;43mself\u001b[39;49m\u001b[38;5;241;43m.\u001b[39;49m\u001b[43mdf\u001b[49m\u001b[38;5;241;43m.\u001b[39;49m\u001b[43mloc\u001b[49m\u001b[43m[\u001b[49m\u001b[43mindex\u001b[49m\u001b[43m]\u001b[49m\n\u001b[0;32m    113\u001b[0m \u001b[38;5;28;01mexcept\u001b[39;00m \u001b[38;5;167;01mKeyError\u001b[39;00m \u001b[38;5;28;01mas\u001b[39;00m e:\n\u001b[0;32m    114\u001b[0m     \u001b[38;5;28mprint\u001b[39m(\u001b[38;5;124mf\u001b[39m\u001b[38;5;124m'\u001b[39m\u001b[38;5;124mIndex is incorrectly formatted. If using a single trial, enclose the number in brackets to get a dataframe []\u001b[39m\u001b[38;5;124m'\u001b[39m)\n",
      "File \u001b[1;32mc:\\Users\\tony\\miniconda3\\envs\\flop_py312\\Lib\\site-packages\\pandas\\core\\indexing.py:1191\u001b[0m, in \u001b[0;36m_LocationIndexer.__getitem__\u001b[1;34m(self, key)\u001b[0m\n\u001b[0;32m   1189\u001b[0m maybe_callable \u001b[38;5;241m=\u001b[39m com\u001b[38;5;241m.\u001b[39mapply_if_callable(key, \u001b[38;5;28mself\u001b[39m\u001b[38;5;241m.\u001b[39mobj)\n\u001b[0;32m   1190\u001b[0m maybe_callable \u001b[38;5;241m=\u001b[39m \u001b[38;5;28mself\u001b[39m\u001b[38;5;241m.\u001b[39m_check_deprecated_callable_usage(key, maybe_callable)\n\u001b[1;32m-> 1191\u001b[0m \u001b[38;5;28;01mreturn\u001b[39;00m \u001b[38;5;28;43mself\u001b[39;49m\u001b[38;5;241;43m.\u001b[39;49m\u001b[43m_getitem_axis\u001b[49m\u001b[43m(\u001b[49m\u001b[43mmaybe_callable\u001b[49m\u001b[43m,\u001b[49m\u001b[43m \u001b[49m\u001b[43maxis\u001b[49m\u001b[38;5;241;43m=\u001b[39;49m\u001b[43maxis\u001b[49m\u001b[43m)\u001b[49m\n",
      "File \u001b[1;32mc:\\Users\\tony\\miniconda3\\envs\\flop_py312\\Lib\\site-packages\\pandas\\core\\indexing.py:1420\u001b[0m, in \u001b[0;36m_LocIndexer._getitem_axis\u001b[1;34m(self, key, axis)\u001b[0m\n\u001b[0;32m   1417\u001b[0m     \u001b[38;5;28;01mif\u001b[39;00m \u001b[38;5;28mhasattr\u001b[39m(key, \u001b[38;5;124m\"\u001b[39m\u001b[38;5;124mndim\u001b[39m\u001b[38;5;124m\"\u001b[39m) \u001b[38;5;129;01mand\u001b[39;00m key\u001b[38;5;241m.\u001b[39mndim \u001b[38;5;241m>\u001b[39m \u001b[38;5;241m1\u001b[39m:\n\u001b[0;32m   1418\u001b[0m         \u001b[38;5;28;01mraise\u001b[39;00m \u001b[38;5;167;01mValueError\u001b[39;00m(\u001b[38;5;124m\"\u001b[39m\u001b[38;5;124mCannot index with multidimensional key\u001b[39m\u001b[38;5;124m\"\u001b[39m)\n\u001b[1;32m-> 1420\u001b[0m     \u001b[38;5;28;01mreturn\u001b[39;00m \u001b[38;5;28;43mself\u001b[39;49m\u001b[38;5;241;43m.\u001b[39;49m\u001b[43m_getitem_iterable\u001b[49m\u001b[43m(\u001b[49m\u001b[43mkey\u001b[49m\u001b[43m,\u001b[49m\u001b[43m \u001b[49m\u001b[43maxis\u001b[49m\u001b[38;5;241;43m=\u001b[39;49m\u001b[43maxis\u001b[49m\u001b[43m)\u001b[49m\n\u001b[0;32m   1422\u001b[0m \u001b[38;5;66;03m# nested tuple slicing\u001b[39;00m\n\u001b[0;32m   1423\u001b[0m \u001b[38;5;28;01mif\u001b[39;00m is_nested_tuple(key, labels):\n",
      "File \u001b[1;32mc:\\Users\\tony\\miniconda3\\envs\\flop_py312\\Lib\\site-packages\\pandas\\core\\indexing.py:1360\u001b[0m, in \u001b[0;36m_LocIndexer._getitem_iterable\u001b[1;34m(self, key, axis)\u001b[0m\n\u001b[0;32m   1357\u001b[0m \u001b[38;5;28mself\u001b[39m\u001b[38;5;241m.\u001b[39m_validate_key(key, axis)\n\u001b[0;32m   1359\u001b[0m \u001b[38;5;66;03m# A collection of keys\u001b[39;00m\n\u001b[1;32m-> 1360\u001b[0m keyarr, indexer \u001b[38;5;241m=\u001b[39m \u001b[38;5;28;43mself\u001b[39;49m\u001b[38;5;241;43m.\u001b[39;49m\u001b[43m_get_listlike_indexer\u001b[49m\u001b[43m(\u001b[49m\u001b[43mkey\u001b[49m\u001b[43m,\u001b[49m\u001b[43m \u001b[49m\u001b[43maxis\u001b[49m\u001b[43m)\u001b[49m\n\u001b[0;32m   1361\u001b[0m \u001b[38;5;28;01mreturn\u001b[39;00m \u001b[38;5;28mself\u001b[39m\u001b[38;5;241m.\u001b[39mobj\u001b[38;5;241m.\u001b[39m_reindex_with_indexers(\n\u001b[0;32m   1362\u001b[0m     {axis: [keyarr, indexer]}, copy\u001b[38;5;241m=\u001b[39m\u001b[38;5;28;01mTrue\u001b[39;00m, allow_dups\u001b[38;5;241m=\u001b[39m\u001b[38;5;28;01mTrue\u001b[39;00m\n\u001b[0;32m   1363\u001b[0m )\n",
      "File \u001b[1;32mc:\\Users\\tony\\miniconda3\\envs\\flop_py312\\Lib\\site-packages\\pandas\\core\\indexing.py:1558\u001b[0m, in \u001b[0;36m_LocIndexer._get_listlike_indexer\u001b[1;34m(self, key, axis)\u001b[0m\n\u001b[0;32m   1555\u001b[0m ax \u001b[38;5;241m=\u001b[39m \u001b[38;5;28mself\u001b[39m\u001b[38;5;241m.\u001b[39mobj\u001b[38;5;241m.\u001b[39m_get_axis(axis)\n\u001b[0;32m   1556\u001b[0m axis_name \u001b[38;5;241m=\u001b[39m \u001b[38;5;28mself\u001b[39m\u001b[38;5;241m.\u001b[39mobj\u001b[38;5;241m.\u001b[39m_get_axis_name(axis)\n\u001b[1;32m-> 1558\u001b[0m keyarr, indexer \u001b[38;5;241m=\u001b[39m \u001b[43max\u001b[49m\u001b[38;5;241;43m.\u001b[39;49m\u001b[43m_get_indexer_strict\u001b[49m\u001b[43m(\u001b[49m\u001b[43mkey\u001b[49m\u001b[43m,\u001b[49m\u001b[43m \u001b[49m\u001b[43maxis_name\u001b[49m\u001b[43m)\u001b[49m\n\u001b[0;32m   1560\u001b[0m \u001b[38;5;28;01mreturn\u001b[39;00m keyarr, indexer\n",
      "File \u001b[1;32mc:\\Users\\tony\\miniconda3\\envs\\flop_py312\\Lib\\site-packages\\pandas\\core\\indexes\\base.py:6200\u001b[0m, in \u001b[0;36mIndex._get_indexer_strict\u001b[1;34m(self, key, axis_name)\u001b[0m\n\u001b[0;32m   6197\u001b[0m \u001b[38;5;28;01melse\u001b[39;00m:\n\u001b[0;32m   6198\u001b[0m     keyarr, indexer, new_indexer \u001b[38;5;241m=\u001b[39m \u001b[38;5;28mself\u001b[39m\u001b[38;5;241m.\u001b[39m_reindex_non_unique(keyarr)\n\u001b[1;32m-> 6200\u001b[0m \u001b[38;5;28;43mself\u001b[39;49m\u001b[38;5;241;43m.\u001b[39;49m\u001b[43m_raise_if_missing\u001b[49m\u001b[43m(\u001b[49m\u001b[43mkeyarr\u001b[49m\u001b[43m,\u001b[49m\u001b[43m \u001b[49m\u001b[43mindexer\u001b[49m\u001b[43m,\u001b[49m\u001b[43m \u001b[49m\u001b[43maxis_name\u001b[49m\u001b[43m)\u001b[49m\n\u001b[0;32m   6202\u001b[0m keyarr \u001b[38;5;241m=\u001b[39m \u001b[38;5;28mself\u001b[39m\u001b[38;5;241m.\u001b[39mtake(indexer)\n\u001b[0;32m   6203\u001b[0m \u001b[38;5;28;01mif\u001b[39;00m \u001b[38;5;28misinstance\u001b[39m(key, Index):\n\u001b[0;32m   6204\u001b[0m     \u001b[38;5;66;03m# GH 42790 - Preserve name from an Index\u001b[39;00m\n",
      "File \u001b[1;32mc:\\Users\\tony\\miniconda3\\envs\\flop_py312\\Lib\\site-packages\\pandas\\core\\indexes\\base.py:6249\u001b[0m, in \u001b[0;36mIndex._raise_if_missing\u001b[1;34m(self, key, indexer, axis_name)\u001b[0m\n\u001b[0;32m   6247\u001b[0m \u001b[38;5;28;01mif\u001b[39;00m nmissing:\n\u001b[0;32m   6248\u001b[0m     \u001b[38;5;28;01mif\u001b[39;00m nmissing \u001b[38;5;241m==\u001b[39m \u001b[38;5;28mlen\u001b[39m(indexer):\n\u001b[1;32m-> 6249\u001b[0m         \u001b[38;5;28;01mraise\u001b[39;00m \u001b[38;5;167;01mKeyError\u001b[39;00m(\u001b[38;5;124mf\u001b[39m\u001b[38;5;124m\"\u001b[39m\u001b[38;5;124mNone of [\u001b[39m\u001b[38;5;132;01m{\u001b[39;00mkey\u001b[38;5;132;01m}\u001b[39;00m\u001b[38;5;124m] are in the [\u001b[39m\u001b[38;5;132;01m{\u001b[39;00maxis_name\u001b[38;5;132;01m}\u001b[39;00m\u001b[38;5;124m]\u001b[39m\u001b[38;5;124m\"\u001b[39m)\n\u001b[0;32m   6251\u001b[0m     not_found \u001b[38;5;241m=\u001b[39m \u001b[38;5;28mlist\u001b[39m(ensure_index(key)[missing_mask\u001b[38;5;241m.\u001b[39mnonzero()[\u001b[38;5;241m0\u001b[39m]]\u001b[38;5;241m.\u001b[39munique())\n\u001b[0;32m   6252\u001b[0m     \u001b[38;5;28;01mraise\u001b[39;00m \u001b[38;5;167;01mKeyError\u001b[39;00m(\u001b[38;5;124mf\u001b[39m\u001b[38;5;124m\"\u001b[39m\u001b[38;5;132;01m{\u001b[39;00mnot_found\u001b[38;5;132;01m}\u001b[39;00m\u001b[38;5;124m not in index\u001b[39m\u001b[38;5;124m\"\u001b[39m)\n",
      "\u001b[1;31mKeyError\u001b[0m: \"None of [Index(['timestamp', 'background', 'cueDelayDurInSec', 'cueRampDurInSec',\\n       'cueStimDurInSec', 'displacement', 'displacements', 'durSweep', 'gain',\\n       'mode', 'ndf', 'ndfs', 'postDurInSec', 'posttriggerdelay',\\n       'preDurInSec', 'protocol', 'sampratein', 'samprateout',\\n       'secondary_gain', 'stimDurInSec', 'stimhashval', 'Vm_id', 'trialBlock',\\n       'blueToggle', 'controlToggle', 'routineToggle', 'pyasXPosition',\\n       'pyasWidth', 'probeZero', 'pyasState', 'target_location', 'starttime',\\n       'startsample', 'sampratein_control', 'samples', 'tags', 'excluded',\\n       'Trial', 'as_outcome', 'op_cnd_blocks', 'on_target', 'success',\\n       'next_trial'],\\n      dtype='object')] are in the [index]\""
     ]
    }
   ],
   "source": [
    "# fig,ax = tr1.plot_probe_groups()\n",
    "fig,ax = T.plot_some_probe_groups(index=successes.loc[23].index, from_zero=True)\n",
    "fig"
   ]
  },
  {
   "cell_type": "code",
   "execution_count": 24,
   "metadata": {},
   "outputs": [
    {
     "data": {
      "image/png": "[encoded data removed]",
      "text/plain": [
       "<Figure size 1200x1200 with 1 Axes>"
      ]
     },
     "execution_count": 24,
     "metadata": {},
     "output_type": "execute_result"
    }
   ],
   "source": [
    "fig,ax = tr2.plot_probe_groups()\n",
    "fig"
   ]
  },
  {
   "cell_type": "code",
   "execution_count": 17,
   "metadata": {},
   "outputs": [
    {
     "data": {
      "text/plain": [
       "Trial(trial=23, 250304_F3_C1, dT=10.7068, ex=False)"
      ]
     },
     "execution_count": 17,
     "metadata": {},
     "output_type": "execute_result"
    }
   ],
   "source": [
    "tr"
   ]
  },
  {
   "cell_type": "markdown",
   "metadata": {},
   "source": [
    "## Figure 1D example traces"
   ]
  },
  {
   "cell_type": "code",
   "execution_count": null,
   "metadata": {},
   "outputs": [],
   "source": [
    "from mapd.table_export_methods import plot_probe_trace_from_pickle\n",
    "\n",
    "# # 250304_F3_D1\n",
    "# idx = T.df.loc[20:38].index\n",
    "# %matplotlib inline\n",
    "# # fig,ax = T.plot_some_trials(index=idx, from_zero=True)\n",
    "# # fig.canvas.draw()\n",
    "# # fig\n",
    "# fname = T.export_some_probe_groups(index=idx, from_zero=True)\n",
    "# fig = plot_probe_trace_from_pickle(fname)\n",
    "# fig.canvas.draw()\n",
    "# figname =  f\"./Figure1/example_trace_{T.day}_F{T.fly}_C{T.cell}_{T.genotype}_T{idx[0]}_{idx[-1]}.svg\"\n",
    "# fig.savefig(fname=figname, format='svg')\n",
    "# fig\n",
    "\n",
    "\n"
   ]
  },
  {
   "cell_type": "markdown",
   "metadata": {},
   "source": [
    "# Figure 1F - probe distributions"
   ]
  },
  {
   "cell_type": "code",
   "execution_count": null,
   "metadata": {},
   "outputs": [],
   "source": [
    "df_filter = {'pyasState':'hi'}\n",
    "# total_counts, total_N, probe_bins = T.probe_position_distribution(binwidth=2,bin_min=-500,bin_max=10,filter=df_filter)\n",
    "fig, ax = T.plot_probe_distribution(binwidth=2,bin_min=-500,bin_max=10,filter=df_filter, fmt='svg', total_counts=total_counts,total_N=total_N,probe_bins=probe_bins)\n",
    "fig.canvas.draw()\n",
    "fig"
   ]
  },
  {
   "cell_type": "code",
   "execution_count": null,
   "metadata": {},
   "outputs": [],
   "source": [
    "refresh_table_addons()"
   ]
  },
  {
   "cell_type": "code",
   "execution_count": null,
   "metadata": {},
   "outputs": [],
   "source": [
    "# sinq.T.outcome_fractions()\n",
    "fig,ax = sinq.T.plot_outcomes()\n",
    "fig"
   ]
  },
  {
   "cell_type": "code",
   "execution_count": null,
   "metadata": {},
   "outputs": [],
   "source": [
    "df_filter = {'pyasState':'lo'}\n",
    "total_counts, total_N, probe_bins = T.probe_position_distribution(binwidth=2,bin_min=-500,bin_max=10,filter=df_filter)\n",
    "fig, ax = T.plot_probe_distribution(binwidth=2,bin_min=-500,bin_max=10,filter=df_filter, fmt='svg', total_counts=total_counts,total_N=total_N,probe_bins=probe_bins)\n",
    "fig.canvas.draw()\n",
    "fig"
   ]
  },
  {
   "cell_type": "code",
   "execution_count": null,
   "metadata": {},
   "outputs": [],
   "source": [
    "figname =  f\"./Figure1/probe_distribution_{T.day}_F{T.fly}_C{T.cell}_{T.genotype}_PS_{df_filter['pyasState']}_.svg\"\n",
    "fig.savefig(fname=figname, format='svg')"
   ]
  },
  {
   "cell_type": "markdown",
   "metadata": {},
   "source": [
    "# Figure 2A - outcomes, how flies solve"
   ]
  },
  {
   "cell_type": "code",
   "execution_count": null,
   "metadata": {},
   "outputs": [],
   "source": [
    "T = Table('LEDFlashTriggerPiezoControl_250304_F3_C1_Table.parquet')\n",
    "T.add_df_category('blue',trial_min=1,trial_max=1450,categories='_filtercube_status_cat')\n",
    "\n",
    "fig,ax = T.plot_outcomes(savefig=True)\n",
    "# fname = T.export_some_probe_groups(index=idx, from_zero=True)\n",
    "# fig = plot_probe_trace_from_pickle(fname)\n",
    "fig.canvas.draw()\n",
    "figname =  f\"./Figure1/example_outcomes_{T.day}_F{T.fly}_C{T.cell}_{T.genotype}_.svg\"\n",
    "fig.savefig(fname=figname, format='svg')\n",
    "fig"
   ]
  },
  {
   "cell_type": "markdown",
   "metadata": {},
   "source": []
  }
 ],
 "metadata": {
  "kernelspec": {
   "display_name": "flop_py312",
   "language": "python",
   "name": "python3"
  },
  "language_info": {
   "codemirror_mode": {
    "name": "ipython",
    "version": 3
   },
   "file_extension": ".py",
   "mimetype": "text/x-python",
   "name": "python",
   "nbconvert_exporter": "python",
   "pygments_lexer": "ipython3",
   "version": "3.12.7"
  }
 },
 "nbformat": 4,
 "nbformat_minor": 2
}
