{
 "cells": [
  {
   "cell_type": "markdown",
   "metadata": {},
   "source": [
    "# Import"
   ]
  },
  {
   "cell_type": "code",
   "execution_count": 43,
   "metadata": {},
   "outputs": [
    {
     "name": "stdout",
     "output_type": "stream",
     "text": [
      "The autoreload extension is already loaded. To reload it, use:\n",
      "  %reload_ext autoreload\n"
     ]
    }
   ],
   "source": [
    "from scipy.io import loadmat\n",
    "import pandas as pd\n",
    "import os\n",
    "import matplotlib.pyplot as plt\n",
    "import numpy as np\n",
    "from mapd import Trial, Table, Sinq\n",
    "import h5py\n",
    "%load_ext autoreload\n",
    "%autoreload 2\n",
    "%matplotlib widget\n",
    "\n",
    "def refresh_table_plotters():\n",
    "    import importlib\n",
    "    import mapd.table_plotters as tps\n",
    "    importlib.reload(tps)\n",
    "\n",
    "    for name in dir(tps):\n",
    "        if name.startswith('_'):\n",
    "            continue\n",
    "        attr = getattr(tps, name)\n",
    "        setattr(Table, name, attr)"
   ]
  },
  {
   "cell_type": "markdown",
   "metadata": {},
   "source": [
    "# Whole cell recordings"
   ]
  },
  {
   "cell_type": "code",
   "execution_count": null,
   "metadata": {},
   "outputs": [],
   "source": [
    "df_filter = {'pyasState':'hi','_vnc_status_cat':'intact'}\n",
    "early_index = T.df.index[0:300]\n",
    "late_index = T.df.index[300:]\n",
    "\n",
    "T.plot_probe_distribution(filter=None,index=None,bin_min=-500,bin_max=10,savefig=True)\n",
    "plt.close()\n",
    "\n",
    "df_filter = {'pyasState':'hi'}\n",
    "T.plot_probe_distribution(filter=df_filter,index=None,bin_min=-500,bin_max=10,savefig=True)\n",
    "plt.close()\n",
    "\n",
    "df_filter = {'pyasState':'lo'}\n",
    "T.plot_probe_distribution(filter=df_filter,index=None,bin_min=-500,bin_max=10,savefig=True)\n",
    "plt.close()\n",
    "\n",
    "# Early\n",
    "df_filter = {'pyasState':'hi'}\n",
    "T.plot_probe_distribution(filter=df_filter,index=early_index,bin_min=-500,bin_max=10,savefig=True)\n",
    "plt.close()\n",
    "\n",
    "df_filter = {'pyasState':'lo'}\n",
    "T.plot_probe_distribution(filter=df_filter,index=early_index,bin_min=-500,bin_max=10,savefig=True)\n",
    "plt.close()\n",
    "\n",
    "# Late\n",
    "df_filter = {'pyasState':'hi'}\n",
    "T.plot_probe_distribution(filter=df_filter,index=late_index,bin_min=-500,bin_max=10,savefig=True)\n",
    "plt.close()\n",
    "\n",
    "df_filter = {'pyasState':'lo'}\n",
    "T.plot_probe_distribution(filter=df_filter,index=late_index,bin_min=-500,bin_max=10,savefig=True)\n",
    "plt.close()"
   ]
  },
  {
   "cell_type": "markdown",
   "metadata": {},
   "source": [
    "### 210302_F1_C2"
   ]
  },
  {
   "cell_type": "markdown",
   "metadata": {},
   "source": [
    "### 210319_F2_C1"
   ]
  },
  {
   "cell_type": "markdown",
   "metadata": {},
   "source": [
    "### 210331_F2_C1"
   ]
  },
  {
   "cell_type": "markdown",
   "metadata": {},
   "source": [
    "### 210405_F1_C1"
   ]
  },
  {
   "cell_type": "markdown",
   "metadata": {},
   "source": [
    "### 210602_F1_C1"
   ]
  },
  {
   "cell_type": "markdown",
   "metadata": {},
   "source": [
    "### 210604_F1_C1 - HC-LexA/13XLexAop-ChrimsonR;35C09/pJFRC7 75 ATR mixed in"
   ]
  },
  {
   "cell_type": "markdown",
   "metadata": {},
   "source": [
    "### 210903_F3_C1 - HC-LexA/13XLexAop-ChrimsonR;35C09/pJFRC7 75 ATR mixed in"
   ]
  },
  {
   "cell_type": "markdown",
   "metadata": {},
   "source": [
    "### 210907_F1_C1 - HC-LexA/13XLexAop-ChrimsonR;35C09/pJFRC7 75 ATR mixed in"
   ]
  },
  {
   "cell_type": "markdown",
   "metadata": {},
   "source": [
    "### 210908_F3_C1 - HC-LexA/13XLexAop-ChrimsonR;35C09/pJFRC7 75 ATR mixed in"
   ]
  },
  {
   "cell_type": "markdown",
   "metadata": {},
   "source": [
    "### 210915_F1_C1 - HC-LexA/13XLexAop-ChrimsonR;35C09/pJFRC7 75 ATR mixed in"
   ]
  },
  {
   "cell_type": "markdown",
   "metadata": {},
   "source": [
    "### 210917_F2_C1 - HC-LexA/13XLexAop-ChrimsonR;35C09/pJFRC7 75 ATR mixed in"
   ]
  },
  {
   "cell_type": "markdown",
   "metadata": {},
   "source": [
    "# Hot-Cell-Gal4"
   ]
  },
  {
   "cell_type": "markdown",
   "metadata": {},
   "source": [
    "## 241105_F2_C1 -  Hot-Cell-Gal4>Chr in WT"
   ]
  },
  {
   "cell_type": "code",
   "execution_count": null,
   "metadata": {},
   "outputs": [],
   "source": [
    "# T = Table('LEDFlashTriggerPiezoControl_241105_F2_C1_Table.parquet')\n",
    "# T.open_notes_files()\n",
    "# Trial(trial=246, 241121_F1_C1, dT=811.28836, ex=True) vnc was cut here\n",
    "T.df.Trial[246].exclude()\n",
    "T.add_df_category('cut',trial_min=247,categories='_vnc_status_cat')\n",
    "T.plot_outcomes(savefig=True)"
   ]
  },
  {
   "cell_type": "code",
   "execution_count": null,
   "metadata": {},
   "outputs": [],
   "source": [
    "probe_position_hm_df = T.plot_probe_position_heatmap(savefig=True,cmin=-500,cmax=10)"
   ]
  },
  {
   "cell_type": "code",
   "execution_count": null,
   "metadata": {},
   "outputs": [],
   "source": [
    "df_filter = {'pyasState':'hi','_vnc_status_cat':'intact'}\n",
    "early_index = T.df.index[0:100]\n",
    "late_index = T.df.index[100:]\n",
    "\n",
    "T.plot_probe_distribution(filter=None,index=None,bin_min=-500,bin_max=10,savefig=True)\n",
    "plt.close()\n",
    "\n",
    "df_filter = {'_vnc_status_cat':'cut'}\n",
    "T.plot_probe_distribution(filter=df_filter,index=None,bin_min=-500,bin_max=10,savefig=True)\n",
    "plt.close()\n",
    "\n",
    "df_filter['_vnc_status_cat']='intact'\n",
    "T.plot_probe_distribution(filter=df_filter,index=None,bin_min=-500,bin_max=10,savefig=True)\n",
    "plt.close()\n",
    "\n",
    "df_filter = {'pyasState':'hi','_vnc_status_cat':'intact'}\n",
    "T.plot_probe_distribution(filter=df_filter,index=None,bin_min=-500,bin_max=10,savefig=True)\n",
    "plt.close()\n",
    "\n",
    "df_filter = {'pyasState':'lo','_vnc_status_cat':'intact'}\n",
    "T.plot_probe_distribution(filter=df_filter,index=None,bin_min=-500,bin_max=10,savefig=True)\n",
    "plt.close()\n",
    "\n",
    "# Early\n",
    "df_filter = {'pyasState':'hi','_vnc_status_cat':'intact'}\n",
    "T.plot_probe_distribution(filter=df_filter,index=early_index,bin_min=-500,bin_max=10,savefig=True)\n",
    "plt.close()\n",
    "\n",
    "df_filter = {'pyasState':'lo','_vnc_status_cat':'intact'}\n",
    "T.plot_probe_distribution(filter=df_filter,index=early_index,bin_min=-500,bin_max=10,savefig=True)\n",
    "plt.close()\n",
    "\n",
    "# Late\n",
    "df_filter = {'pyasState':'hi','_vnc_status_cat':'intact'}\n",
    "T.plot_probe_distribution(filter=df_filter,index=late_index,bin_min=-500,bin_max=10,savefig=True)\n",
    "plt.close()\n",
    "\n",
    "df_filter = {'pyasState':'lo','_vnc_status_cat':'intact'}\n",
    "T.plot_probe_distribution(filter=df_filter,index=late_index,bin_min=-500,bin_max=10,savefig=True)\n",
    "plt.close()"
   ]
  },
  {
   "cell_type": "markdown",
   "metadata": {},
   "source": [
    "## 241105_F3_C1 -  Hot-Cell-Gal4>Chr in WT"
   ]
  },
  {
   "cell_type": "code",
   "execution_count": null,
   "metadata": {},
   "outputs": [],
   "source": [
    "T = Table('LEDFlashTriggerPiezoControl_241105_F3_C1_Table.parquet')\n",
    "# T.open_notes_files()\n",
    "# T.df.Trial[208].plot_probe_groups(format='png')\n",
    "# T.df.Trial[208].exclude()\n",
    "# [Trial(trial=208, 241105_F3_C1, dT=519.2152, ex=True)]\n",
    "T.add_df_category('cut',trial_min=209,categories='_vnc_status_cat')\n",
    "T.plot_outcomes(savefig=True)"
   ]
  },
  {
   "cell_type": "code",
   "execution_count": null,
   "metadata": {},
   "outputs": [],
   "source": [
    "probe_position_hm_df = T.plot_probe_position_heatmap(savefig=True,cmin=-500,cmax=10)"
   ]
  },
  {
   "cell_type": "code",
   "execution_count": null,
   "metadata": {},
   "outputs": [],
   "source": [
    "# Loop over the selected integers and plot something\n",
    "for tr in range(165,178):\n",
    "    T.df.loc[tr, 'Trial'].plot_probe_groups()"
   ]
  },
  {
   "cell_type": "code",
   "execution_count": null,
   "metadata": {},
   "outputs": [],
   "source": [
    "df_filter = {'pyasState':'hi','_vnc_status_cat':'intact'}\n",
    "early_index = T.df.index[0:100]\n",
    "late_index = T.df.index[100:]\n",
    "\n",
    "T.plot_probe_distribution(filter=None,index=None,bin_min=-500,bin_max=10,savefig=True)\n",
    "plt.close()\n",
    "\n",
    "df_filter = {'_vnc_status_cat':'cut'}\n",
    "T.plot_probe_distribution(filter=df_filter,index=None,bin_min=-500,bin_max=10,savefig=True)\n",
    "plt.close()\n",
    "\n",
    "df_filter['_vnc_status_cat']='intact'\n",
    "T.plot_probe_distribution(filter=df_filter,index=None,bin_min=-500,bin_max=10,savefig=True)\n",
    "plt.close()\n",
    "\n",
    "df_filter = {'pyasState':'hi','_vnc_status_cat':'intact'}\n",
    "T.plot_probe_distribution(filter=df_filter,index=None,bin_min=-500,bin_max=10,savefig=True)\n",
    "plt.close()\n",
    "\n",
    "df_filter = {'pyasState':'lo','_vnc_status_cat':'intact'}\n",
    "T.plot_probe_distribution(filter=df_filter,index=None,bin_min=-500,bin_max=10,savefig=True)\n",
    "plt.close()\n",
    "\n",
    "# Early\n",
    "df_filter = {'pyasState':'hi','_vnc_status_cat':'intact'}\n",
    "T.plot_probe_distribution(filter=df_filter,index=early_index,bin_min=-500,bin_max=10,savefig=True)\n",
    "plt.close()\n",
    "\n",
    "df_filter = {'pyasState':'lo','_vnc_status_cat':'intact'}\n",
    "T.plot_probe_distribution(filter=df_filter,index=early_index,bin_min=-500,bin_max=10,savefig=True)\n",
    "plt.close()\n",
    "\n",
    "# Late\n",
    "df_filter = {'pyasState':'hi','_vnc_status_cat':'intact'}\n",
    "T.plot_probe_distribution(filter=df_filter,index=late_index,bin_min=-500,bin_max=10,savefig=True)\n",
    "plt.close()\n",
    "\n",
    "df_filter = {'pyasState':'lo','_vnc_status_cat':'intact'}\n",
    "T.plot_probe_distribution(filter=df_filter,index=late_index,bin_min=-500,bin_max=10,savefig=True)\n",
    "plt.close()"
   ]
  },
  {
   "cell_type": "markdown",
   "metadata": {},
   "source": [
    "# Behavior with drivers (WT or w)"
   ]
  },
  {
   "cell_type": "markdown",
   "metadata": {},
   "source": [
    "## Green to Blue LED behavior"
   ]
  },
  {
   "cell_type": "markdown",
   "metadata": {},
   "source": [
    "### 250127_F1_C1 - w[1118];pJFRC7;31H05-Gal4"
   ]
  },
  {
   "cell_type": "code",
   "execution_count": null,
   "metadata": {},
   "outputs": [],
   "source": [
    "T = Table('LEDFlashTriggerPiezoControl_250127_F1_C1_Table.parquet')\n",
    "# T.open_notes_files()\n",
    "# T.df.Trial[507].plot_probe_groups(format='png')\n",
    "# T.exclude_trials()\n",
    "T.add_df_category('green',trial_min=4,trial_max=416,categories='_filtercube_status_cat')\n",
    "T.add_df_category('blue',trial_min=417,categories='_filtercube_status_cat')\n",
    "T.plot_outcomes(savefig=True)\n",
    "\n",
    "df_filter = {'pyasState':'hi','_filtercube_status_cat':'green'}\n",
    "# early_index = T.df.index[0:100]\n",
    "# late_index = T.df.index[100:]\n",
    "\n",
    "# T.plot_probe_distribution(filter=None,index=None,bin_min=-500,bin_max=10,savefig=True)\n",
    "# plt.close()\n",
    "\n",
    "df_filter_list = [{'pyasState':'hi','_filtercube_status_cat':'green'},\n",
    "                  {'pyasState':'lo','_filtercube_status_cat':'green'},\n",
    "                  {'pyasState':'hi','_filtercube_status_cat':'blue'},\n",
    "                  {'pyasState':'lo','_filtercube_status_cat':'blue'}]\n",
    "\n",
    "for flt in df_filter_list:\n",
    "    T.plot_probe_distribution(filter=flt,index=None,bin_min=-500,bin_max=10,savefig=True)\n",
    "\n",
    "# plt.close()"
   ]
  },
  {
   "cell_type": "code",
   "execution_count": null,
   "metadata": {},
   "outputs": [],
   "source": [
    "hmdf = T.plot_probe_position_heatmap(savefig=True,cmin=-450, cmax=-10)"
   ]
  },
  {
   "cell_type": "code",
   "execution_count": null,
   "metadata": {},
   "outputs": [],
   "source": [
    "plt.close()"
   ]
  },
  {
   "cell_type": "markdown",
   "metadata": {},
   "source": [
    "### 250127_F2_C1 - w[1118];pJFRC7;31H05-Gal4"
   ]
  },
  {
   "cell_type": "code",
   "execution_count": null,
   "metadata": {},
   "outputs": [],
   "source": [
    "T = Table('LEDFlashTriggerPiezoControl_250127_F2_C1_Table.parquet')\n",
    "T.add_df_category('green',trial_min=1,trial_max=415,categories='_filtercube_status_cat')\n",
    "T.add_df_category('blue',trial_min=417,categories='_filtercube_status_cat')"
   ]
  },
  {
   "cell_type": "code",
   "execution_count": null,
   "metadata": {},
   "outputs": [],
   "source": [
    "T.plot_outcomes(savefig=True)"
   ]
  },
  {
   "cell_type": "code",
   "execution_count": null,
   "metadata": {},
   "outputs": [],
   "source": [
    "df_filter = {'pyasState':'hi','_filtercube_status_cat':'green'}\n",
    "early_index = T.df.index[0:100]\n",
    "late_index = T.df.index[100:]\n",
    "\n",
    "# T.plot_probe_distribution(filter=None,index=None,bin_min=-500,bin_max=10,savefig=True)\n",
    "# plt.close()\n",
    "\n",
    "df_filter_list = [{'pyasState':'hi','_filtercube_status_cat':'green'},\n",
    "                  {'pyasState':'lo','_filtercube_status_cat':'green'},\n",
    "                  {'pyasState':'hi','_filtercube_status_cat':'blue'},\n",
    "                  {'pyasState':'lo','_filtercube_status_cat':'blue'}]\n",
    "\n",
    "for flt in df_filter_list:\n",
    "    T.plot_probe_distribution(filter=flt,index=None,bin_min=-500,bin_max=10,savefig=True)\n",
    "\n",
    "# plt.close()\n"
   ]
  },
  {
   "cell_type": "code",
   "execution_count": null,
   "metadata": {},
   "outputs": [],
   "source": [
    "index = T.df.index[0:400]\n",
    "hmdf = T.plot_probe_position_heatmap(index = index,format='svg',cmin=-450, cmax=-10)"
   ]
  },
  {
   "cell_type": "code",
   "execution_count": null,
   "metadata": {},
   "outputs": [],
   "source": [
    "# T.plot_some_trials(index=T.df.loc[83:85].index,savefig=True)\n",
    "# T.loc[83:85]\n",
    "# T._excluded_df.loc[84, 'Trial'].plot_probe_groups(use_full_y = True,savefig=False)\n",
    "T.df.loc[170, 'Trial'].plot_probe_groups(from_zero=True,use_full_y=False,format='svg')"
   ]
  },
  {
   "cell_type": "code",
   "execution_count": null,
   "metadata": {},
   "outputs": [],
   "source": [
    "\n",
    "plt.close()"
   ]
  },
  {
   "cell_type": "markdown",
   "metadata": {},
   "source": [
    "### 250128_F1_C1 - w[1118];pJFRC7;31H05-Gal4"
   ]
  },
  {
   "cell_type": "code",
   "execution_count": null,
   "metadata": {},
   "outputs": [],
   "source": [
    "T = Table('LEDFlashTriggerPiezoControl_250128_F1_C1_Table.parquet')\n",
    "T.add_df_category('green',trial_min=2,trial_max=582,categories='_filtercube_status_cat')\n",
    "T.add_df_category('blue',trial_min=583,categories='_filtercube_status_cat')\n",
    "\n",
    "# lst = \n",
    "# # T.exclude_list_of_trials(list=lst, reason='Tracking fails')\n",
    "# # T.exclude_list_of_trials(list=lst, reason='Ran out of solution')\n",
    "\n",
    "df_filter = {'pyasState':'hi','_filtercube_status_cat':'green'}\n",
    "early_index = T.df.index[0:100]\n",
    "late_index = T.df.index[100:]\n",
    "\n",
    "# df_filter_list = [{'pyasState':'hi','_filtercube_status_cat':'green'},\n",
    "#                   {'pyasState':'lo','_filtercube_status_cat':'green'},\n",
    "#                   {'pyasState':'hi','_filtercube_status_cat':'blue'},\n",
    "#                   {'pyasState':'lo','_filtercube_status_cat':'blue'}]\n",
    "\n",
    "# for flt in df_filter_list:\n",
    "#     T.plot_probe_distribution(filter=flt,index=None,bin_min=-500,bin_max=10,savefig=True)\n",
    "#     plt.close()\n",
    "\n",
    "T.plot_outcomes(savefig=True)\n"
   ]
  },
  {
   "cell_type": "code",
   "execution_count": null,
   "metadata": {},
   "outputs": [],
   "source": [
    "hmdf = T.plot_probe_position_heatmap(savefig=True,cmin=-450, cmax=-10)\n",
    "# plt.close()\n",
    "# plt.close()"
   ]
  },
  {
   "cell_type": "code",
   "execution_count": null,
   "metadata": {},
   "outputs": [],
   "source": [
    "T.plot_some_trials(index=T.df.loc[3:8].index)"
   ]
  },
  {
   "cell_type": "code",
   "execution_count": null,
   "metadata": {},
   "outputs": [],
   "source": [
    "T.open_notes_files()"
   ]
  },
  {
   "cell_type": "code",
   "execution_count": null,
   "metadata": {},
   "outputs": [],
   "source": [
    "poor_tracking = T.df.loc[54:89]\n",
    "poor_tracking.index\n",
    "T.exclude_list_of_trials(poor_tracking.index,'poor_tracking')"
   ]
  },
  {
   "cell_type": "code",
   "execution_count": null,
   "metadata": {},
   "outputs": [],
   "source": [
    "solution_ran_out = T.df.loc[350:374]\n",
    "solution_ran_out.index\n",
    "T.exclude_list_of_trials(solution_ran_out.index,'solution_ran_out')"
   ]
  },
  {
   "cell_type": "markdown",
   "metadata": {},
   "source": [
    "### 250204_F1_C1 - w[1118];pJFRC7;31H05-Gal4"
   ]
  },
  {
   "cell_type": "code",
   "execution_count": null,
   "metadata": {},
   "outputs": [],
   "source": [
    "T = Table('LEDFlashTriggerPiezoControl_250204_F1_C1_Table.parquet')\n",
    "T.add_df_category('green',trial_min=1,trial_max=576,categories='_filtercube_status_cat')\n",
    "T.add_df_category('blue',trial_min=577,categories='_filtercube_status_cat')\n",
    "\n",
    "df_filter = {'pyasState':'hi','_filtercube_status_cat':'green'}\n",
    "early_index = T.df.index[0:100]\n",
    "late_index = T.df.index[100:]\n",
    "\n",
    "# df_filter_list = [{'pyasState':'hi','_filtercube_status_cat':'green'},\n",
    "#                   {'pyasState':'lo','_filtercube_status_cat':'green'},\n",
    "#                   {'pyasState':'hi','_filtercube_status_cat':'blue'},\n",
    "#                   {'pyasState':'lo','_filtercube_status_cat':'blue'}]\n",
    "\n",
    "# for flt in df_filter_list:\n",
    "#     T.plot_probe_distribution(filter=flt,index=None,bin_min=-500,bin_max=10,savefig=True)\n",
    "#     plt.close()\n",
    "\n",
    "T.plot_outcomes(savefig=True)\n",
    "hmdf = T.plot_probe_position_heatmap(savefig=True,cmin=-450, cmax=10)\n",
    "# T.plot_some_trials(index=T.df.loc[320:327].index,savefig=True)"
   ]
  },
  {
   "cell_type": "markdown",
   "metadata": {},
   "source": [
    "### 250204_F2_C1 - w[1118];pJFRC7;31H05-Gal4"
   ]
  },
  {
   "cell_type": "code",
   "execution_count": null,
   "metadata": {},
   "outputs": [],
   "source": [
    "T = Table('LEDFlashTriggerPiezoControl_250204_F2_C1_Table.parquet')\n",
    "T.add_df_category('green',trial_min=1,trial_max=408,categories='_filtercube_status_cat')\n",
    "T.add_df_category('blue',trial_min=409,categories='_filtercube_status_cat')\n",
    "\n",
    "df_filter = {'pyasState':'hi','_filtercube_status_cat':'green'}\n",
    "early_index = T.df.index[0:100]\n",
    "late_index = T.df.index[100:]\n",
    "\n",
    "# df_filter_list = [{'pyasState':'hi','_filtercube_status_cat':'green'},\n",
    "#                   {'pyasState':'lo','_filtercube_status_cat':'green'},\n",
    "#                   {'pyasState':'hi','_filtercube_status_cat':'blue'},\n",
    "#                   {'pyasState':'lo','_filtercube_status_cat':'blue'}]\n",
    "\n",
    "# for flt in df_filter_list:\n",
    "#     T.plot_probe_distribution(filter=flt,index=None,bin_min=-500,bin_max=10,savefig=True)\n",
    "#     plt.close()\n",
    "\n",
    "T.plot_outcomes(savefig=True)\n"
   ]
  },
  {
   "cell_type": "code",
   "execution_count": null,
   "metadata": {},
   "outputs": [],
   "source": [
    "hmdf = T.plot_probe_position_heatmap(savefig=True,cmin=-450, cmax=10)"
   ]
  },
  {
   "cell_type": "code",
   "execution_count": null,
   "metadata": {},
   "outputs": [],
   "source": [
    "T.plot_some_trials(index=T.df.loc[320:327].index,savefig=True)"
   ]
  },
  {
   "cell_type": "code",
   "execution_count": null,
   "metadata": {},
   "outputs": [],
   "source": [
    "plt.close()"
   ]
  },
  {
   "cell_type": "markdown",
   "metadata": {},
   "source": [
    "## Blue to Green "
   ]
  },
  {
   "cell_type": "markdown",
   "metadata": {},
   "source": [
    "### 250211_F2_C1 - w[1118];pJFRC7;31H05-Gal4"
   ]
  },
  {
   "cell_type": "code",
   "execution_count": null,
   "metadata": {},
   "outputs": [],
   "source": [
    "T = Table('LEDFlashTriggerPiezoControl_250211_F2_C1_Table.parquet')\n",
    "T.add_df_category('blue',trial_min=1,trial_max=354,categories='_filtercube_status_cat')\n",
    "T.add_df_category('green',trial_min=355,categories='_filtercube_status_cat')\n",
    "\n",
    "df_filter = {'pyasState':'hi','_filtercube_status_cat':'green'}\n",
    "early_index = T.df.index[0:100]\n",
    "late_index = T.df.index[100:]\n",
    "\n",
    "# df_filter_list = [{'pyasState':'hi','_filtercube_status_cat':'green'},\n",
    "#                   {'pyasState':'lo','_filtercube_status_cat':'green'},\n",
    "#                   {'pyasState':'hi','_filtercube_status_cat':'blue'},\n",
    "#                   {'pyasState':'lo','_filtercube_status_cat':'blue'}]\n",
    "\n",
    "# for flt in df_filter_list:\n",
    "#     T.plot_probe_distribution(filter=flt,index=None,bin_min=-500,bin_max=10,savefig=True)\n",
    "#     plt.close()\n"
   ]
  },
  {
   "cell_type": "code",
   "execution_count": null,
   "metadata": {},
   "outputs": [],
   "source": [
    "T.plot_outcomes(savefig=True)"
   ]
  },
  {
   "cell_type": "code",
   "execution_count": null,
   "metadata": {},
   "outputs": [],
   "source": [
    "hmdf = T.plot_probe_position_heatmap(savefig=True,cmin=-450, cmax=10)"
   ]
  },
  {
   "cell_type": "code",
   "execution_count": null,
   "metadata": {},
   "outputs": [],
   "source": [
    "T.plot_some_trials(index=T.df.loc[127:135].index,savefig=True)\n"
   ]
  },
  {
   "cell_type": "code",
   "execution_count": null,
   "metadata": {},
   "outputs": [],
   "source": [
    "T.df.loc[128].Trial.plot_probe_groups()"
   ]
  },
  {
   "cell_type": "code",
   "execution_count": null,
   "metadata": {},
   "outputs": [],
   "source": [
    "T.df.loc[T.df['controlToggle']==0].shape"
   ]
  },
  {
   "cell_type": "markdown",
   "metadata": {},
   "source": [
    "### 250211_F3_C1 - w[1118];pJFRC7;31H05-Gal4"
   ]
  },
  {
   "cell_type": "code",
   "execution_count": null,
   "metadata": {},
   "outputs": [],
   "source": [
    "T = Table('LEDFlashTriggerPiezoControl_250211_F3_C1_Table.parquet')\n",
    "T.add_df_category('blue',trial_min=1,trial_max=489,categories='_filtercube_status_cat')\n",
    "T.add_df_category('green',trial_min=490,categories='_filtercube_status_cat')\n",
    "\n",
    "df_filter = {'pyasState':'hi','_filtercube_status_cat':'green'}\n",
    "early_index = T.df.index[0:100]\n",
    "late_index = T.df.index[100:]\n",
    "\n",
    "# df_filter_list = [{'pyasState':'hi','_filtercube_status_cat':'green'},\n",
    "#                   {'pyasState':'lo','_filtercube_status_cat':'green'},\n",
    "#                   {'pyasState':'hi','_filtercube_status_cat':'blue'},\n",
    "#                   {'pyasState':'lo','_filtercube_status_cat':'blue'}]\n",
    "\n",
    "# for flt in df_filter_list:\n",
    "#     T.plot_probe_distribution(filter=flt,index=None,bin_min=-500,bin_max=10,savefig=True)\n",
    "#     plt.close()\n",
    "\n"
   ]
  },
  {
   "cell_type": "code",
   "execution_count": null,
   "metadata": {},
   "outputs": [],
   "source": [
    "T.plot_outcomes(savefig=True)"
   ]
  },
  {
   "cell_type": "code",
   "execution_count": null,
   "metadata": {},
   "outputs": [],
   "source": [
    "hmdf = T.plot_probe_position_heatmap(savefig=True,cmin=-450, cmax=10)\n",
    "# T.plot_some_trials(index=T.df.loc[320:327].index,savefig=True)"
   ]
  },
  {
   "cell_type": "code",
   "execution_count": null,
   "metadata": {},
   "outputs": [],
   "source": [
    "T.plot_some_trials(index=T.df.loc[90:327].index,savefig=True)"
   ]
  },
  {
   "cell_type": "markdown",
   "metadata": {},
   "source": [
    "## W+ Blue to Green"
   ]
  },
  {
   "cell_type": "markdown",
   "metadata": {},
   "source": [
    "SS61350>w+;;pJFRC7 = +;pJFRC7/VT057379-p65ADZp in attP40; R20C08-ZpGdbd in attP2 (SS61350)"
   ]
  },
  {
   "cell_type": "markdown",
   "metadata": {},
   "source": [
    "### 250226_F2_C1 - SS61350>w+;;pJFRC7"
   ]
  },
  {
   "cell_type": "markdown",
   "metadata": {},
   "source": [
    "Nice fly_cell. There was the strange anticipation of the target change. There was a very long rest before switching to green LED. But even then "
   ]
  },
  {
   "cell_type": "code",
   "execution_count": null,
   "metadata": {},
   "outputs": [],
   "source": [
    "T = Table('LEDFlashTriggerPiezoControl_250226_F2_C1_Table.parquet')\n",
    "# T.open_notes_files()"
   ]
  },
  {
   "cell_type": "code",
   "execution_count": null,
   "metadata": {},
   "outputs": [],
   "source": [
    "T.add_df_category('blue',trial_min=1,trial_max=691,categories='_filtercube_status_cat')\n",
    "T.add_df_category('green',trial_min=692,categories='_filtercube_status_cat')"
   ]
  },
  {
   "cell_type": "code",
   "execution_count": null,
   "metadata": {},
   "outputs": [],
   "source": [
    "T.plot_outcomes(savefig=True)"
   ]
  },
  {
   "cell_type": "code",
   "execution_count": null,
   "metadata": {},
   "outputs": [],
   "source": [
    "hmdf = T.plot_probe_position_heatmap(savefig=True,cmin=-450, cmax=10)"
   ]
  },
  {
   "cell_type": "code",
   "execution_count": null,
   "metadata": {},
   "outputs": [],
   "source": [
    "T.df.Trial[691].plot_probe_groups(savefig=True)"
   ]
  },
  {
   "cell_type": "markdown",
   "metadata": {},
   "source": [
    "### 250227_F1_C1 - SS61350>w+;;pJFRC7"
   ]
  },
  {
   "cell_type": "markdown",
   "metadata": {},
   "source": [
    "Blue then Green. Really nice! Timeouts only begin with the green LED"
   ]
  },
  {
   "cell_type": "code",
   "execution_count": null,
   "metadata": {},
   "outputs": [],
   "source": [
    "T = Table('LEDFlashTriggerPiezoControl_250227_F1_C1_Table.parquet')\n",
    "# T.open_notes_files()"
   ]
  },
  {
   "cell_type": "code",
   "execution_count": null,
   "metadata": {},
   "outputs": [],
   "source": [
    "T.exclude_list_of_trials(T.df.loc[83:86].index,reason='probe slipped, can kick')"
   ]
  },
  {
   "cell_type": "code",
   "execution_count": null,
   "metadata": {},
   "outputs": [],
   "source": [
    "T.add_df_category('blue',trial_min=1,trial_max=510,categories='_filtercube_status_cat')\n",
    "T.add_df_category('green',trial_min=511,categories='_filtercube_status_cat')"
   ]
  },
  {
   "cell_type": "code",
   "execution_count": null,
   "metadata": {},
   "outputs": [],
   "source": [
    "T.plot_outcomes(savefig=True)"
   ]
  },
  {
   "cell_type": "code",
   "execution_count": null,
   "metadata": {},
   "outputs": [],
   "source": [
    "hmdf = T.plot_probe_position_heatmap(savefig=True,cmin=-450, cmax=10)"
   ]
  },
  {
   "cell_type": "code",
   "execution_count": null,
   "metadata": {},
   "outputs": [],
   "source": [
    "# T.plot_some_trials(index=T.df.loc[83:85].index,savefig=True)\n",
    "# T.loc[83:85]\n",
    "T._excluded_df.loc[84, 'Trial'].plot_probe_groups(use_full_y = True,savefig=True)"
   ]
  },
  {
   "cell_type": "code",
   "execution_count": null,
   "metadata": {},
   "outputs": [],
   "source": [
    "plt.close()"
   ]
  },
  {
   "cell_type": "code",
   "execution_count": null,
   "metadata": {},
   "outputs": [],
   "source": []
  },
  {
   "cell_type": "markdown",
   "metadata": {},
   "source": [
    "### 250227_F2_C1 - SS61350>w+;;pJFRC7"
   ]
  },
  {
   "cell_type": "markdown",
   "metadata": {},
   "source": [
    "Blue then Green. \n",
    "Nice learning! Some more timeouts and more as off trials with Green."
   ]
  },
  {
   "cell_type": "code",
   "execution_count": null,
   "metadata": {},
   "outputs": [],
   "source": [
    "T = Table('LEDFlashTriggerPiezoControl_250227_F2_C1_Table.parquet')\n",
    "# T.open_notes_files()"
   ]
  },
  {
   "cell_type": "code",
   "execution_count": null,
   "metadata": {},
   "outputs": [],
   "source": [
    "# T.exclude_list_of_trials(T.df.loc[83:86].index,reason='probe slipped, can kick')"
   ]
  },
  {
   "cell_type": "code",
   "execution_count": null,
   "metadata": {},
   "outputs": [],
   "source": [
    "T.add_df_category('blue',trial_min=1,trial_max=510,categories='_filtercube_status_cat')\n",
    "T.add_df_category('green',trial_min=511,categories='_filtercube_status_cat')"
   ]
  },
  {
   "cell_type": "code",
   "execution_count": null,
   "metadata": {},
   "outputs": [],
   "source": [
    "T.plot_outcomes(savefig=True)"
   ]
  },
  {
   "cell_type": "code",
   "execution_count": null,
   "metadata": {},
   "outputs": [],
   "source": [
    "hmdf = T.plot_probe_position_heatmap(savefig=True,cmin=-450, cmax=10)"
   ]
  },
  {
   "cell_type": "code",
   "execution_count": null,
   "metadata": {},
   "outputs": [],
   "source": [
    "# T.plot_some_trials(index=T.df.loc[83:85].index,savefig=True)\n",
    "# T.loc[83:85]\n",
    "T._excluded_df.loc[84, 'Trial'].plot_probe_groups(use_full_y = True,savefig=True)"
   ]
  },
  {
   "cell_type": "markdown",
   "metadata": {},
   "source": [
    "### 250227_F3_C1 - SS61350>w+;;pJFRC7"
   ]
  },
  {
   "cell_type": "markdown",
   "metadata": {},
   "source": [
    "?"
   ]
  },
  {
   "cell_type": "code",
   "execution_count": null,
   "metadata": {},
   "outputs": [],
   "source": [
    "T = Table('LEDFlashTriggerPiezoControl_250227_F3_C1_Table.parquet')\n",
    "# T.open_notes_files()"
   ]
  },
  {
   "cell_type": "code",
   "execution_count": null,
   "metadata": {},
   "outputs": [],
   "source": [
    "# T.exclude_list_of_trials(T.df.loc[83:86].index,reason='probe slipped, can kick')"
   ]
  },
  {
   "cell_type": "code",
   "execution_count": null,
   "metadata": {},
   "outputs": [],
   "source": [
    "T.add_df_category('blue',trial_min=1,trial_max=638,categories='_filtercube_status_cat')"
   ]
  },
  {
   "cell_type": "code",
   "execution_count": null,
   "metadata": {},
   "outputs": [],
   "source": [
    "T.plot_outcomes(savefig=True)"
   ]
  },
  {
   "cell_type": "code",
   "execution_count": null,
   "metadata": {},
   "outputs": [],
   "source": [
    "hmdf = T.plot_probe_position_heatmap(savefig=True,cmin=-450, cmax=10)"
   ]
  },
  {
   "cell_type": "code",
   "execution_count": null,
   "metadata": {},
   "outputs": [],
   "source": [
    "# T.plot_some_trials(index=T.df.loc[83:85].index,savefig=True)\n",
    "# T.loc[83:85]\n",
    "T._excluded_df.loc[84, 'Trial'].plot_probe_groups(use_full_y = True,savefig=True)"
   ]
  },
  {
   "cell_type": "markdown",
   "metadata": {},
   "source": [
    "### 250228_F1_C1 - SS61350>w+;;pJFRC7"
   ]
  },
  {
   "cell_type": "markdown",
   "metadata": {},
   "source": [
    "Blue then Green. \n",
    "This one takes a long time to learn in each block. Some more timeouts and more as off trials with Green."
   ]
  },
  {
   "cell_type": "code",
   "execution_count": null,
   "metadata": {},
   "outputs": [],
   "source": [
    "T = Table('LEDFlashTriggerPiezoControl_250228_F1_C1_Table.parquet')\n",
    "T.open_notes_files()"
   ]
  },
  {
   "cell_type": "code",
   "execution_count": null,
   "metadata": {},
   "outputs": [],
   "source": [
    "# T.exclude_list_of_trials(T.df.loc[83:86].index,reason='probe slipped, can kick')"
   ]
  },
  {
   "cell_type": "code",
   "execution_count": null,
   "metadata": {},
   "outputs": [],
   "source": [
    "T.add_df_category('blue',trial_min=1,trial_max=507,categories='_filtercube_status_cat')\n",
    "T.add_df_category('green',trial_min=508,categories='_filtercube_status_cat')"
   ]
  },
  {
   "cell_type": "code",
   "execution_count": null,
   "metadata": {},
   "outputs": [],
   "source": [
    "T.plot_outcomes(savefig=True)"
   ]
  },
  {
   "cell_type": "code",
   "execution_count": null,
   "metadata": {},
   "outputs": [],
   "source": [
    "hmdf = T.plot_probe_position_heatmap(savefig=True,cmin=-450, cmax=10)"
   ]
  },
  {
   "cell_type": "code",
   "execution_count": null,
   "metadata": {},
   "outputs": [],
   "source": [
    "# T.plot_some_trials(index=T.df.loc[83:85].index,savefig=True)\n",
    "# T.loc[83:85]\n",
    "T._excluded_df.loc[84, 'Trial'].plot_probe_groups(use_full_y = True,savefig=True)"
   ]
  },
  {
   "cell_type": "markdown",
   "metadata": {},
   "source": [
    "### 250304_F3_C1 - SS61350>w+;;pJFRC7"
   ]
  },
  {
   "cell_type": "markdown",
   "metadata": {},
   "source": [
    "Blue then Green. \n"
   ]
  },
  {
   "cell_type": "code",
   "execution_count": null,
   "metadata": {},
   "outputs": [],
   "source": [
    "T = Table('LEDFlashTriggerPiezoControl_250304_F3_C1_Table.parquet')\n",
    "# T.open_notes_files()"
   ]
  },
  {
   "cell_type": "code",
   "execution_count": null,
   "metadata": {},
   "outputs": [],
   "source": [
    "# T.exclude_list_of_trials(T.df.loc[83:86].index,reason='probe slipped, can kick')"
   ]
  },
  {
   "cell_type": "code",
   "execution_count": null,
   "metadata": {},
   "outputs": [],
   "source": [
    "T.add_df_category('blue',trial_min=1,trial_max=1450,categories='_filtercube_status_cat')\n",
    "# T.add_df_category('green',trial_min=508,categories='_filtercube_status_cat')"
   ]
  },
  {
   "cell_type": "code",
   "execution_count": null,
   "metadata": {},
   "outputs": [],
   "source": [
    "fig,ax = T.plot_outcomes(savefig=True)\n",
    "# fname = T.export_some_probe_groups(index=idx, from_zero=True)\n",
    "# fig = plot_probe_trace_from_pickle(fname)\n",
    "fig.canvas.draw()\n",
    "figname =  f\"./Figure1/example_outcomes_{T.day}_F{T.fly}_C{T.cell}_{T.genotype}_.svg\"\n",
    "fig.savefig(fname=figname, format='svg')\n",
    "fig"
   ]
  },
  {
   "cell_type": "code",
   "execution_count": null,
   "metadata": {},
   "outputs": [],
   "source": [
    "hmdf = T.plot_probe_position_heatmap(savefig=True,cmin=-450, cmax=10)"
   ]
  },
  {
   "cell_type": "code",
   "execution_count": null,
   "metadata": {},
   "outputs": [],
   "source": [
    "# T.plot_some_trials(index=T.df.loc[83:85].index,savefig=True)\n",
    "# T.loc[83:85]\n",
    "T._excluded_df.loc[84, 'Trial'].plot_probe_groups(use_full_y = True,savefig=True)"
   ]
  },
  {
   "cell_type": "markdown",
   "metadata": {},
   "source": [
    "### 250425_F1_C1 - +;pJFRC7;31H05-Gal4"
   ]
  },
  {
   "cell_type": "code",
   "execution_count": null,
   "metadata": {},
   "outputs": [],
   "source": [
    "T = Table('LEDFlashTriggerPiezoControl_250425_F1_C1_Table.parquet')\n",
    "# T.open_notes_files()"
   ]
  },
  {
   "cell_type": "code",
   "execution_count": null,
   "metadata": {},
   "outputs": [],
   "source": [
    "T.df"
   ]
  },
  {
   "cell_type": "code",
   "execution_count": null,
   "metadata": {},
   "outputs": [],
   "source": [
    "# T.exclude_list_of_trials(T.df.loc[83:86].index,reason='probe slipped, can kick')"
   ]
  },
  {
   "cell_type": "code",
   "execution_count": null,
   "metadata": {},
   "outputs": [],
   "source": [
    "T.add_df_category('blue',trial_min=1,categories='_filtercube_status_cat')\n",
    "# T.add_df_category('green',trial_min=508,categories='_filtercube_status_cat')"
   ]
  },
  {
   "cell_type": "code",
   "execution_count": null,
   "metadata": {},
   "outputs": [],
   "source": [
    "T.plot_outcomes(savefig=True)"
   ]
  },
  {
   "cell_type": "code",
   "execution_count": null,
   "metadata": {},
   "outputs": [],
   "source": [
    "hmdf = T.plot_probe_position_heatmap(savefig=True,cmin=-450, cmax=10)"
   ]
  },
  {
   "cell_type": "code",
   "execution_count": null,
   "metadata": {},
   "outputs": [],
   "source": [
    "tr = T.df.loc[104,'Trial']\n",
    "tr.plot_group('current_2')"
   ]
  },
  {
   "cell_type": "code",
   "execution_count": null,
   "metadata": {},
   "outputs": [],
   "source": [
    "tr.params"
   ]
  },
  {
   "cell_type": "markdown",
   "metadata": {},
   "source": [
    "## w+ Green to Blue"
   ]
  },
  {
   "cell_type": "markdown",
   "metadata": {},
   "source": [
    "### 250228_F2_C1 - SS61350>w+;;pJFRC7"
   ]
  },
  {
   "cell_type": "markdown",
   "metadata": {},
   "source": [
    "Green then Blue\n"
   ]
  },
  {
   "cell_type": "code",
   "execution_count": null,
   "metadata": {},
   "outputs": [],
   "source": [
    "T = Table('LEDFlashTriggerPiezoControl_250228_F2_C1_Table.parquet')"
   ]
  },
  {
   "cell_type": "code",
   "execution_count": null,
   "metadata": {},
   "outputs": [],
   "source": [
    "T.open_notes_files()"
   ]
  },
  {
   "cell_type": "code",
   "execution_count": null,
   "metadata": {},
   "outputs": [],
   "source": [
    "# T.exclude_list_of_trials(T.df.loc[83:86].index,reason='probe slipped, can kick')"
   ]
  },
  {
   "cell_type": "code",
   "execution_count": null,
   "metadata": {},
   "outputs": [],
   "source": [
    "T.add_df_category('green',trial_min=51,trial_max=713,categories='_filtercube_status_cat')"
   ]
  },
  {
   "cell_type": "code",
   "execution_count": null,
   "metadata": {},
   "outputs": [],
   "source": [
    "T.plot_outcomes(savefig=True)"
   ]
  },
  {
   "cell_type": "code",
   "execution_count": null,
   "metadata": {},
   "outputs": [],
   "source": [
    "index = T.df.index[50:450]\n",
    "hmdf = T.plot_probe_position_heatmap(index = index,format='svg',cmin=-450, cmax=-10)\n",
    "# hmdf = T.plot_probe_position_heatmap(savefig=True,cmin=-450, cmax=10)"
   ]
  },
  {
   "cell_type": "code",
   "execution_count": null,
   "metadata": {},
   "outputs": [],
   "source": [
    "# T.plot_some_trials(index=T.df.loc[83:85].index,savefig=True)\n",
    "# T.loc[83:85]\n",
    "# T._excluded_df.loc[84, 'Trial'].plot_probe_groups(use_full_y = True,savefig=False)\n",
    "T.df.loc[328, 'Trial'].plot_probe_groups(from_zero=True,use_full_y=False,format='svg')"
   ]
  },
  {
   "cell_type": "markdown",
   "metadata": {},
   "source": [
    "### 250304_F2_C1 - SS61350>w+;;pJFRC7"
   ]
  },
  {
   "cell_type": "code",
   "execution_count": null,
   "metadata": {},
   "outputs": [],
   "source": [
    "T = Table('LEDFlashTriggerPiezoControl_250304_F2_C1_Table.parquet')"
   ]
  },
  {
   "cell_type": "code",
   "execution_count": null,
   "metadata": {},
   "outputs": [],
   "source": [
    "T.open_notes_files()"
   ]
  },
  {
   "cell_type": "code",
   "execution_count": null,
   "metadata": {},
   "outputs": [],
   "source": [
    "# T.exclude_list_of_trials(T.df.loc[83:86].index,reason='probe slipped, can kick')"
   ]
  },
  {
   "cell_type": "code",
   "execution_count": null,
   "metadata": {},
   "outputs": [],
   "source": [
    "T.add_df_category('green',trial_min=1,trial_max=408,categories='_filtercube_status_cat')\n",
    "T.add_df_category('green',trial_min=409,trial_max=513,categories='_filtercube_status_cat')"
   ]
  },
  {
   "cell_type": "code",
   "execution_count": null,
   "metadata": {},
   "outputs": [],
   "source": [
    "T.plot_outcomes(savefig=True)"
   ]
  },
  {
   "cell_type": "code",
   "execution_count": null,
   "metadata": {},
   "outputs": [],
   "source": [
    "hmdf = T.plot_probe_position_heatmap(savefig=True,cmin=-450, cmax=10)\n",
    "\n",
    "DEBUG = True"
   ]
  },
  {
   "cell_type": "code",
   "execution_count": null,
   "metadata": {},
   "outputs": [],
   "source": [
    "# T.plot_some_trials(index=T.df.loc[83:85].index,savefig=True)\n",
    "# T.loc[83:85]\n",
    "# T._excluded_df.loc[84, 'Trial'].plot_probe_groups(use_full_y = True,savefig=False)\n",
    "T.df.loc[84, 'Trial'].plot_probe_groups(use_full_y = True,savefig=False)\n"
   ]
  },
  {
   "cell_type": "markdown",
   "metadata": {},
   "source": [
    "# Figure 1"
   ]
  },
  {
   "cell_type": "markdown",
   "metadata": {},
   "source": [
    "## Figure 1D example traces"
   ]
  },
  {
   "cell_type": "code",
   "execution_count": null,
   "metadata": {},
   "outputs": [],
   "source": [
    "from mapd.table_export_methods import plot_probe_trace_from_pickle\n",
    "\n",
    "# # 250304_F3_D1\n",
    "# idx = T.df.loc[20:38].index\n",
    "# %matplotlib inline\n",
    "# # fig,ax = T.plot_some_trials(index=idx, from_zero=True)\n",
    "# # fig.canvas.draw()\n",
    "# # fig\n",
    "# fname = T.export_some_probe_groups(index=idx, from_zero=True)\n",
    "# fig = plot_probe_trace_from_pickle(fname)\n",
    "# fig.canvas.draw()\n",
    "# figname =  f\"./Figure1/example_trace_{T.day}_F{T.fly}_C{T.cell}_{T.genotype}_T{idx[0]}_{idx[-1]}.svg\"\n",
    "# fig.savefig(fname=figname, format='svg')\n",
    "# fig\n",
    "\n",
    "\n"
   ]
  },
  {
   "cell_type": "markdown",
   "metadata": {},
   "source": [
    "# Figure 1F - probe distributions"
   ]
  },
  {
   "cell_type": "code",
   "execution_count": null,
   "metadata": {},
   "outputs": [],
   "source": [
    "sinq = Sinq(sinqname='Figure1')\n"
   ]
  },
  {
   "cell_type": "code",
   "execution_count": null,
   "metadata": {},
   "outputs": [
    {
     "name": "stdout",
     "output_type": "stream",
     "text": [
      "Found data directory: D:\\Data\n",
      "T = pd.read_parquet(\"D:\\\\Data\\\\250304\\\\250304_F3_C1\\\\LEDFlashTriggerPiezoControl_250304_F3_C1_Table.parquet\")\n",
      "Getting trials\n"
     ]
    },
    {
     "data": {
      "application/vnd.jupyter.widget-view+json": {
       "model_id": "eeef8ce40f444deba37a1814a6622f3f",
       "version_major": 2,
       "version_minor": 0
      },
      "text/plain": [
       "Pandas Apply:   0%|          | 0/1450 [00:00<?, ?it/s]"
      ]
     },
     "metadata": {},
     "output_type": "display_data"
    },
    {
     "name": "stdout",
     "output_type": "stream",
     "text": [
      "Excluding trials:\n",
      "[]\n"
     ]
    }
   ],
   "source": [
    "T = Table('LEDFlashTriggerPiezoControl_250304_F3_C1_Table.parquet')\n",
    "T.fig_folder = './Figure1'"
   ]
  },
  {
   "cell_type": "code",
   "execution_count": null,
   "metadata": {},
   "outputs": [
    {
     "name": "stdout",
     "output_type": "stream",
     "text": [
      "hi (1-1450)\n",
      "svg\n"
     ]
    }
   ],
   "source": [
    "df_filter = {'pyasState':'hi'}\n",
    "# total_counts, total_N, probe_bins = T.probe_position_distribution(binwidth=2,bin_min=-500,bin_max=10,filter=df_filter)\n",
    "fig, ax = T.plot_probe_distribution(binwidth=2,bin_min=-500,bin_max=10,filter=df_filter, fmt='svg', total_counts=total_counts,total_N=total_N,probe_bins=probe_bins)\n",
    "fig.canvas.draw()\n",
    "fig"
   ]
  },
  {
   "cell_type": "code",
   "execution_count": 41,
   "metadata": {},
   "outputs": [
    {
     "name": "stdout",
     "output_type": "stream",
     "text": [
      "Calculating downsampled probe positions\n"
     ]
    },
    {
     "data": {
      "application/vnd.jupyter.widget-view+json": {
       "model_id": "3cfaac5313574791ba7ba391ab3457d0",
       "version_major": 2,
       "version_minor": 0
      },
      "text/plain": [
       "Pandas Apply:   0%|          | 0/700 [00:00<?, ?it/s]"
      ]
     },
     "metadata": {},
     "output_type": "display_data"
    },
    {
     "name": "stdout",
     "output_type": "stream",
     "text": [
      "lo (1-1450)\n",
      "Saving figure: ./Figure1/250304_F3_C1_SS61350_pJFRC7_probe_dist_lo_1_1450.svg\n"
     ]
    },
    {
     "data": {
      "image/png": "[encoded data removed]",
      "text/plain": [
       "<Figure size 1200x1200 with 1 Axes>"
      ]
     },
     "execution_count": 41,
     "metadata": {},
     "output_type": "execute_result"
    }
   ],
   "source": [
    "df_filter = {'pyasState':'lo'}\n",
    "total_counts, total_N, probe_bins = T.probe_position_distribution(binwidth=2,bin_min=-500,bin_max=10,filter=df_filter)\n",
    "fig, ax = T.plot_probe_distribution(binwidth=2,bin_min=-500,bin_max=10,filter=df_filter, fmt='svg', total_counts=total_counts,total_N=total_N,probe_bins=probe_bins)\n",
    "fig.canvas.draw()\n",
    "fig"
   ]
  },
  {
   "cell_type": "code",
   "execution_count": 22,
   "metadata": {},
   "outputs": [
    {
     "data": {
      "image/png": "[encoded data removed]",
      "text/plain": [
       "<Figure size 1200x1200 with 1 Axes>"
      ]
     },
     "execution_count": 22,
     "metadata": {},
     "output_type": "execute_result"
    }
   ],
   "source": [
    "fig"
   ]
  },
  {
   "cell_type": "code",
   "execution_count": 14,
   "metadata": {},
   "outputs": [],
   "source": [
    "fig\n",
    "figname =  f\"./Figure1/probe_distribution_{T.day}_F{T.fly}_C{T.cell}_{T.genotype}_PS_{df_filter['pyasState']}_.svg\"\n",
    "fig.savefig(fname=figname, format='svg')"
   ]
  },
  {
   "cell_type": "code",
   "execution_count": null,
   "metadata": {},
   "outputs": [
    {
     "name": "stdout",
     "output_type": "stream",
     "text": [
      "Using existing probe positions dataframe\n"
     ]
    }
   ],
   "source": [
    "ppdf = T.probe_positions_df()\n"
   ]
  },
  {
   "cell_type": "code",
   "execution_count": null,
   "metadata": {},
   "outputs": [],
   "source": [
    "fig = T.plot_probe_position_heatmap()"
   ]
  },
  {
   "cell_type": "code",
   "execution_count": null,
   "metadata": {},
   "outputs": [],
   "source": [
    "fig[0].canvas.draw()\n",
    "fig[0]"
   ]
  },
  {
   "cell_type": "code",
   "execution_count": null,
   "metadata": {},
   "outputs": [],
   "source": [
    "T.make_movie_from_index(index=idx)"
   ]
  },
  {
   "cell_type": "markdown",
   "metadata": {},
   "source": [
    "# Figure 2A - outcomes, how flies solve"
   ]
  },
  {
   "cell_type": "code",
   "execution_count": null,
   "metadata": {},
   "outputs": [],
   "source": [
    "T = Table('LEDFlashTriggerPiezoControl_250304_F3_C1_Table.parquet')\n",
    "T.add_df_category('blue',trial_min=1,trial_max=1450,categories='_filtercube_status_cat')\n",
    "\n",
    "fig,ax = T.plot_outcomes(savefig=True)\n",
    "# fname = T.export_some_probe_groups(index=idx, from_zero=True)\n",
    "# fig = plot_probe_trace_from_pickle(fname)\n",
    "fig.canvas.draw()\n",
    "figname =  f\"./Figure1/example_outcomes_{T.day}_F{T.fly}_C{T.cell}_{T.genotype}_.svg\"\n",
    "fig.savefig(fname=figname, format='svg')\n",
    "fig"
   ]
  },
  {
   "cell_type": "markdown",
   "metadata": {},
   "source": []
  }
 ],
 "metadata": {
  "kernelspec": {
   "display_name": "flop_py312",
   "language": "python",
   "name": "python3"
  },
  "language_info": {
   "codemirror_mode": {
    "name": "ipython",
    "version": 3
   },
   "file_extension": ".py",
   "mimetype": "text/x-python",
   "name": "python",
   "nbconvert_exporter": "python",
   "pygments_lexer": "ipython3",
   "version": "3.12.7"
  }
 },
 "nbformat": 4,
 "nbformat_minor": 2
}
