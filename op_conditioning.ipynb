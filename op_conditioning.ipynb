{
 "cells": [
  {
   "cell_type": "markdown",
   "metadata": {},
   "source": [
    "# Import"
   ]
  },
  {
   "cell_type": "code",
   "execution_count": null,
   "metadata": {},
   "outputs": [],
   "source": [
    "from scipy.io import loadmat\n",
    "import pandas as pd\n",
    "import os\n",
    "import matplotlib.pyplot as plt\n",
    "import numpy as np\n",
    "from mapd import Trial, Table\n",
    "import h5py\n",
    "%load_ext autoreload\n",
    "%autoreload 2\n",
    "%matplotlib widget"
   ]
  },
  {
   "cell_type": "markdown",
   "metadata": {},
   "source": [
    "# Whole cell recordings"
   ]
  },
  {
   "cell_type": "markdown",
   "metadata": {},
   "source": [
    "## 31H05 dim cell"
   ]
  },
  {
   "cell_type": "markdown",
   "metadata": {},
   "source": [
    "### 241115_F1_C1 - 31H05-Gal4>pJFRC7"
   ]
  },
  {
   "cell_type": "code",
   "execution_count": null,
   "metadata": {},
   "outputs": [],
   "source": [
    "T = Table('LEDFlashTriggerPiezoControl_241115_F1_C1_Table.parquet')\n",
    "# T.open_notes_files()\n",
    "T.plot_outcomes(savefig=True)"
   ]
  },
  {
   "cell_type": "code",
   "execution_count": null,
   "metadata": {},
   "outputs": [],
   "source": [
    "probe_position_hm_df = T.plot_probe_position_heatmap(savefig=True,cmin=-500,cmax=10)"
   ]
  },
  {
   "cell_type": "code",
   "execution_count": null,
   "metadata": {},
   "outputs": [],
   "source": [
    "df_filter = {'pyasState':'hi','_vnc_status_cat':'intact'}\n",
    "early_index = T.df.index[0:300]\n",
    "late_index = T.df.index[300:]\n",
    "\n",
    "T.plot_probe_distribution(filter=None,index=None,bin_min=-500,bin_max=10,savefig=True)\n",
    "plt.close()\n",
    "\n",
    "df_filter = {'pyasState':'hi'}\n",
    "T.plot_probe_distribution(filter=df_filter,index=None,bin_min=-500,bin_max=10,savefig=True)\n",
    "plt.close()\n",
    "\n",
    "df_filter = {'pyasState':'lo'}\n",
    "T.plot_probe_distribution(filter=df_filter,index=None,bin_min=-500,bin_max=10,savefig=True)\n",
    "plt.close()\n",
    "\n",
    "# Early\n",
    "df_filter = {'pyasState':'hi'}\n",
    "T.plot_probe_distribution(filter=df_filter,index=early_index,bin_min=-500,bin_max=10,savefig=True)\n",
    "plt.close()\n",
    "\n",
    "df_filter = {'pyasState':'lo'}\n",
    "T.plot_probe_distribution(filter=df_filter,index=early_index,bin_min=-500,bin_max=10,savefig=True)\n",
    "plt.close()\n",
    "\n",
    "# Late\n",
    "df_filter = {'pyasState':'hi'}\n",
    "T.plot_probe_distribution(filter=df_filter,index=late_index,bin_min=-500,bin_max=10,savefig=True)\n",
    "plt.close()\n",
    "\n",
    "df_filter = {'pyasState':'lo'}\n",
    "T.plot_probe_distribution(filter=df_filter,index=late_index,bin_min=-500,bin_max=10,savefig=True)\n",
    "plt.close()"
   ]
  },
  {
   "cell_type": "code",
   "execution_count": null,
   "metadata": {},
   "outputs": [],
   "source": [
    "N =20\n",
    "df = T.df.loc[T.df.index<200]\n",
    "unique_integers = df.index.unique()\n",
    "random_subset = np.random.choice(unique_integers, N, replace=False)\n",
    "\n",
    "# Loop over the selected integers and plot something\n",
    "for random in random_subset:\n",
    "    df.loc[random, 'Trial'].plot_probe_groups()\n"
   ]
  },
  {
   "cell_type": "markdown",
   "metadata": {},
   "source": [
    "## 31H05 Bright cell"
   ]
  },
  {
   "cell_type": "markdown",
   "metadata": {},
   "source": [
    "### 240430_F1_C1"
   ]
  },
  {
   "cell_type": "code",
   "execution_count": null,
   "metadata": {},
   "outputs": [],
   "source": [
    "T = Table('LEDFlashTriggerPiezoControl_240430_F1_C1_Table.parquet')\n",
    "# T.open_notes_files()\n",
    "# T.df.Trial[190].plot_probe_groups(format='png')\n",
    "# T.exclude_trials()\n",
    "T.plot_outcomes(savefig=True)"
   ]
  },
  {
   "cell_type": "markdown",
   "metadata": {},
   "source": [
    "## 81A06>pJFC7"
   ]
  },
  {
   "cell_type": "markdown",
   "metadata": {},
   "source": [
    "### 241203_F2_C1 - random cell"
   ]
  },
  {
   "cell_type": "code",
   "execution_count": null,
   "metadata": {},
   "outputs": [],
   "source": [
    "T = Table('LEDFlashTriggerPiezoControl_241203_F2_C1_Table.parquet')\n",
    "# T.open_notes_files()\n",
    "# T.df.Trial[190].plot_probe_groups(format='png')\n",
    "# T.exclude_trials()\n",
    "T.plot_outcomes(savefig=True)\n"
   ]
  },
  {
   "cell_type": "code",
   "execution_count": null,
   "metadata": {},
   "outputs": [],
   "source": [
    "# # Loop over the selected integers and plot something\n",
    "# for tr in range(115,130):\n",
    "#     T.df.loc[tr, 'Trial'].plot_probe_groups() #(format='png')"
   ]
  },
  {
   "cell_type": "code",
   "execution_count": null,
   "metadata": {},
   "outputs": [],
   "source": [
    "hmdf = T.plot_probe_position_heatmap(savefig=True,cmin=-450, cmax=10)"
   ]
  },
  {
   "cell_type": "code",
   "execution_count": null,
   "metadata": {},
   "outputs": [],
   "source": [
    "# T.plot_some_trials(index=T.df.loc[83:85].index,savefig=True)\n",
    "# T.loc[83:85]\n",
    "T._excluded_df.loc[84, 'Trial'].plot_probe_groups(use_full_y = True,savefig=True)"
   ]
  },
  {
   "cell_type": "markdown",
   "metadata": {},
   "source": []
  },
  {
   "cell_type": "code",
   "execution_count": null,
   "metadata": {},
   "outputs": [],
   "source": [
    "df_filter = {'pyasState':'hi','_vnc_status_cat':'intact'}\n",
    "early_index = T.df.index[0:300]\n",
    "late_index = T.df.index[300:]\n",
    "\n",
    "T.plot_probe_distribution(filter=None,index=None,bin_min=-500,bin_max=10,savefig=True)\n",
    "plt.close()\n",
    "\n",
    "df_filter = {'pyasState':'hi'}\n",
    "T.plot_probe_distribution(filter=df_filter,index=None,bin_min=-500,bin_max=10,savefig=True)\n",
    "plt.close()\n",
    "\n",
    "df_filter = {'pyasState':'lo'}\n",
    "T.plot_probe_distribution(filter=df_filter,index=None,bin_min=-500,bin_max=10,savefig=True)\n",
    "plt.close()\n",
    "\n",
    "# Early\n",
    "df_filter = {'pyasState':'hi'}\n",
    "T.plot_probe_distribution(filter=df_filter,index=early_index,bin_min=-500,bin_max=10,savefig=True)\n",
    "plt.close()\n",
    "\n",
    "df_filter = {'pyasState':'lo'}\n",
    "T.plot_probe_distribution(filter=df_filter,index=early_index,bin_min=-500,bin_max=10,savefig=True)\n",
    "plt.close()\n",
    "\n",
    "# Late\n",
    "df_filter = {'pyasState':'hi'}\n",
    "T.plot_probe_distribution(filter=df_filter,index=late_index,bin_min=-500,bin_max=10,savefig=True)\n",
    "plt.close()\n",
    "\n",
    "df_filter = {'pyasState':'lo'}\n",
    "T.plot_probe_distribution(filter=df_filter,index=late_index,bin_min=-500,bin_max=10,savefig=True)\n",
    "plt.close()"
   ]
  },
  {
   "cell_type": "code",
   "execution_count": null,
   "metadata": {},
   "outputs": [],
   "source": [
    "# some bubble trials:\n",
    "# T.df.loc[43,\"Trial\"].exclude()\n",
    "# T.df.loc[44,\"Trial\"].exclude()\n",
    "# T.df.loc[154,\"Trial\"].exclude()\n",
    "# T.df.loc[156,\"Trial\"].exclude()\n",
    "# T.df.loc[157,\"Trial\"].exclude()\n",
    "# T.df.loc[158,\"Trial\"].exclude()\n",
    "# T.df.loc[56,\"Trial\"].exclude()"
   ]
  },
  {
   "cell_type": "code",
   "execution_count": null,
   "metadata": {},
   "outputs": [],
   "source": [
    "N =20\n",
    "unique_integers = T.df.index.unique()\n",
    "random_subset = np.random.choice(unique_integers, N, replace=False)\n",
    "\n",
    "# Loop over the selected integers and plot something\n",
    "for random in random_subset:\n",
    "    T.df.loc[random, 'Trial'].plot_probe_groups(format='png')\n"
   ]
  },
  {
   "cell_type": "code",
   "execution_count": null,
   "metadata": {},
   "outputs": [],
   "source": [
    "plt.close()"
   ]
  },
  {
   "cell_type": "markdown",
   "metadata": {},
   "source": [
    "### 241203_F3_C1 - 81A06>pJFC7"
   ]
  },
  {
   "cell_type": "code",
   "execution_count": null,
   "metadata": {},
   "outputs": [],
   "source": [
    "T = Table('LEDFlashTriggerPiezoControl_241203_F3_C1_Table.parquet')\n",
    "# T.open_notes_files()\n",
    "# T.df.Trial[190].plot_probe_groups(format='png')\n",
    "# T.exclude_trials()\n",
    "T.plot_outcomes(savefig=True)\n"
   ]
  },
  {
   "cell_type": "code",
   "execution_count": null,
   "metadata": {},
   "outputs": [],
   "source": [
    "hmdf = T.plot_probe_position_heatmap(savefig=True,cmin=-450, cmax=10)"
   ]
  },
  {
   "cell_type": "code",
   "execution_count": null,
   "metadata": {},
   "outputs": [],
   "source": [
    "# T.plot_some_trials(index=T.df.loc[83:85].index,savefig=True)\n",
    "# T.loc[83:85]\n",
    "# T._excluded_df.loc[84, 'Trial'].plot_probe_groups(use_full_y = True,savefig=True)"
   ]
  },
  {
   "cell_type": "code",
   "execution_count": null,
   "metadata": {},
   "outputs": [],
   "source": [
    "# T.plot_some_trials(index=T.df.loc[83:85].index,savefig=True)\n",
    "# T.loc[83:85]\n",
    "T._excluded_df.loc[84, 'Trial'].plot_probe_groups(use_full_y = True,savefig=True)"
   ]
  },
  {
   "cell_type": "markdown",
   "metadata": {},
   "source": [
    "# PPK-Gal4"
   ]
  },
  {
   "cell_type": "markdown",
   "metadata": {},
   "source": [
    "## 241029_F2_C1 -  ppk-Gal4>Chr in WT"
   ]
  },
  {
   "cell_type": "code",
   "execution_count": null,
   "metadata": {},
   "outputs": [],
   "source": [
    "T = Table('LEDFlashTriggerPiezoControl_241029_F2_C1_Table.parquet')\n",
    "# T.open_notes_files()\n",
    "# T.df.Trial[208].plot_probe_groups(format='png')\n",
    "# T.df.Trial[208].exclude()\n",
    "# [Trial(trial=208, 241105_F3_C1, dT=519.2152, ex=True)]\n",
    "T.add_df_category('cut',trial_min=209,categories='_vnc_status_cat')\n",
    "T.plot_outcomes(savefig=True)"
   ]
  },
  {
   "cell_type": "code",
   "execution_count": null,
   "metadata": {},
   "outputs": [],
   "source": [
    "probe_position_hm_df = T.plot_probe_position_heatmap(savefig=True,cmin=-500,cmax=10)"
   ]
  },
  {
   "cell_type": "code",
   "execution_count": null,
   "metadata": {},
   "outputs": [],
   "source": [
    "# Loop over the selected integers and plot something\n",
    "for tr in range(165,178):\n",
    "    T.df.loc[tr, 'Trial'].plot_probe_groups()"
   ]
  },
  {
   "cell_type": "markdown",
   "metadata": {},
   "source": [
    "## 241029_F3_C1 -  ppk-Gal4>Chr in WT"
   ]
  },
  {
   "cell_type": "code",
   "execution_count": null,
   "metadata": {},
   "outputs": [],
   "source": [
    "T = Table('LEDFlashTriggerPiezoControl_241029_F3_C1_Table.parquet')\n",
    "# T.open_notes_files()\n",
    "# T.df.Trial[208].plot_probe_groups(format='png')\n",
    "T.df.Trial[208].exclude()\n",
    "# [Trial(trial=208, 241105_F3_C1, dT=519.2152, ex=True)]\n",
    "# T.add_df_category('cut',trial_min=209,categories='_vnc_status_cat')\n",
    "T.plot_outcomes(savefig=True)"
   ]
  },
  {
   "cell_type": "code",
   "execution_count": null,
   "metadata": {},
   "outputs": [],
   "source": [
    "probe_position_hm_df = T.plot_probe_position_heatmap(savefig=True,cmin=-500,cmax=10)"
   ]
  },
  {
   "cell_type": "code",
   "execution_count": null,
   "metadata": {},
   "outputs": [],
   "source": [
    "# Loop over the selected integers and plot something\n",
    "for tr in range(165,178):\n",
    "    T.df.loc[tr, 'Trial'].plot_probe_groups()"
   ]
  },
  {
   "cell_type": "markdown",
   "metadata": {},
   "source": [
    "## 241101_F1_C1 -  ppk-Gal4>Chr in WT"
   ]
  },
  {
   "cell_type": "code",
   "execution_count": null,
   "metadata": {},
   "outputs": [],
   "source": [
    "T = Table('LEDFlashTriggerPiezoControl_241101_F1_C1_Table.parquet')\n",
    "# T.open_notes_files()\n",
    "# T.df.Trial[208].plot_probe_groups(format='png')\n",
    "# T.df.Trial[208].exclude()\n",
    "# [Trial(trial=208, 241105_F3_C1, dT=519.2152, ex=True)]\n",
    "T.add_df_category('cut',trial_min=209,categories='_vnc_status_cat')\n",
    "T.plot_outcomes(savefig=True)"
   ]
  },
  {
   "cell_type": "code",
   "execution_count": null,
   "metadata": {},
   "outputs": [],
   "source": [
    "probe_position_hm_df = T.plot_probe_position_heatmap(savefig=True,cmin=-500,cmax=10)"
   ]
  },
  {
   "cell_type": "code",
   "execution_count": null,
   "metadata": {},
   "outputs": [],
   "source": [
    "# Loop over the selected integers and plot something\n",
    "for tr in range(165,178):\n",
    "    T.df.loc[tr, 'Trial'].plot_probe_groups()"
   ]
  },
  {
   "cell_type": "markdown",
   "metadata": {},
   "source": [
    "## 241101_F2_C1 -  ppk-Gal4>Chr in WT"
   ]
  },
  {
   "cell_type": "code",
   "execution_count": null,
   "metadata": {},
   "outputs": [],
   "source": [
    "T = Table('LEDFlashTriggerPiezoControl_241101_F2_C1_Table.parquet')\n",
    "# T.open_notes_files()\n",
    "# T.df.Trial[208].plot_probe_groups(format='png')\n",
    "# T.df.Trial[208].exclude()\n",
    "# [Trial(trial=208, 241105_F3_C1, dT=519.2152, ex=True)]\n",
    "T.add_df_category('cut',trial_min=209,categories='_vnc_status_cat')\n",
    "T.plot_outcomes(savefig=True)"
   ]
  },
  {
   "cell_type": "code",
   "execution_count": null,
   "metadata": {},
   "outputs": [],
   "source": [
    "probe_position_hm_df = T.plot_probe_position_heatmap(savefig=True,cmin=-500,cmax=10)"
   ]
  },
  {
   "cell_type": "code",
   "execution_count": null,
   "metadata": {},
   "outputs": [],
   "source": [
    "# Loop over the selected integers and plot something\n",
    "for tr in range(165,178):\n",
    "    T.df.loc[tr, 'Trial'].plot_probe_groups()"
   ]
  },
  {
   "cell_type": "markdown",
   "metadata": {},
   "source": [
    "## 241105_F1_C1 -  ppk-Gal4>Chr in WT"
   ]
  },
  {
   "cell_type": "code",
   "execution_count": null,
   "metadata": {},
   "outputs": [],
   "source": [
    "T = Table('LEDFlashTriggerPiezoControl_241105_F1_C1_Table.parquet')\n",
    "# T.open_notes_files()\n",
    "# T.df.Trial[208].plot_probe_groups(format='png')\n",
    "# T.df.Trial[208].exclude()\n",
    "# [Trial(trial=208, 241105_F3_C1, dT=519.2152, ex=True)]\n",
    "T.add_df_category('cut',trial_min=209,categories='_vnc_status_cat')\n",
    "T.plot_outcomes(savefig=True)"
   ]
  },
  {
   "cell_type": "code",
   "execution_count": null,
   "metadata": {},
   "outputs": [],
   "source": [
    "probe_position_hm_df = T.plot_probe_position_heatmap(savefig=True,cmin=-500,cmax=10)"
   ]
  },
  {
   "cell_type": "code",
   "execution_count": null,
   "metadata": {},
   "outputs": [],
   "source": [
    "# Loop over the selected integers and plot something\n",
    "for tr in range(165,178):\n",
    "    T.df.loc[tr, 'Trial'].plot_probe_groups()"
   ]
  },
  {
   "cell_type": "markdown",
   "metadata": {},
   "source": [
    "# Hot-Cell-Gal4"
   ]
  },
  {
   "cell_type": "markdown",
   "metadata": {},
   "source": [
    "## 241105_F2_C1 -  Hot-Cell-Gal4>Chr in WT"
   ]
  },
  {
   "cell_type": "code",
   "execution_count": null,
   "metadata": {},
   "outputs": [],
   "source": [
    "# T = Table('LEDFlashTriggerPiezoControl_241105_F2_C1_Table.parquet')\n",
    "# T.open_notes_files()\n",
    "# Trial(trial=246, 241121_F1_C1, dT=811.28836, ex=True) vnc was cut here\n",
    "T.df.Trial[246].exclude()\n",
    "T.add_df_category('cut',trial_min=247,categories='_vnc_status_cat')\n",
    "T.plot_outcomes(savefig=True)"
   ]
  },
  {
   "cell_type": "code",
   "execution_count": null,
   "metadata": {},
   "outputs": [],
   "source": [
    "probe_position_hm_df = T.plot_probe_position_heatmap(savefig=True,cmin=-500,cmax=10)"
   ]
  },
  {
   "cell_type": "code",
   "execution_count": null,
   "metadata": {},
   "outputs": [],
   "source": [
    "df_filter = {'pyasState':'hi','_vnc_status_cat':'intact'}\n",
    "early_index = T.df.index[0:100]\n",
    "late_index = T.df.index[100:]\n",
    "\n",
    "T.plot_probe_distribution(filter=None,index=None,bin_min=-500,bin_max=10,savefig=True)\n",
    "plt.close()\n",
    "\n",
    "df_filter = {'_vnc_status_cat':'cut'}\n",
    "T.plot_probe_distribution(filter=df_filter,index=None,bin_min=-500,bin_max=10,savefig=True)\n",
    "plt.close()\n",
    "\n",
    "df_filter['_vnc_status_cat']='intact'\n",
    "T.plot_probe_distribution(filter=df_filter,index=None,bin_min=-500,bin_max=10,savefig=True)\n",
    "plt.close()\n",
    "\n",
    "df_filter = {'pyasState':'hi','_vnc_status_cat':'intact'}\n",
    "T.plot_probe_distribution(filter=df_filter,index=None,bin_min=-500,bin_max=10,savefig=True)\n",
    "plt.close()\n",
    "\n",
    "df_filter = {'pyasState':'lo','_vnc_status_cat':'intact'}\n",
    "T.plot_probe_distribution(filter=df_filter,index=None,bin_min=-500,bin_max=10,savefig=True)\n",
    "plt.close()\n",
    "\n",
    "# Early\n",
    "df_filter = {'pyasState':'hi','_vnc_status_cat':'intact'}\n",
    "T.plot_probe_distribution(filter=df_filter,index=early_index,bin_min=-500,bin_max=10,savefig=True)\n",
    "plt.close()\n",
    "\n",
    "df_filter = {'pyasState':'lo','_vnc_status_cat':'intact'}\n",
    "T.plot_probe_distribution(filter=df_filter,index=early_index,bin_min=-500,bin_max=10,savefig=True)\n",
    "plt.close()\n",
    "\n",
    "# Late\n",
    "df_filter = {'pyasState':'hi','_vnc_status_cat':'intact'}\n",
    "T.plot_probe_distribution(filter=df_filter,index=late_index,bin_min=-500,bin_max=10,savefig=True)\n",
    "plt.close()\n",
    "\n",
    "df_filter = {'pyasState':'lo','_vnc_status_cat':'intact'}\n",
    "T.plot_probe_distribution(filter=df_filter,index=late_index,bin_min=-500,bin_max=10,savefig=True)\n",
    "plt.close()"
   ]
  },
  {
   "cell_type": "markdown",
   "metadata": {},
   "source": [
    "## 241105_F3_C1 -  Hot-Cell-Gal4>Chr in WT"
   ]
  },
  {
   "cell_type": "code",
   "execution_count": null,
   "metadata": {},
   "outputs": [],
   "source": [
    "T = Table('LEDFlashTriggerPiezoControl_241105_F3_C1_Table.parquet')\n",
    "# T.open_notes_files()\n",
    "# T.df.Trial[208].plot_probe_groups(format='png')\n",
    "# T.df.Trial[208].exclude()\n",
    "# [Trial(trial=208, 241105_F3_C1, dT=519.2152, ex=True)]\n",
    "T.add_df_category('cut',trial_min=209,categories='_vnc_status_cat')\n",
    "T.plot_outcomes(savefig=True)"
   ]
  },
  {
   "cell_type": "code",
   "execution_count": null,
   "metadata": {},
   "outputs": [],
   "source": [
    "probe_position_hm_df = T.plot_probe_position_heatmap(savefig=True,cmin=-500,cmax=10)"
   ]
  },
  {
   "cell_type": "code",
   "execution_count": null,
   "metadata": {},
   "outputs": [],
   "source": [
    "# Loop over the selected integers and plot something\n",
    "for tr in range(165,178):\n",
    "    T.df.loc[tr, 'Trial'].plot_probe_groups()"
   ]
  },
  {
   "cell_type": "code",
   "execution_count": null,
   "metadata": {},
   "outputs": [],
   "source": [
    "df_filter = {'pyasState':'hi','_vnc_status_cat':'intact'}\n",
    "early_index = T.df.index[0:100]\n",
    "late_index = T.df.index[100:]\n",
    "\n",
    "T.plot_probe_distribution(filter=None,index=None,bin_min=-500,bin_max=10,savefig=True)\n",
    "plt.close()\n",
    "\n",
    "df_filter = {'_vnc_status_cat':'cut'}\n",
    "T.plot_probe_distribution(filter=df_filter,index=None,bin_min=-500,bin_max=10,savefig=True)\n",
    "plt.close()\n",
    "\n",
    "df_filter['_vnc_status_cat']='intact'\n",
    "T.plot_probe_distribution(filter=df_filter,index=None,bin_min=-500,bin_max=10,savefig=True)\n",
    "plt.close()\n",
    "\n",
    "df_filter = {'pyasState':'hi','_vnc_status_cat':'intact'}\n",
    "T.plot_probe_distribution(filter=df_filter,index=None,bin_min=-500,bin_max=10,savefig=True)\n",
    "plt.close()\n",
    "\n",
    "df_filter = {'pyasState':'lo','_vnc_status_cat':'intact'}\n",
    "T.plot_probe_distribution(filter=df_filter,index=None,bin_min=-500,bin_max=10,savefig=True)\n",
    "plt.close()\n",
    "\n",
    "# Early\n",
    "df_filter = {'pyasState':'hi','_vnc_status_cat':'intact'}\n",
    "T.plot_probe_distribution(filter=df_filter,index=early_index,bin_min=-500,bin_max=10,savefig=True)\n",
    "plt.close()\n",
    "\n",
    "df_filter = {'pyasState':'lo','_vnc_status_cat':'intact'}\n",
    "T.plot_probe_distribution(filter=df_filter,index=early_index,bin_min=-500,bin_max=10,savefig=True)\n",
    "plt.close()\n",
    "\n",
    "# Late\n",
    "df_filter = {'pyasState':'hi','_vnc_status_cat':'intact'}\n",
    "T.plot_probe_distribution(filter=df_filter,index=late_index,bin_min=-500,bin_max=10,savefig=True)\n",
    "plt.close()\n",
    "\n",
    "df_filter = {'pyasState':'lo','_vnc_status_cat':'intact'}\n",
    "T.plot_probe_distribution(filter=df_filter,index=late_index,bin_min=-500,bin_max=10,savefig=True)\n",
    "plt.close()"
   ]
  },
  {
   "cell_type": "markdown",
   "metadata": {},
   "source": [
    "# Bristle stimulation"
   ]
  },
  {
   "cell_type": "code",
   "execution_count": null,
   "metadata": {},
   "outputs": [],
   "source": [
    "# tbl_dict['LEDFlashTriggerPiezoControl_241121_F1_C1_Table.parquet'] = '38B38-Gal4>UAS-ChR in WT'\n",
    "# tbl_dict['LEDFlashTriggerPiezoControl_241121_F2_C1_Table.parquet'] = '38B38-Gal4>UAS-ChR in WT'\n",
    "# tbl_dict['LEDFlashTriggerPiezoControl_241122_F1_C1_Table.parquet'] = '38B38-Gal4>UAS-ChR in WT'\n",
    "# tbl_dict['LEDFlashTriggerPiezoControl_241122_F2_C1_Table.parquet'] = '38B38-Gal4>UAS-ChR in WT'"
   ]
  },
  {
   "cell_type": "markdown",
   "metadata": {},
   "source": [
    "## 241121_F1_C1 - 38B38-Gal4>UAS-ChR in WT"
   ]
  },
  {
   "cell_type": "code",
   "execution_count": null,
   "metadata": {},
   "outputs": [],
   "source": [
    "T = Table('LEDFlashTriggerPiezoControl_241121_F1_C1_Table.parquet')\n",
    "# Trial(trial=416, 241121_F1_C1, dT=811.28836, ex=True) vnc was cut here\n",
    "T.add_df_category('cut',trial_min=417,categories='_vnc_status_cat')\n",
    "T.plot_outcomes(savefig=True)"
   ]
  },
  {
   "cell_type": "code",
   "execution_count": null,
   "metadata": {},
   "outputs": [],
   "source": [
    "df_filter = {'pyasState':'hi','_vnc_status_cat':'intact'}\n",
    "early_index = T.df.index[0:100]\n",
    "late_index = T.df.index[100:]\n",
    "\n",
    "T.plot_probe_distribution(filter=None,index=None,bin_min=-500,bin_max=10,savefig=True)\n",
    "plt.close()\n",
    "\n",
    "df_filter = {'_vnc_status_cat':'cut'}\n",
    "T.plot_probe_distribution(filter=df_filter,index=None,bin_min=-500,bin_max=10,savefig=True)\n",
    "plt.close()\n",
    "\n",
    "df_filter['_vnc_status_cat']='intact'\n",
    "T.plot_probe_distribution(filter=df_filter,index=None,bin_min=-500,bin_max=10,savefig=True)\n",
    "plt.close()\n",
    "\n",
    "df_filter = {'pyasState':'hi','_vnc_status_cat':'intact'}\n",
    "T.plot_probe_distribution(filter=df_filter,index=None,bin_min=-500,bin_max=10,savefig=True)\n",
    "plt.close()\n",
    "\n",
    "df_filter = {'pyasState':'lo','_vnc_status_cat':'intact'}\n",
    "T.plot_probe_distribution(filter=df_filter,index=None,bin_min=-500,bin_max=10,savefig=True)\n",
    "plt.close()\n",
    "\n",
    "# Early\n",
    "df_filter = {'pyasState':'hi','_vnc_status_cat':'intact'}\n",
    "T.plot_probe_distribution(filter=df_filter,index=early_index,bin_min=-500,bin_max=10,savefig=True)\n",
    "plt.close()\n",
    "\n",
    "df_filter = {'pyasState':'lo','_vnc_status_cat':'intact'}\n",
    "T.plot_probe_distribution(filter=df_filter,index=early_index,bin_min=-500,bin_max=10,savefig=True)\n",
    "plt.close()\n",
    "\n",
    "# Late\n",
    "df_filter = {'pyasState':'hi','_vnc_status_cat':'intact'}\n",
    "T.plot_probe_distribution(filter=df_filter,index=late_index,bin_min=-500,bin_max=10,savefig=True)\n",
    "plt.close()\n",
    "\n",
    "df_filter = {'pyasState':'lo','_vnc_status_cat':'intact'}\n",
    "T.plot_probe_distribution(filter=df_filter,index=late_index,bin_min=-500,bin_max=10,savefig=True)\n",
    "plt.close()\n"
   ]
  },
  {
   "cell_type": "code",
   "execution_count": null,
   "metadata": {},
   "outputs": [],
   "source": [
    "hmdf = T.plot_probe_position_heatmap(savefig=True)"
   ]
  },
  {
   "cell_type": "code",
   "execution_count": null,
   "metadata": {},
   "outputs": [],
   "source": [
    "plt.close()"
   ]
  },
  {
   "cell_type": "markdown",
   "metadata": {},
   "source": [
    "## 241121_F2_C1 - 38B38-Gal4>UAS-ChR in WT"
   ]
  },
  {
   "cell_type": "code",
   "execution_count": null,
   "metadata": {},
   "outputs": [],
   "source": [
    "T = Table('LEDFlashTriggerPiezoControl_241121_F2_C1_Table.parquet')\n",
    "# T.open_notes_files()\n",
    "# T.df.Trial[364].plot_probe_groups(format='png')\n",
    "# T.df.Trial[364].exclude()\n",
    "# T.exclude_trials()\n",
    "T.add_df_category('cut',trial_min=365,categories='_vnc_status_cat')\n",
    "T.plot_outcomes(savefig=True)"
   ]
  },
  {
   "cell_type": "code",
   "execution_count": null,
   "metadata": {},
   "outputs": [],
   "source": [
    "df_filter = {'pyasState':'hi','_vnc_status_cat':'intact'}\n",
    "early_index = T.df.index[0:100]\n",
    "late_index = T.df.index[100:]\n",
    "\n",
    "T.plot_probe_distribution(filter=None,index=None,bin_min=-500,bin_max=10,savefig=True)\n",
    "plt.close()\n",
    "\n",
    "df_filter = {'_vnc_status_cat':'cut'}\n",
    "T.plot_probe_distribution(filter=df_filter,index=None,bin_min=-500,bin_max=10,savefig=True)\n",
    "plt.close()\n",
    "\n",
    "df_filter['_vnc_status_cat']='intact'\n",
    "T.plot_probe_distribution(filter=df_filter,index=None,bin_min=-500,bin_max=10,savefig=True)\n",
    "plt.close()\n",
    "\n",
    "df_filter = {'pyasState':'hi','_vnc_status_cat':'intact'}\n",
    "T.plot_probe_distribution(filter=df_filter,index=None,bin_min=-500,bin_max=10,savefig=True)\n",
    "plt.close()\n",
    "\n",
    "df_filter = {'pyasState':'lo','_vnc_status_cat':'intact'}\n",
    "T.plot_probe_distribution(filter=df_filter,index=None,bin_min=-500,bin_max=10,savefig=True)\n",
    "plt.close()\n",
    "\n",
    "# Early\n",
    "df_filter = {'pyasState':'hi','_vnc_status_cat':'intact'}\n",
    "T.plot_probe_distribution(filter=df_filter,index=early_index,bin_min=-500,bin_max=10,savefig=True)\n",
    "plt.close()\n",
    "\n",
    "df_filter = {'pyasState':'lo','_vnc_status_cat':'intact'}\n",
    "T.plot_probe_distribution(filter=df_filter,index=early_index,bin_min=-500,bin_max=10,savefig=True)\n",
    "plt.close()\n",
    "\n",
    "# Late\n",
    "df_filter = {'pyasState':'hi','_vnc_status_cat':'intact'}\n",
    "T.plot_probe_distribution(filter=df_filter,index=late_index,bin_min=-500,bin_max=10,savefig=True)\n",
    "plt.close()\n",
    "\n",
    "df_filter = {'pyasState':'lo','_vnc_status_cat':'intact'}\n",
    "T.plot_probe_distribution(filter=df_filter,index=late_index,bin_min=-500,bin_max=10,savefig=True)\n",
    "plt.close()"
   ]
  },
  {
   "cell_type": "code",
   "execution_count": null,
   "metadata": {},
   "outputs": [],
   "source": [
    "probe_position_hm_df = T.plot_probe_position_heatmap(savefig=True)"
   ]
  },
  {
   "cell_type": "code",
   "execution_count": null,
   "metadata": {},
   "outputs": [],
   "source": [
    "plt.close()"
   ]
  },
  {
   "cell_type": "markdown",
   "metadata": {},
   "source": [
    "## 241122_F1_C1 - 38B38-Gal4>UAS-ChR in WT"
   ]
  },
  {
   "cell_type": "code",
   "execution_count": null,
   "metadata": {},
   "outputs": [],
   "source": [
    "T = Table('LEDFlashTriggerPiezoControl_241122_F1_C1_Table.parquet')\n",
    "# T.open_notes_files()\n",
    "# T.df.Trial[312].plot_probe_groups(format='png')\n",
    "# T.df.Trial[312].exclude()\n",
    "# T.exclude_trials()\n",
    "T.add_df_category('cut',trial_min=313,categories='_vnc_status_cat')\n",
    "T.plot_outcomes(savefig=True)"
   ]
  },
  {
   "cell_type": "code",
   "execution_count": null,
   "metadata": {},
   "outputs": [],
   "source": [
    "df_filter = {'pyasState':'hi','_vnc_status_cat':'intact'}\n",
    "early_index = T.df.index[0:100]\n",
    "late_index = T.df.index[100:]\n",
    "\n",
    "T.plot_probe_distribution(filter=None,index=None,bin_min=-500,bin_max=10,savefig=True)\n",
    "plt.close()\n",
    "\n",
    "df_filter = {'_vnc_status_cat':'cut'}\n",
    "T.plot_probe_distribution(filter=df_filter,index=None,bin_min=-500,bin_max=10,savefig=True)\n",
    "plt.close()\n",
    "\n",
    "df_filter['_vnc_status_cat']='intact'\n",
    "T.plot_probe_distribution(filter=df_filter,index=None,bin_min=-500,bin_max=10,savefig=True)\n",
    "plt.close()\n",
    "\n",
    "df_filter = {'pyasState':'hi','_vnc_status_cat':'intact'}\n",
    "T.plot_probe_distribution(filter=df_filter,index=None,bin_min=-500,bin_max=10,savefig=True)\n",
    "plt.close()\n",
    "\n",
    "df_filter = {'pyasState':'lo','_vnc_status_cat':'intact'}\n",
    "T.plot_probe_distribution(filter=df_filter,index=None,bin_min=-500,bin_max=10,savefig=True)\n",
    "plt.close()\n",
    "\n",
    "# Early\n",
    "df_filter = {'pyasState':'hi','_vnc_status_cat':'intact'}\n",
    "T.plot_probe_distribution(filter=df_filter,index=early_index,bin_min=-500,bin_max=10,savefig=True)\n",
    "plt.close()\n",
    "\n",
    "df_filter = {'pyasState':'lo','_vnc_status_cat':'intact'}\n",
    "T.plot_probe_distribution(filter=df_filter,index=early_index,bin_min=-500,bin_max=10,savefig=True)\n",
    "plt.close()\n",
    "\n",
    "# Late\n",
    "df_filter = {'pyasState':'hi','_vnc_status_cat':'intact'}\n",
    "T.plot_probe_distribution(filter=df_filter,index=late_index,bin_min=-500,bin_max=10,savefig=True)\n",
    "plt.close()\n",
    "\n",
    "df_filter = {'pyasState':'lo','_vnc_status_cat':'intact'}\n",
    "T.plot_probe_distribution(filter=df_filter,index=late_index,bin_min=-500,bin_max=10,savefig=True)\n",
    "plt.close()"
   ]
  },
  {
   "cell_type": "code",
   "execution_count": null,
   "metadata": {},
   "outputs": [],
   "source": [
    "probe_position_hm_df = T.plot_probe_position_heatmap(savefig=True)"
   ]
  },
  {
   "cell_type": "code",
   "execution_count": null,
   "metadata": {},
   "outputs": [],
   "source": [
    "plt.close()"
   ]
  },
  {
   "cell_type": "markdown",
   "metadata": {},
   "source": [
    "## 241122_F2_C1 - 38B38-Gal4>UAS-ChR in WT"
   ]
  },
  {
   "cell_type": "code",
   "execution_count": null,
   "metadata": {},
   "outputs": [],
   "source": [
    "# T = Table('LEDFlashTriggerPiezoControl_241122_F2_C1_Table.parquet')\n",
    "# T.open_notes_files()\n",
    "# T.df.Trial[364].plot_probe_groups(format='png')\n",
    "# T.df.Trial[364].exclude()\n",
    "# T.exclude_trials()\n",
    "T.add_df_category('cut',trial_min=365,categories='_vnc_status_cat')\n",
    "T.plot_outcomes(savefig=True)"
   ]
  },
  {
   "cell_type": "code",
   "execution_count": null,
   "metadata": {},
   "outputs": [],
   "source": [
    "df_filter = {'pyasState':'hi','_vnc_status_cat':'intact'}\n",
    "early_index = T.df.index[0:100]\n",
    "late_index = T.df.index[100:]\n",
    "\n",
    "T.plot_probe_distribution(filter=None,index=None,bin_min=-500,bin_max=10,savefig=True)\n",
    "plt.close()\n",
    "\n",
    "df_filter = {'_vnc_status_cat':'cut'}\n",
    "T.plot_probe_distribution(filter=df_filter,index=None,bin_min=-500,bin_max=10,savefig=True)\n",
    "plt.close()\n",
    "\n",
    "df_filter['_vnc_status_cat']='intact'\n",
    "T.plot_probe_distribution(filter=df_filter,index=None,bin_min=-500,bin_max=10,savefig=True)\n",
    "plt.close()\n",
    "\n",
    "df_filter = {'pyasState':'hi','_vnc_status_cat':'intact'}\n",
    "T.plot_probe_distribution(filter=df_filter,index=None,bin_min=-500,bin_max=10,savefig=True)\n",
    "plt.close()\n",
    "\n",
    "df_filter = {'pyasState':'lo','_vnc_status_cat':'intact'}\n",
    "T.plot_probe_distribution(filter=df_filter,index=None,bin_min=-500,bin_max=10,savefig=True)\n",
    "plt.close()\n",
    "\n",
    "# Early\n",
    "df_filter = {'pyasState':'hi','_vnc_status_cat':'intact'}\n",
    "T.plot_probe_distribution(filter=df_filter,index=early_index,bin_min=-500,bin_max=10,savefig=True)\n",
    "plt.close()\n",
    "\n",
    "df_filter = {'pyasState':'lo','_vnc_status_cat':'intact'}\n",
    "T.plot_probe_distribution(filter=df_filter,index=early_index,bin_min=-500,bin_max=10,savefig=True)\n",
    "plt.close()\n",
    "\n",
    "# Late\n",
    "df_filter = {'pyasState':'hi','_vnc_status_cat':'intact'}\n",
    "T.plot_probe_distribution(filter=df_filter,index=late_index,bin_min=-500,bin_max=10,savefig=True)\n",
    "plt.close()\n",
    "\n",
    "df_filter = {'pyasState':'lo','_vnc_status_cat':'intact'}\n",
    "T.plot_probe_distribution(filter=df_filter,index=late_index,bin_min=-500,bin_max=10,savefig=True)\n",
    "plt.close()"
   ]
  },
  {
   "cell_type": "code",
   "execution_count": null,
   "metadata": {},
   "outputs": [],
   "source": [
    "probe_position_hm_df = T.plot_probe_position_heatmap(savefig=True)"
   ]
  },
  {
   "cell_type": "code",
   "execution_count": null,
   "metadata": {},
   "outputs": [],
   "source": [
    "plt.close()"
   ]
  },
  {
   "cell_type": "markdown",
   "metadata": {},
   "source": [
    "# IAV KD in [w] background"
   ]
  },
  {
   "cell_type": "markdown",
   "metadata": {},
   "source": [
    "These are with w;;UAS-Kir2.1"
   ]
  },
  {
   "cell_type": "markdown",
   "metadata": {},
   "source": [
    "## 241205_F2_C1 - w;+;iav-gal4/uas-kir2.1"
   ]
  },
  {
   "cell_type": "code",
   "execution_count": null,
   "metadata": {},
   "outputs": [],
   "source": [
    "T = Table('LEDFlashTriggerPiezoControl_241205_F2_C1_Table.parquet')\n",
    "# T.open_notes_files()\n",
    "# T.df.Trial[507].plot_probe_groups(format='png')\n",
    "# T.exclude_trials()\n",
    "T.plot_outcomes(savefig=True)\n"
   ]
  },
  {
   "cell_type": "code",
   "execution_count": null,
   "metadata": {},
   "outputs": [],
   "source": [
    "hmdf = T.plot_probe_position_heatmap(savefig=True)"
   ]
  },
  {
   "cell_type": "code",
   "execution_count": null,
   "metadata": {},
   "outputs": [],
   "source": [
    "# some bubble trials:\n",
    "T.df.loc[156,\"Trial\"].plot_probe_groups()\n",
    "# T.df.loc[43,\"Trial\"].exclude()\n",
    "# T.df.loc[44,\"Trial\"].exclude()\n",
    "# T.df.loc[154,\"Trial\"].exclude()\n",
    "# T.df.loc[156,\"Trial\"].exclude()\n",
    "# T.df.loc[157,\"Trial\"].exclude()\n",
    "# T.df.loc[158,\"Trial\"].exclude()\n",
    "# T.df.loc[56,\"Trial\"].exclude()"
   ]
  },
  {
   "cell_type": "code",
   "execution_count": null,
   "metadata": {},
   "outputs": [],
   "source": [
    "plt.close()"
   ]
  },
  {
   "cell_type": "markdown",
   "metadata": {},
   "source": [
    "## 241205_F3_C1 - w;+;iav-gal4/uas-kir2.1"
   ]
  },
  {
   "cell_type": "code",
   "execution_count": null,
   "metadata": {},
   "outputs": [],
   "source": [
    "T = Table('LEDFlashTriggerPiezoControl_241205_F3_C1_Table.parquet')\n",
    "# T.df.Trial[364].plot_probe_groups(format='png')\n",
    "# T.df.Trial[364].exclude()\n",
    "# T.exclude_trials()\n",
    "# T.add_df_category('cut',trial_min=365,categories='_vnc_status_cat')"
   ]
  },
  {
   "cell_type": "code",
   "execution_count": null,
   "metadata": {},
   "outputs": [],
   "source": [
    "T.open_notes_files()\n"
   ]
  },
  {
   "cell_type": "code",
   "execution_count": null,
   "metadata": {},
   "outputs": [],
   "source": [
    "T.plot_outcomes(savefig=True)"
   ]
  },
  {
   "cell_type": "code",
   "execution_count": null,
   "metadata": {},
   "outputs": [],
   "source": [
    "T.compute_trial_method(method_name='probe_positive_effort')\n",
    "T.plot_trial_computations(method_name='probe_positive_effort')"
   ]
  },
  {
   "cell_type": "code",
   "execution_count": null,
   "metadata": {},
   "outputs": [],
   "source": [
    "hmdf = T.plot_probe_position_heatmap(savefig=True)"
   ]
  },
  {
   "cell_type": "code",
   "execution_count": null,
   "metadata": {},
   "outputs": [],
   "source": [
    "df_filter = {'pyasState':'hi','_vnc_status_cat':'intact'}\n",
    "early_index = T.df.index[0:100]\n",
    "late_index = T.df.index[100:]\n",
    "\n",
    "T.plot_probe_distribution(filter=None,index=None,bin_min=-500,bin_max=10,savefig=True)\n",
    "plt.close()\n",
    "\n",
    "df_filter = {'pyasState':'hi'}\n",
    "T.plot_probe_distribution(filter=df_filter,index=None,bin_min=-500,bin_max=10,savefig=True)\n",
    "plt.close()\n",
    "\n",
    "df_filter = {'pyasState':'lo'}\n",
    "T.plot_probe_distribution(filter=df_filter,index=None,bin_min=-500,bin_max=10,savefig=True)\n",
    "plt.close()\n",
    "\n",
    "# Early\n",
    "df_filter = {'pyasState':'hi'}\n",
    "T.plot_probe_distribution(filter=df_filter,index=early_index,bin_min=-500,bin_max=10,savefig=True)\n",
    "plt.close()\n",
    "\n",
    "df_filter = {'pyasState':'lo'}\n",
    "T.plot_probe_distribution(filter=df_filter,index=early_index,bin_min=-500,bin_max=10,savefig=True)\n",
    "plt.close()\n",
    "\n",
    "# Late\n",
    "df_filter = {'pyasState':'hi'}\n",
    "T.plot_probe_distribution(filter=df_filter,index=late_index,bin_min=-500,bin_max=10,savefig=True)\n",
    "plt.close()\n",
    "\n",
    "df_filter = {'pyasState':'lo'}\n",
    "T.plot_probe_distribution(filter=df_filter,index=late_index,bin_min=-500,bin_max=10,savefig=True)\n",
    "plt.close()"
   ]
  },
  {
   "cell_type": "code",
   "execution_count": null,
   "metadata": {},
   "outputs": [],
   "source": [
    "N =20\n",
    "df = T.df.loc[T.df.index<200]\n",
    "unique_integers = df.index.unique()\n",
    "random_subset = np.random.choice(unique_integers, N, replace=False)\n",
    "\n",
    "# Loop over the selected integers and plot something\n",
    "for random in random_subset:\n",
    "    df.loc[random, 'Trial'].plot_probe_groups(format='png')"
   ]
  },
  {
   "cell_type": "code",
   "execution_count": null,
   "metadata": {},
   "outputs": [],
   "source": [
    "tr = T.df.loc[45,'Trial']\n",
    "dir(tr)"
   ]
  },
  {
   "cell_type": "code",
   "execution_count": null,
   "metadata": {},
   "outputs": [],
   "source": [
    "tr.groups"
   ]
  },
  {
   "cell_type": "code",
   "execution_count": null,
   "metadata": {},
   "outputs": [],
   "source": [
    "plt.close()"
   ]
  },
  {
   "cell_type": "markdown",
   "metadata": {},
   "source": [
    "## 241219_F1_C1 - w;+;iav-gal4/uas-kir2.1"
   ]
  },
  {
   "cell_type": "markdown",
   "metadata": {},
   "source": [
    "Blue then Green. \n"
   ]
  },
  {
   "cell_type": "code",
   "execution_count": null,
   "metadata": {},
   "outputs": [],
   "source": [
    "T = Table('LEDFlashTriggerPiezoControl_241219_F1_C1_Table.parquet')\n",
    "T.open_notes_files()"
   ]
  },
  {
   "cell_type": "code",
   "execution_count": null,
   "metadata": {},
   "outputs": [],
   "source": [
    "# T.exclude_list_of_trials(T.df.loc[83:86].index,reason='probe slipped, can kick')"
   ]
  },
  {
   "cell_type": "code",
   "execution_count": null,
   "metadata": {},
   "outputs": [],
   "source": [
    "T.add_df_category('blue',trial_min=1,trial_max=624,categories='_filtercube_status_cat')\n",
    "T.add_df_category('green',trial_min=625,trial_max=800,categories='_filtercube_status_cat')\n",
    "T.add_df_category('blue',trial_min=801,categories='_filtercube_status_cat')"
   ]
  },
  {
   "cell_type": "code",
   "execution_count": null,
   "metadata": {},
   "outputs": [],
   "source": [
    "T.plot_outcomes(savefig=True)"
   ]
  },
  {
   "cell_type": "code",
   "execution_count": null,
   "metadata": {},
   "outputs": [],
   "source": [
    "hmdf = T.plot_probe_position_heatmap(savefig=True,cmin=-450, cmax=10)"
   ]
  },
  {
   "cell_type": "code",
   "execution_count": null,
   "metadata": {},
   "outputs": [],
   "source": [
    "# T.plot_some_trials(index=T.df.loc[83:85].index,savefig=True)\n",
    "# T.loc[83:85]\n",
    "# T._excluded_df.loc[84, 'Trial'].plot_probe_groups(use_full_y = True,savefig=True)"
   ]
  },
  {
   "cell_type": "code",
   "execution_count": null,
   "metadata": {},
   "outputs": [],
   "source": [
    "T.plot_some_probe_groups(index=T.df.loc[267:269].index,savefig=False)"
   ]
  },
  {
   "cell_type": "code",
   "execution_count": null,
   "metadata": {},
   "outputs": [],
   "source": [
    "tr_0 = 210\n",
    "\n",
    "for tr_i in range(tr_0,tr_0+50,5):\n",
    "    T.plot_some_probe_groups(index=T.df.loc[tr_i:tr_i+5].index,savefig=False)"
   ]
  },
  {
   "cell_type": "code",
   "execution_count": null,
   "metadata": {},
   "outputs": [],
   "source": [
    "T.plot_some_probe_groups(index=T.df.loc[495:499].index,savefig=False)"
   ]
  },
  {
   "cell_type": "code",
   "execution_count": null,
   "metadata": {},
   "outputs": [],
   "source": [
    "plt.close()"
   ]
  },
  {
   "cell_type": "markdown",
   "metadata": {},
   "source": [
    "## 241219_F2_C1 - w;+;iav-gal4/uas-kir2.1"
   ]
  },
  {
   "cell_type": "markdown",
   "metadata": {},
   "source": [
    "Blue then Green. \n"
   ]
  },
  {
   "cell_type": "code",
   "execution_count": null,
   "metadata": {},
   "outputs": [],
   "source": [
    "T = Table('LEDFlashTriggerPiezoControl_241219_F2_C1_Table.parquet')\n",
    "T.open_notes_files()"
   ]
  },
  {
   "cell_type": "code",
   "execution_count": null,
   "metadata": {},
   "outputs": [],
   "source": [
    "# T.exclude_list_of_trials(T.df.loc[83:86].index,reason='probe slipped, can kick')"
   ]
  },
  {
   "cell_type": "code",
   "execution_count": null,
   "metadata": {},
   "outputs": [],
   "source": [
    "T.add_df_category('blue',trial_min=1,trial_max=520,categories='_filtercube_status_cat')\n",
    "T.add_df_category('green',trial_min=521,categories='_filtercube_status_cat')"
   ]
  },
  {
   "cell_type": "code",
   "execution_count": null,
   "metadata": {},
   "outputs": [],
   "source": [
    "T.plot_outcomes(savefig=True)"
   ]
  },
  {
   "cell_type": "code",
   "execution_count": null,
   "metadata": {},
   "outputs": [],
   "source": [
    "hmdf = T.plot_probe_position_heatmap(savefig=True,cmin=-450, cmax=10)"
   ]
  },
  {
   "cell_type": "code",
   "execution_count": null,
   "metadata": {},
   "outputs": [],
   "source": [
    "# T.plot_some_trials(index=T.df.loc[83:85].index,savefig=True)\n",
    "# T.loc[83:85]\n",
    "T._excluded_df.loc[84, 'Trial'].plot_probe_groups(use_full_y = True,savefig=True)"
   ]
  },
  {
   "cell_type": "markdown",
   "metadata": {},
   "source": [
    "## 241220_F1_C1 - w;+;iav-gal4/uas-kir2.1"
   ]
  },
  {
   "cell_type": "markdown",
   "metadata": {},
   "source": [
    "Green then Blue then Green. \n"
   ]
  },
  {
   "cell_type": "code",
   "execution_count": null,
   "metadata": {},
   "outputs": [],
   "source": [
    "T = Table('LEDFlashTriggerPiezoControl_241220_F1_C1_Table.parquet')\n",
    "T.open_notes_files()"
   ]
  },
  {
   "cell_type": "code",
   "execution_count": null,
   "metadata": {},
   "outputs": [],
   "source": [
    "# T.exclude_list_of_trials(T.df.loc[83:86].index,reason='probe slipped, can kick')"
   ]
  },
  {
   "cell_type": "code",
   "execution_count": null,
   "metadata": {},
   "outputs": [],
   "source": [
    "T.add_df_category('green',trial_min=1,trial_max=104,categories='_filtercube_status_cat')\n",
    "T.add_df_category('blue',trial_min=105,trial_max=566,categories='_filtercube_status_cat')\n",
    "T.add_df_category('green',trial_min=567,categories='_filtercube_status_cat')"
   ]
  },
  {
   "cell_type": "code",
   "execution_count": null,
   "metadata": {},
   "outputs": [],
   "source": [
    "T.plot_outcomes(savefig=True)"
   ]
  },
  {
   "cell_type": "code",
   "execution_count": null,
   "metadata": {},
   "outputs": [],
   "source": [
    "hmdf = T.plot_probe_position_heatmap(savefig=True,cmin=-450, cmax=10)"
   ]
  },
  {
   "cell_type": "code",
   "execution_count": null,
   "metadata": {},
   "outputs": [],
   "source": [
    "# T.plot_some_trials(index=T.df.loc[83:85].index,savefig=True)\n",
    "# T.loc[83:85]\n",
    "T._excluded_df.loc[84, 'Trial'].plot_probe_groups(use_full_y = True,savefig=True)"
   ]
  },
  {
   "cell_type": "markdown",
   "metadata": {},
   "source": [
    "## 241220_F2_C1 - w;+;iav-gal4/uas-kir2.1"
   ]
  },
  {
   "cell_type": "markdown",
   "metadata": {},
   "source": [
    "Blue then Green. \n"
   ]
  },
  {
   "cell_type": "code",
   "execution_count": null,
   "metadata": {},
   "outputs": [],
   "source": [
    "T = Table('LEDFlashTriggerPiezoControl_241220_F2_C1_Table.parquet')\n",
    "T.open_notes_files()"
   ]
  },
  {
   "cell_type": "code",
   "execution_count": null,
   "metadata": {},
   "outputs": [],
   "source": [
    "# T.exclude_list_of_trials(T.df.loc[83:86].index,reason='probe slipped, can kick')"
   ]
  },
  {
   "cell_type": "code",
   "execution_count": null,
   "metadata": {},
   "outputs": [],
   "source": [
    "T.add_df_category('green',trial_min=1,trial_max=104,categories='_filtercube_status_cat')\n",
    "T.add_df_category('blue',trial_min=105,trial_max=572,categories='_filtercube_status_cat')\n",
    "T.add_df_category('blue',trial_min=573,categories='_filtercube_status_cat')\n",
    "# T.add_df_category('green',trial_min=508,categories='_filtercube_status_cat')"
   ]
  },
  {
   "cell_type": "code",
   "execution_count": null,
   "metadata": {},
   "outputs": [],
   "source": [
    "T.plot_outcomes(savefig=True)"
   ]
  },
  {
   "cell_type": "code",
   "execution_count": null,
   "metadata": {},
   "outputs": [],
   "source": [
    "hmdf = T.plot_probe_position_heatmap(savefig=True,cmin=-450, cmax=10)"
   ]
  },
  {
   "cell_type": "code",
   "execution_count": null,
   "metadata": {},
   "outputs": [],
   "source": [
    "# T.plot_some_trials(index=T.df.loc[83:85].index,savefig=True)\n",
    "# T.loc[83:85]\n",
    "T._excluded_df.loc[84, 'Trial'].plot_probe_groups(use_full_y = True,savefig=True)"
   ]
  },
  {
   "cell_type": "markdown",
   "metadata": {},
   "source": [
    "# IAV KD in [+] background"
   ]
  },
  {
   "cell_type": "markdown",
   "metadata": {},
   "source": [
    "## Blue"
   ]
  },
  {
   "cell_type": "markdown",
   "metadata": {},
   "source": [
    "### 250317_F1_C1 - +;+;iav-gal4/uas-kir2.1"
   ]
  },
  {
   "cell_type": "markdown",
   "metadata": {},
   "source": [
    "Blue\n"
   ]
  },
  {
   "cell_type": "code",
   "execution_count": null,
   "metadata": {},
   "outputs": [],
   "source": [
    "T = Table('LEDFlashTriggerPiezoControl_250317_F1_C1_Table.parquet')\n",
    "# T.open_notes_files()"
   ]
  },
  {
   "cell_type": "code",
   "execution_count": null,
   "metadata": {},
   "outputs": [],
   "source": [
    "# T.exclude_list_of_trials(T.df.loc[83:86].index,reason='probe slipped, can kick')"
   ]
  },
  {
   "cell_type": "code",
   "execution_count": null,
   "metadata": {},
   "outputs": [],
   "source": [
    "T.add_df_category('blue',trial_min=1,categories='_filtercube_status_cat')\n",
    "# T.add_df_category('green',trial_min=508,categories='_filtercube_status_cat')"
   ]
  },
  {
   "cell_type": "code",
   "execution_count": null,
   "metadata": {},
   "outputs": [],
   "source": [
    "T.plot_outcomes(savefig=True)"
   ]
  },
  {
   "cell_type": "code",
   "execution_count": null,
   "metadata": {},
   "outputs": [],
   "source": [
    "hmdf = T.plot_probe_position_heatmap(savefig=True,cmin=-450, cmax=10)"
   ]
  },
  {
   "cell_type": "code",
   "execution_count": null,
   "metadata": {},
   "outputs": [],
   "source": [
    "# T.plot_some_trials(index=T.df.loc[83:85].index,savefig=True)\n",
    "# T.loc[83:85]\n",
    "# T._excluded_df.loc[84, 'Trial'].plot_probe_groups(use_full_y = True,savefig=True)"
   ]
  },
  {
   "cell_type": "markdown",
   "metadata": {},
   "source": [
    "### 250317_F2_C1 - +;+;iav-gal4/uas-kir2.1"
   ]
  },
  {
   "cell_type": "markdown",
   "metadata": {},
   "source": [
    "Blue.\n"
   ]
  },
  {
   "cell_type": "code",
   "execution_count": null,
   "metadata": {},
   "outputs": [],
   "source": [
    "T = Table('LEDFlashTriggerPiezoControl_250317_F2_C1_Table.parquet')\n",
    "# T.open_notes_files()"
   ]
  },
  {
   "cell_type": "code",
   "execution_count": null,
   "metadata": {},
   "outputs": [],
   "source": [
    "# T.exclude_list_of_trials(T.df.loc[83:86].index,reason='probe slipped, can kick')"
   ]
  },
  {
   "cell_type": "code",
   "execution_count": null,
   "metadata": {},
   "outputs": [],
   "source": [
    "T.add_df_category('blue',trial_min=1,categories='_filtercube_status_cat')\n",
    "# T.add_df_category('blue',trial_min=105,trial_max=572,categories='_filtercube_status_cat')\n",
    "# T.add_df_category('blue',trial_min=573,categories='_filtercube_status_cat')\n",
    "# T.add_df_category('green',trial_min=508,categories='_filtercube_status_cat')"
   ]
  },
  {
   "cell_type": "code",
   "execution_count": null,
   "metadata": {},
   "outputs": [],
   "source": [
    "T.plot_outcomes(savefig=True)"
   ]
  },
  {
   "cell_type": "code",
   "execution_count": null,
   "metadata": {},
   "outputs": [],
   "source": [
    "hmdf = T.plot_probe_position_heatmap(savefig=True,cmin=-450, cmax=10)"
   ]
  },
  {
   "cell_type": "code",
   "execution_count": null,
   "metadata": {},
   "outputs": [],
   "source": [
    "# T.plot_some_trials(index=T.df.loc[83:85].index,savefig=True)\n",
    "# T.loc[83:85]\n",
    "T._excluded_df.loc[84, 'Trial'].plot_probe_groups(use_full_y = True,savefig=True)"
   ]
  },
  {
   "cell_type": "markdown",
   "metadata": {},
   "source": [
    "### 250318_F1_C1 - +;+;iav-gal4/uas-kir2.1"
   ]
  },
  {
   "cell_type": "markdown",
   "metadata": {},
   "source": [
    "Blue\n"
   ]
  },
  {
   "cell_type": "code",
   "execution_count": null,
   "metadata": {},
   "outputs": [],
   "source": [
    "T = Table('LEDFlashTriggerPiezoControl_250318_F1_C1_Table.parquet')\n",
    "# T.open_notes_files()"
   ]
  },
  {
   "cell_type": "code",
   "execution_count": null,
   "metadata": {},
   "outputs": [],
   "source": [
    "# T.exclude_list_of_trials(T.df.loc[83:86].index,reason='probe slipped, can kick')"
   ]
  },
  {
   "cell_type": "code",
   "execution_count": null,
   "metadata": {},
   "outputs": [],
   "source": [
    "T.add_df_category('blue',trial_min=1,categories='_filtercube_status_cat')\n",
    "# T.add_df_category('green',trial_min=508,categories='_filtercube_status_cat')"
   ]
  },
  {
   "cell_type": "code",
   "execution_count": null,
   "metadata": {},
   "outputs": [],
   "source": [
    "T.plot_outcomes(savefig=True)"
   ]
  },
  {
   "cell_type": "code",
   "execution_count": null,
   "metadata": {},
   "outputs": [],
   "source": [
    "hmdf = T.plot_probe_position_heatmap(savefig=True,cmin=-450, cmax=10)"
   ]
  },
  {
   "cell_type": "code",
   "execution_count": null,
   "metadata": {},
   "outputs": [],
   "source": [
    "# T.plot_some_trials(index=T.df.loc[83:85].index,savefig=True)\n",
    "# T.loc[83:85]\n",
    "# T._excluded_df.loc[84, 'Trial'].plot_probe_groups(use_full_y = True,savefig=True)"
   ]
  },
  {
   "cell_type": "markdown",
   "metadata": {},
   "source": [
    "### 250318_F2_C1 - +;+;iav-gal4/uas-kir2.1"
   ]
  },
  {
   "cell_type": "markdown",
   "metadata": {},
   "source": [
    "Blue\n"
   ]
  },
  {
   "cell_type": "code",
   "execution_count": null,
   "metadata": {},
   "outputs": [],
   "source": [
    "T = Table('LEDFlashTriggerPiezoControl_250318_F2_C1_Table.parquet')\n",
    "# T.open_notes_files()"
   ]
  },
  {
   "cell_type": "code",
   "execution_count": null,
   "metadata": {},
   "outputs": [],
   "source": [
    "# T.exclude_list_of_trials(T.df.loc[83:86].index,reason='probe slipped, can kick')"
   ]
  },
  {
   "cell_type": "code",
   "execution_count": null,
   "metadata": {},
   "outputs": [],
   "source": [
    "T.add_df_category('blue',trial_min=1,categories='_filtercube_status_cat')\n",
    "# T.add_df_category('green',trial_min=508,categories='_filtercube_status_cat')"
   ]
  },
  {
   "cell_type": "code",
   "execution_count": null,
   "metadata": {},
   "outputs": [],
   "source": [
    "T.plot_outcomes(savefig=True)"
   ]
  },
  {
   "cell_type": "code",
   "execution_count": null,
   "metadata": {},
   "outputs": [],
   "source": [
    "hmdf = T.plot_probe_position_heatmap(savefig=True,cmin=-450, cmax=10)"
   ]
  },
  {
   "cell_type": "code",
   "execution_count": null,
   "metadata": {},
   "outputs": [],
   "source": [
    "# T.plot_some_trials(index=T.df.loc[83:85].index,savefig=True)\n",
    "# T.loc[83:85]\n",
    "# T._excluded_df.loc[84, 'Trial'].plot_probe_groups(use_full_y = True,savefig=True)"
   ]
  },
  {
   "cell_type": "markdown",
   "metadata": {},
   "source": [
    "### 250318_F3_C1 - +;+;iav-gal4/uas-kir2.1"
   ]
  },
  {
   "cell_type": "markdown",
   "metadata": {},
   "source": [
    "Blue\n"
   ]
  },
  {
   "cell_type": "code",
   "execution_count": null,
   "metadata": {},
   "outputs": [],
   "source": [
    "T = Table('LEDFlashTriggerPiezoControl_250318_F3_C1_Table.parquet')\n",
    "# T.open_notes_files()"
   ]
  },
  {
   "cell_type": "code",
   "execution_count": null,
   "metadata": {},
   "outputs": [],
   "source": [
    "# T.exclude_list_of_trials(T.df.loc[83:86].index,reason='probe slipped, can kick')"
   ]
  },
  {
   "cell_type": "code",
   "execution_count": null,
   "metadata": {},
   "outputs": [],
   "source": [
    "T.add_df_category('blue',trial_min=1,categories='_filtercube_status_cat')\n",
    "# T.add_df_category('green',trial_min=508,categories='_filtercube_status_cat')"
   ]
  },
  {
   "cell_type": "code",
   "execution_count": null,
   "metadata": {},
   "outputs": [],
   "source": [
    "T.plot_outcomes(savefig=True)"
   ]
  },
  {
   "cell_type": "code",
   "execution_count": null,
   "metadata": {},
   "outputs": [],
   "source": [
    "hmdf = T.plot_probe_position_heatmap(savefig=True,cmin=-450, cmax=10)"
   ]
  },
  {
   "cell_type": "code",
   "execution_count": null,
   "metadata": {},
   "outputs": [],
   "source": [
    "# T.plot_some_trials(index=T.df.loc[83:85].index,savefig=True)\n",
    "# T.loc[83:85]\n",
    "# T._excluded_df.loc[84, 'Trial'].plot_probe_groups(use_full_y = True,savefig=True)"
   ]
  },
  {
   "cell_type": "markdown",
   "metadata": {},
   "source": [
    "### 250423_F1_C1 - +;+;iav-gal4/uas-kir2.1"
   ]
  },
  {
   "cell_type": "markdown",
   "metadata": {},
   "source": [
    "Blue\n"
   ]
  },
  {
   "cell_type": "code",
   "execution_count": null,
   "metadata": {},
   "outputs": [],
   "source": [
    "T = Table('LEDFlashTriggerPiezoControl_250423_F1_C1_Table.parquet')\n",
    "# T.open_notes_files()"
   ]
  },
  {
   "cell_type": "code",
   "execution_count": null,
   "metadata": {},
   "outputs": [],
   "source": [
    "# T.exclude_list_of_trials(T.df.loc[83:86].index,reason='probe slipped, can kick')"
   ]
  },
  {
   "cell_type": "code",
   "execution_count": null,
   "metadata": {},
   "outputs": [],
   "source": [
    "T.add_df_category('blue',trial_min=1,categories='_filtercube_status_cat')\n",
    "# T.add_df_category('green',trial_min=508,categories='_filtercube_status_cat')"
   ]
  },
  {
   "cell_type": "code",
   "execution_count": null,
   "metadata": {},
   "outputs": [],
   "source": [
    "T.plot_outcomes(savefig=True)"
   ]
  },
  {
   "cell_type": "code",
   "execution_count": null,
   "metadata": {},
   "outputs": [],
   "source": [
    "hmdf = T.plot_probe_position_heatmap(savefig=True,cmin=-450, cmax=10)"
   ]
  },
  {
   "cell_type": "code",
   "execution_count": null,
   "metadata": {},
   "outputs": [],
   "source": [
    "# T.plot_some_trials(index=T.df.loc[83:85].index,savefig=True)\n",
    "# T.loc[83:85]\n",
    "# T._excluded_df.loc[84, 'Trial'].plot_probe_groups(use_full_y = True,savefig=True)"
   ]
  },
  {
   "cell_type": "markdown",
   "metadata": {},
   "source": [
    "## Green (4)"
   ]
  },
  {
   "cell_type": "markdown",
   "metadata": {},
   "source": [
    "### 250320_F1_C1 - +;+;iav-gal4/uas-kir2.1"
   ]
  },
  {
   "cell_type": "markdown",
   "metadata": {},
   "source": [
    "Green\n"
   ]
  },
  {
   "cell_type": "code",
   "execution_count": null,
   "metadata": {},
   "outputs": [],
   "source": [
    "T = Table('LEDFlashTriggerPiezoControl_250320_F1_C1_Table.parquet')\n",
    "T.open_notes_files()"
   ]
  },
  {
   "cell_type": "code",
   "execution_count": null,
   "metadata": {},
   "outputs": [],
   "source": [
    "# T.exclude_list_of_trials(T.df.loc[83:86].index,reason='probe slipped, can kick')"
   ]
  },
  {
   "cell_type": "code",
   "execution_count": null,
   "metadata": {},
   "outputs": [],
   "source": [
    "T.add_df_category('green',trial_min=1,categories='_filtercube_status_cat')\n",
    "# T.add_df_category('green',trial_min=508,categories='_filtercube_status_cat')"
   ]
  },
  {
   "cell_type": "code",
   "execution_count": null,
   "metadata": {},
   "outputs": [],
   "source": [
    "T.plot_outcomes(savefig=True)"
   ]
  },
  {
   "cell_type": "code",
   "execution_count": null,
   "metadata": {},
   "outputs": [],
   "source": [
    "hmdf = T.plot_probe_position_heatmap(savefig=True,cmin=-450, cmax=10)"
   ]
  },
  {
   "cell_type": "code",
   "execution_count": null,
   "metadata": {},
   "outputs": [],
   "source": [
    "# T.plot_some_trials(index=T.df.loc[83:85].index,savefig=True)\n",
    "# T.loc[83:85]\n",
    "# T._excluded_df.loc[84, 'Trial'].plot_probe_groups(use_full_y = True,savefig=True)"
   ]
  },
  {
   "cell_type": "markdown",
   "metadata": {},
   "source": [
    "### 250320_F2_C1 - +;+;iav-gal4/uas-kir2.1"
   ]
  },
  {
   "cell_type": "markdown",
   "metadata": {},
   "source": [
    "Green\n"
   ]
  },
  {
   "cell_type": "code",
   "execution_count": null,
   "metadata": {},
   "outputs": [],
   "source": [
    "T = Table('LEDFlashTriggerPiezoControl_250320_F2_C1_Table.parquet')\n",
    "T.open_notes_files()"
   ]
  },
  {
   "cell_type": "code",
   "execution_count": null,
   "metadata": {},
   "outputs": [],
   "source": [
    "# T.exclude_list_of_trials(T.df.loc[83:86].index,reason='probe slipped, can kick')"
   ]
  },
  {
   "cell_type": "code",
   "execution_count": null,
   "metadata": {},
   "outputs": [],
   "source": [
    "T.add_df_category('green',trial_min=1,categories='_filtercube_status_cat')\n",
    "# T.add_df_category('green',trial_min=508,categories='_filtercube_status_cat')"
   ]
  },
  {
   "cell_type": "code",
   "execution_count": null,
   "metadata": {},
   "outputs": [],
   "source": [
    "T.plot_outcomes(savefig=True)"
   ]
  },
  {
   "cell_type": "code",
   "execution_count": null,
   "metadata": {},
   "outputs": [],
   "source": [
    "hmdf = T.plot_probe_position_heatmap(savefig=True,cmin=-450, cmax=10)"
   ]
  },
  {
   "cell_type": "code",
   "execution_count": null,
   "metadata": {},
   "outputs": [],
   "source": [
    "# T.plot_some_trials(index=T.df.loc[83:85].index,savefig=True)\n",
    "# T.loc[83:85]\n",
    "# T._excluded_df.loc[84, 'Trial'].plot_probe_groups(use_full_y = True,savefig=True)"
   ]
  },
  {
   "cell_type": "markdown",
   "metadata": {},
   "source": [
    "### 250325_F1_C1 - +;+;iav-gal4/uas-kir2.1"
   ]
  },
  {
   "cell_type": "code",
   "execution_count": null,
   "metadata": {},
   "outputs": [],
   "source": [
    "T = Table('LEDFlashTriggerPiezoControl_250325_F1_C1_Table.parquet')\n",
    "T.open_notes_files()"
   ]
  },
  {
   "cell_type": "code",
   "execution_count": null,
   "metadata": {},
   "outputs": [],
   "source": [
    "# T.exclude_list_of_trials(T.df.loc[83:86].index,reason='probe slipped, can kick')"
   ]
  },
  {
   "cell_type": "code",
   "execution_count": null,
   "metadata": {},
   "outputs": [],
   "source": [
    "T.add_df_category('green',trial_min=1,categories='_filtercube_status_cat')\n",
    "# T.add_df_category('green',trial_min=508,categories='_filtercube_status_cat')"
   ]
  },
  {
   "cell_type": "code",
   "execution_count": null,
   "metadata": {},
   "outputs": [],
   "source": [
    "T.plot_outcomes(savefig=True)"
   ]
  },
  {
   "cell_type": "code",
   "execution_count": null,
   "metadata": {},
   "outputs": [],
   "source": [
    "hmdf = T.plot_probe_position_heatmap(savefig=True,cmin=-450, cmax=10)"
   ]
  },
  {
   "cell_type": "markdown",
   "metadata": {},
   "source": [
    "### 250423_F2_C1 - +;+;iav-gal4/uas-kir2.1"
   ]
  },
  {
   "cell_type": "markdown",
   "metadata": {},
   "source": [
    "Green\n"
   ]
  },
  {
   "cell_type": "code",
   "execution_count": null,
   "metadata": {},
   "outputs": [],
   "source": [
    "T = Table('LEDFlashTriggerPiezoControl_250423_F2_C1_Table.parquet')\n",
    "# T.open_notes_files()"
   ]
  },
  {
   "cell_type": "code",
   "execution_count": null,
   "metadata": {},
   "outputs": [],
   "source": [
    "# T.exclude_list_of_trials(T.df.loc[83:86].index,reason='probe slipped, can kick')"
   ]
  },
  {
   "cell_type": "code",
   "execution_count": null,
   "metadata": {},
   "outputs": [],
   "source": [
    "T.add_df_category('green',trial_min=1,categories='_filtercube_status_cat')\n",
    "# T.add_df_category('green',trial_min=508,categories='_filtercube_status_cat')"
   ]
  },
  {
   "cell_type": "code",
   "execution_count": null,
   "metadata": {},
   "outputs": [],
   "source": [
    "T.plot_outcomes(savefig=True)"
   ]
  },
  {
   "cell_type": "code",
   "execution_count": null,
   "metadata": {},
   "outputs": [],
   "source": [
    "hmdf = T.plot_probe_position_heatmap(savefig=True,cmin=-450, cmax=10)"
   ]
  },
  {
   "cell_type": "code",
   "execution_count": null,
   "metadata": {},
   "outputs": [],
   "source": [
    "tr = T.df.loc[442,'Trial']\n",
    "tr.plot_probe_groups()\n",
    "\n",
    "target_min = tr.params['pyasXPosition']\n",
    "target_max = tr.params['pyasXPosition'] + tr.params['pyasWidth']\n",
    "print(target_max)\n",
    "\n",
    "probe_position = tr.probe_position[tr.time>0].ravel()\n",
    "all(probe_position<target_min)"
   ]
  },
  {
   "cell_type": "markdown",
   "metadata": {},
   "source": [
    "## 30g06-Gal4>Kir2.1 (Green)"
   ]
  },
  {
   "cell_type": "markdown",
   "metadata": {},
   "source": [
    "### 250423_F3_C1 - +;+;30g06-Gal4/uas-kir2.1"
   ]
  },
  {
   "cell_type": "markdown",
   "metadata": {},
   "source": [
    "Green\n"
   ]
  },
  {
   "cell_type": "code",
   "execution_count": null,
   "metadata": {},
   "outputs": [],
   "source": [
    "T = Table('LEDFlashTriggerPiezoControl_250423_F3_C1_Table.parquet')\n",
    "# T.open_notes_files()"
   ]
  },
  {
   "cell_type": "code",
   "execution_count": null,
   "metadata": {},
   "outputs": [],
   "source": [
    "# T.exclude_list_of_trials(T.df.loc[83:86].index,reason='probe slipped, can kick')"
   ]
  },
  {
   "cell_type": "code",
   "execution_count": null,
   "metadata": {},
   "outputs": [],
   "source": [
    "T.add_df_category('green',trial_min=1,categories='_filtercube_status_cat')\n",
    "# T.add_df_category('green',trial_min=508,categories='_filtercube_status_cat')"
   ]
  },
  {
   "cell_type": "code",
   "execution_count": null,
   "metadata": {},
   "outputs": [],
   "source": [
    "T.plot_outcomes(savefig=True)"
   ]
  },
  {
   "cell_type": "code",
   "execution_count": null,
   "metadata": {},
   "outputs": [],
   "source": [
    "hmdf = T.plot_probe_position_heatmap(savefig=True,cmin=-450, cmax=10)"
   ]
  },
  {
   "cell_type": "markdown",
   "metadata": {},
   "source": [
    "### 250423_F2_C1 - +;+;iav-gal4/uas-kir2.1"
   ]
  },
  {
   "cell_type": "code",
   "execution_count": null,
   "metadata": {},
   "outputs": [],
   "source": [
    "### 250423_F2_C1 - +;+;iav-gal4/uas-kir2.1"
   ]
  },
  {
   "cell_type": "markdown",
   "metadata": {},
   "source": [
    "# TH-Gal4"
   ]
  },
  {
   "cell_type": "markdown",
   "metadata": {},
   "source": [
    "## TH-Gal4>GFP (using WT white allele)"
   ]
  },
  {
   "cell_type": "markdown",
   "metadata": {},
   "source": [
    "### 250325_F2_C1"
   ]
  },
  {
   "cell_type": "markdown",
   "metadata": {},
   "source": [
    "## TH-Gal4>Kir2.1"
   ]
  },
  {
   "cell_type": "markdown",
   "metadata": {},
   "source": [
    "### yymmdd_FX_CY"
   ]
  },
  {
   "cell_type": "markdown",
   "metadata": {},
   "source": [
    "# Behavior with drivers (WT or w)"
   ]
  },
  {
   "cell_type": "markdown",
   "metadata": {},
   "source": [
    "## Green to Blue LED behavior"
   ]
  },
  {
   "cell_type": "markdown",
   "metadata": {},
   "source": [
    "### 250127_F1_C1"
   ]
  },
  {
   "cell_type": "code",
   "execution_count": null,
   "metadata": {},
   "outputs": [],
   "source": [
    "T = Table('LEDFlashTriggerPiezoControl_250127_F1_C1_Table.parquet')\n",
    "# T.open_notes_files()\n",
    "# T.df.Trial[507].plot_probe_groups(format='png')\n",
    "# T.exclude_trials()\n",
    "T.add_df_category('green',trial_min=4,trial_max=416,categories='_filtercube_status_cat')\n",
    "T.add_df_category('blue',trial_min=417,categories='_filtercube_status_cat')\n",
    "T.plot_outcomes(savefig=True)\n",
    "\n",
    "df_filter = {'pyasState':'hi','_filtercube_status_cat':'green'}\n",
    "# early_index = T.df.index[0:100]\n",
    "# late_index = T.df.index[100:]\n",
    "\n",
    "# T.plot_probe_distribution(filter=None,index=None,bin_min=-500,bin_max=10,savefig=True)\n",
    "# plt.close()\n",
    "\n",
    "df_filter_list = [{'pyasState':'hi','_filtercube_status_cat':'green'},\n",
    "                  {'pyasState':'lo','_filtercube_status_cat':'green'},\n",
    "                  {'pyasState':'hi','_filtercube_status_cat':'blue'},\n",
    "                  {'pyasState':'lo','_filtercube_status_cat':'blue'}]\n",
    "\n",
    "for flt in df_filter_list:\n",
    "    T.plot_probe_distribution(filter=flt,index=None,bin_min=-500,bin_max=10,savefig=True)\n",
    "\n",
    "# plt.close()"
   ]
  },
  {
   "cell_type": "code",
   "execution_count": null,
   "metadata": {},
   "outputs": [],
   "source": [
    "hmdf = T.plot_probe_position_heatmap(savefig=True,cmin=-450, cmax=-10)"
   ]
  },
  {
   "cell_type": "code",
   "execution_count": null,
   "metadata": {},
   "outputs": [],
   "source": [
    "plt.close()"
   ]
  },
  {
   "cell_type": "markdown",
   "metadata": {},
   "source": [
    "### 250127_F2_C1"
   ]
  },
  {
   "cell_type": "code",
   "execution_count": null,
   "metadata": {},
   "outputs": [],
   "source": [
    "T = Table('LEDFlashTriggerPiezoControl_250127_F2_C1_Table.parquet')\n",
    "T.add_df_category('green',trial_min=1,trial_max=415,categories='_filtercube_status_cat')\n",
    "T.add_df_category('blue',trial_min=417,categories='_filtercube_status_cat')"
   ]
  },
  {
   "cell_type": "code",
   "execution_count": null,
   "metadata": {},
   "outputs": [],
   "source": [
    "T.plot_outcomes(savefig=True)"
   ]
  },
  {
   "cell_type": "code",
   "execution_count": null,
   "metadata": {},
   "outputs": [],
   "source": [
    "df_filter = {'pyasState':'hi','_filtercube_status_cat':'green'}\n",
    "early_index = T.df.index[0:100]\n",
    "late_index = T.df.index[100:]\n",
    "\n",
    "# T.plot_probe_distribution(filter=None,index=None,bin_min=-500,bin_max=10,savefig=True)\n",
    "# plt.close()\n",
    "\n",
    "df_filter_list = [{'pyasState':'hi','_filtercube_status_cat':'green'},\n",
    "                  {'pyasState':'lo','_filtercube_status_cat':'green'},\n",
    "                  {'pyasState':'hi','_filtercube_status_cat':'blue'},\n",
    "                  {'pyasState':'lo','_filtercube_status_cat':'blue'}]\n",
    "\n",
    "for flt in df_filter_list:\n",
    "    T.plot_probe_distribution(filter=flt,index=None,bin_min=-500,bin_max=10,savefig=True)\n",
    "\n",
    "# plt.close()\n"
   ]
  },
  {
   "cell_type": "code",
   "execution_count": null,
   "metadata": {},
   "outputs": [],
   "source": [
    "index = T.df.index[0:400]\n",
    "hmdf = T.plot_probe_position_heatmap(index = index,format='svg',cmin=-450, cmax=-10)"
   ]
  },
  {
   "cell_type": "code",
   "execution_count": null,
   "metadata": {},
   "outputs": [],
   "source": [
    "# T.plot_some_trials(index=T.df.loc[83:85].index,savefig=True)\n",
    "# T.loc[83:85]\n",
    "# T._excluded_df.loc[84, 'Trial'].plot_probe_groups(use_full_y = True,savefig=False)\n",
    "T.df.loc[170, 'Trial'].plot_probe_groups(from_zero=True,use_full_y=False,format='svg')"
   ]
  },
  {
   "cell_type": "code",
   "execution_count": null,
   "metadata": {},
   "outputs": [],
   "source": [
    "\n",
    "plt.close()"
   ]
  },
  {
   "cell_type": "markdown",
   "metadata": {},
   "source": [
    "### 250128_F1_C1"
   ]
  },
  {
   "cell_type": "code",
   "execution_count": null,
   "metadata": {},
   "outputs": [],
   "source": [
    "T = Table('LEDFlashTriggerPiezoControl_250128_F1_C1_Table.parquet')\n",
    "T.add_df_category('green',trial_min=2,trial_max=582,categories='_filtercube_status_cat')\n",
    "T.add_df_category('blue',trial_min=583,categories='_filtercube_status_cat')\n",
    "\n",
    "# lst = \n",
    "# # T.exclude_list_of_trials(list=lst, reason='Tracking fails')\n",
    "# # T.exclude_list_of_trials(list=lst, reason='Ran out of solution')\n",
    "\n",
    "df_filter = {'pyasState':'hi','_filtercube_status_cat':'green'}\n",
    "early_index = T.df.index[0:100]\n",
    "late_index = T.df.index[100:]\n",
    "\n",
    "# df_filter_list = [{'pyasState':'hi','_filtercube_status_cat':'green'},\n",
    "#                   {'pyasState':'lo','_filtercube_status_cat':'green'},\n",
    "#                   {'pyasState':'hi','_filtercube_status_cat':'blue'},\n",
    "#                   {'pyasState':'lo','_filtercube_status_cat':'blue'}]\n",
    "\n",
    "# for flt in df_filter_list:\n",
    "#     T.plot_probe_distribution(filter=flt,index=None,bin_min=-500,bin_max=10,savefig=True)\n",
    "#     plt.close()\n",
    "\n",
    "T.plot_outcomes(savefig=True)\n"
   ]
  },
  {
   "cell_type": "code",
   "execution_count": null,
   "metadata": {},
   "outputs": [],
   "source": [
    "hmdf = T.plot_probe_position_heatmap(savefig=True,cmin=-450, cmax=-10)\n",
    "# plt.close()\n",
    "# plt.close()"
   ]
  },
  {
   "cell_type": "code",
   "execution_count": null,
   "metadata": {},
   "outputs": [],
   "source": [
    "T.plot_some_trials(index=T.df.loc[3:8].index)"
   ]
  },
  {
   "cell_type": "code",
   "execution_count": null,
   "metadata": {},
   "outputs": [],
   "source": [
    "T.open_notes_files()"
   ]
  },
  {
   "cell_type": "code",
   "execution_count": null,
   "metadata": {},
   "outputs": [],
   "source": [
    "poor_tracking = T.df.loc[54:89]\n",
    "poor_tracking.index\n",
    "T.exclude_list_of_trials(poor_tracking.index,'poor_tracking')"
   ]
  },
  {
   "cell_type": "code",
   "execution_count": null,
   "metadata": {},
   "outputs": [],
   "source": [
    "solution_ran_out = T.df.loc[350:374]\n",
    "solution_ran_out.index\n",
    "T.exclude_list_of_trials(solution_ran_out.index,'solution_ran_out')"
   ]
  },
  {
   "cell_type": "markdown",
   "metadata": {},
   "source": [
    "### 250204_F1_C1"
   ]
  },
  {
   "cell_type": "code",
   "execution_count": null,
   "metadata": {},
   "outputs": [],
   "source": [
    "T = Table('LEDFlashTriggerPiezoControl_250204_F1_C1_Table.parquet')\n",
    "T.add_df_category('green',trial_min=1,trial_max=576,categories='_filtercube_status_cat')\n",
    "T.add_df_category('blue',trial_min=577,categories='_filtercube_status_cat')\n",
    "\n",
    "df_filter = {'pyasState':'hi','_filtercube_status_cat':'green'}\n",
    "early_index = T.df.index[0:100]\n",
    "late_index = T.df.index[100:]\n",
    "\n",
    "# df_filter_list = [{'pyasState':'hi','_filtercube_status_cat':'green'},\n",
    "#                   {'pyasState':'lo','_filtercube_status_cat':'green'},\n",
    "#                   {'pyasState':'hi','_filtercube_status_cat':'blue'},\n",
    "#                   {'pyasState':'lo','_filtercube_status_cat':'blue'}]\n",
    "\n",
    "# for flt in df_filter_list:\n",
    "#     T.plot_probe_distribution(filter=flt,index=None,bin_min=-500,bin_max=10,savefig=True)\n",
    "#     plt.close()\n",
    "\n",
    "T.plot_outcomes(savefig=True)\n",
    "hmdf = T.plot_probe_position_heatmap(savefig=True,cmin=-450, cmax=10)\n",
    "# T.plot_some_trials(index=T.df.loc[320:327].index,savefig=True)"
   ]
  },
  {
   "cell_type": "markdown",
   "metadata": {},
   "source": [
    "### 250204_F2_C1"
   ]
  },
  {
   "cell_type": "code",
   "execution_count": null,
   "metadata": {},
   "outputs": [],
   "source": [
    "T = Table('LEDFlashTriggerPiezoControl_250204_F2_C1_Table.parquet')\n",
    "T.add_df_category('green',trial_min=1,trial_max=408,categories='_filtercube_status_cat')\n",
    "T.add_df_category('blue',trial_min=409,categories='_filtercube_status_cat')\n",
    "\n",
    "df_filter = {'pyasState':'hi','_filtercube_status_cat':'green'}\n",
    "early_index = T.df.index[0:100]\n",
    "late_index = T.df.index[100:]\n",
    "\n",
    "# df_filter_list = [{'pyasState':'hi','_filtercube_status_cat':'green'},\n",
    "#                   {'pyasState':'lo','_filtercube_status_cat':'green'},\n",
    "#                   {'pyasState':'hi','_filtercube_status_cat':'blue'},\n",
    "#                   {'pyasState':'lo','_filtercube_status_cat':'blue'}]\n",
    "\n",
    "# for flt in df_filter_list:\n",
    "#     T.plot_probe_distribution(filter=flt,index=None,bin_min=-500,bin_max=10,savefig=True)\n",
    "#     plt.close()\n",
    "\n",
    "T.plot_outcomes(savefig=True)\n"
   ]
  },
  {
   "cell_type": "code",
   "execution_count": null,
   "metadata": {},
   "outputs": [],
   "source": [
    "hmdf = T.plot_probe_position_heatmap(savefig=True,cmin=-450, cmax=10)"
   ]
  },
  {
   "cell_type": "code",
   "execution_count": null,
   "metadata": {},
   "outputs": [],
   "source": [
    "T.plot_some_trials(index=T.df.loc[320:327].index,savefig=True)"
   ]
  },
  {
   "cell_type": "code",
   "execution_count": null,
   "metadata": {},
   "outputs": [],
   "source": [
    "plt.close()"
   ]
  },
  {
   "cell_type": "markdown",
   "metadata": {},
   "source": [
    "## Blue to Green "
   ]
  },
  {
   "cell_type": "markdown",
   "metadata": {},
   "source": [
    "### 250211_F2_C1"
   ]
  },
  {
   "cell_type": "code",
   "execution_count": null,
   "metadata": {},
   "outputs": [],
   "source": [
    "T = Table('LEDFlashTriggerPiezoControl_250211_F2_C1_Table.parquet')\n",
    "T.add_df_category('blue',trial_min=1,trial_max=354,categories='_filtercube_status_cat')\n",
    "T.add_df_category('green',trial_min=355,categories='_filtercube_status_cat')\n",
    "\n",
    "df_filter = {'pyasState':'hi','_filtercube_status_cat':'green'}\n",
    "early_index = T.df.index[0:100]\n",
    "late_index = T.df.index[100:]\n",
    "\n",
    "# df_filter_list = [{'pyasState':'hi','_filtercube_status_cat':'green'},\n",
    "#                   {'pyasState':'lo','_filtercube_status_cat':'green'},\n",
    "#                   {'pyasState':'hi','_filtercube_status_cat':'blue'},\n",
    "#                   {'pyasState':'lo','_filtercube_status_cat':'blue'}]\n",
    "\n",
    "# for flt in df_filter_list:\n",
    "#     T.plot_probe_distribution(filter=flt,index=None,bin_min=-500,bin_max=10,savefig=True)\n",
    "#     plt.close()\n"
   ]
  },
  {
   "cell_type": "code",
   "execution_count": null,
   "metadata": {},
   "outputs": [],
   "source": [
    "T.plot_outcomes(savefig=True)"
   ]
  },
  {
   "cell_type": "code",
   "execution_count": null,
   "metadata": {},
   "outputs": [],
   "source": [
    "hmdf = T.plot_probe_position_heatmap(savefig=True,cmin=-450, cmax=10)"
   ]
  },
  {
   "cell_type": "code",
   "execution_count": null,
   "metadata": {},
   "outputs": [],
   "source": [
    "T.plot_some_trials(index=T.df.loc[127:135].index,savefig=True)\n"
   ]
  },
  {
   "cell_type": "code",
   "execution_count": null,
   "metadata": {},
   "outputs": [],
   "source": [
    "T.df.loc[128].Trial.plot_probe_groups()"
   ]
  },
  {
   "cell_type": "code",
   "execution_count": null,
   "metadata": {},
   "outputs": [],
   "source": [
    "T.df.loc[T.df['controlToggle']==0].shape"
   ]
  },
  {
   "cell_type": "markdown",
   "metadata": {},
   "source": [
    "### 250211_F3_C1"
   ]
  },
  {
   "cell_type": "code",
   "execution_count": null,
   "metadata": {},
   "outputs": [],
   "source": [
    "T = Table('LEDFlashTriggerPiezoControl_250211_F3_C1_Table.parquet')\n",
    "T.add_df_category('blue',trial_min=1,trial_max=489,categories='_filtercube_status_cat')\n",
    "T.add_df_category('green',trial_min=490,categories='_filtercube_status_cat')\n",
    "\n",
    "df_filter = {'pyasState':'hi','_filtercube_status_cat':'green'}\n",
    "early_index = T.df.index[0:100]\n",
    "late_index = T.df.index[100:]\n",
    "\n",
    "# df_filter_list = [{'pyasState':'hi','_filtercube_status_cat':'green'},\n",
    "#                   {'pyasState':'lo','_filtercube_status_cat':'green'},\n",
    "#                   {'pyasState':'hi','_filtercube_status_cat':'blue'},\n",
    "#                   {'pyasState':'lo','_filtercube_status_cat':'blue'}]\n",
    "\n",
    "# for flt in df_filter_list:\n",
    "#     T.plot_probe_distribution(filter=flt,index=None,bin_min=-500,bin_max=10,savefig=True)\n",
    "#     plt.close()\n",
    "\n"
   ]
  },
  {
   "cell_type": "code",
   "execution_count": null,
   "metadata": {},
   "outputs": [],
   "source": [
    "T.plot_outcomes(savefig=True)"
   ]
  },
  {
   "cell_type": "code",
   "execution_count": null,
   "metadata": {},
   "outputs": [],
   "source": [
    "hmdf = T.plot_probe_position_heatmap(savefig=True,cmin=-450, cmax=10)\n",
    "# T.plot_some_trials(index=T.df.loc[320:327].index,savefig=True)"
   ]
  },
  {
   "cell_type": "code",
   "execution_count": null,
   "metadata": {},
   "outputs": [],
   "source": [
    "T.plot_some_trials(index=T.df.loc[90:327].index,savefig=True)"
   ]
  },
  {
   "cell_type": "markdown",
   "metadata": {},
   "source": [
    "## W+ Blue to Green"
   ]
  },
  {
   "cell_type": "markdown",
   "metadata": {},
   "source": [
    "### ex_250226_F1_C1"
   ]
  },
  {
   "cell_type": "markdown",
   "metadata": {},
   "source": [
    "Not including this cell. Pretty good learning, if I want to analyze, and some interesting movements to come back to, but the glue came off and the fly adopted an alternative strategy after that for a bit."
   ]
  },
  {
   "cell_type": "code",
   "execution_count": null,
   "metadata": {},
   "outputs": [],
   "source": [
    "T = Table('LEDFlashTriggerPiezoControl_250226_F1_C1_Table.parquet')\n",
    "# T.open_notes_files()"
   ]
  },
  {
   "cell_type": "code",
   "execution_count": null,
   "metadata": {},
   "outputs": [],
   "source": [
    "# T.add_df_category('blue',trial_min=1,trial_max=354,categories='_filtercube_status_cat')\n",
    "# T.add_df_category('green',trial_min=355,categories='_filtercube_status_cat')"
   ]
  },
  {
   "cell_type": "code",
   "execution_count": null,
   "metadata": {},
   "outputs": [],
   "source": [
    "T.plot_outcomes(savefig=True)"
   ]
  },
  {
   "cell_type": "code",
   "execution_count": null,
   "metadata": {},
   "outputs": [],
   "source": [
    "hmdf = T.plot_probe_position_heatmap(savefig=True,cmin=-450, cmax=10)"
   ]
  },
  {
   "cell_type": "code",
   "execution_count": null,
   "metadata": {},
   "outputs": [],
   "source": [
    "T.df.Trial[120].plot_probe_groups(savefig=True)"
   ]
  },
  {
   "cell_type": "code",
   "execution_count": null,
   "metadata": {},
   "outputs": [],
   "source": [
    "\n",
    "# df_filter = {'pyasState':'hi','_filtercube_status_cat':'green'}\n",
    "# early_index = T.df.index[0:100]\n",
    "# late_index = T.df.index[100:]\n",
    "\n",
    "# df_filter_list = [{'pyasState':'hi','_filtercube_status_cat':'green'},\n",
    "#                   {'pyasState':'lo','_filtercube_status_cat':'green'},\n",
    "#                   {'pyasState':'hi','_filtercube_status_cat':'blue'},\n",
    "#                   {'pyasState':'lo','_filtercube_status_cat':'blue'}]\n",
    "\n",
    "# for flt in df_filter_list:\n",
    "#     T.plot_probe_distribution(filter=flt,index=None,bin_min=-500,bin_max=10,savefig=True)\n",
    "#     plt.close()"
   ]
  },
  {
   "cell_type": "markdown",
   "metadata": {},
   "source": [
    "### 250226_F2_C1"
   ]
  },
  {
   "cell_type": "markdown",
   "metadata": {},
   "source": [
    "Nice fly_cell. There was the strange anticipation of the target change. There was a very long rest before switching to green LED. But even then "
   ]
  },
  {
   "cell_type": "code",
   "execution_count": null,
   "metadata": {},
   "outputs": [],
   "source": [
    "T = Table('LEDFlashTriggerPiezoControl_250226_F2_C1_Table.parquet')\n",
    "# T.open_notes_files()"
   ]
  },
  {
   "cell_type": "code",
   "execution_count": null,
   "metadata": {},
   "outputs": [],
   "source": [
    "T.add_df_category('blue',trial_min=1,trial_max=691,categories='_filtercube_status_cat')\n",
    "T.add_df_category('green',trial_min=692,categories='_filtercube_status_cat')"
   ]
  },
  {
   "cell_type": "code",
   "execution_count": null,
   "metadata": {},
   "outputs": [],
   "source": [
    "T.plot_outcomes(savefig=True)"
   ]
  },
  {
   "cell_type": "code",
   "execution_count": null,
   "metadata": {},
   "outputs": [],
   "source": [
    "hmdf = T.plot_probe_position_heatmap(savefig=True,cmin=-450, cmax=10)"
   ]
  },
  {
   "cell_type": "code",
   "execution_count": null,
   "metadata": {},
   "outputs": [],
   "source": [
    "T.df.Trial[691].plot_probe_groups(savefig=True)"
   ]
  },
  {
   "cell_type": "markdown",
   "metadata": {},
   "source": [
    "### 250227_F1_C1"
   ]
  },
  {
   "cell_type": "markdown",
   "metadata": {},
   "source": [
    "Blue then Green. Really Nice! timeouts only begin with the green LED"
   ]
  },
  {
   "cell_type": "code",
   "execution_count": null,
   "metadata": {},
   "outputs": [],
   "source": [
    "T = Table('LEDFlashTriggerPiezoControl_250227_F1_C1_Table.parquet')\n",
    "# T.open_notes_files()"
   ]
  },
  {
   "cell_type": "code",
   "execution_count": null,
   "metadata": {},
   "outputs": [],
   "source": [
    "T.exclude_list_of_trials(T.df.loc[83:86].index,reason='probe slipped, can kick')"
   ]
  },
  {
   "cell_type": "code",
   "execution_count": null,
   "metadata": {},
   "outputs": [],
   "source": [
    "T.add_df_category('blue',trial_min=1,trial_max=510,categories='_filtercube_status_cat')\n",
    "T.add_df_category('green',trial_min=511,categories='_filtercube_status_cat')"
   ]
  },
  {
   "cell_type": "code",
   "execution_count": null,
   "metadata": {},
   "outputs": [],
   "source": [
    "T.plot_outcomes(savefig=True)"
   ]
  },
  {
   "cell_type": "code",
   "execution_count": null,
   "metadata": {},
   "outputs": [],
   "source": [
    "hmdf = T.plot_probe_position_heatmap(savefig=True,cmin=-450, cmax=10)"
   ]
  },
  {
   "cell_type": "code",
   "execution_count": null,
   "metadata": {},
   "outputs": [],
   "source": [
    "# T.plot_some_trials(index=T.df.loc[83:85].index,savefig=True)\n",
    "# T.loc[83:85]\n",
    "T._excluded_df.loc[84, 'Trial'].plot_probe_groups(use_full_y = True,savefig=True)"
   ]
  },
  {
   "cell_type": "code",
   "execution_count": null,
   "metadata": {},
   "outputs": [],
   "source": [
    "plt.close()"
   ]
  },
  {
   "cell_type": "code",
   "execution_count": null,
   "metadata": {},
   "outputs": [],
   "source": []
  },
  {
   "cell_type": "markdown",
   "metadata": {},
   "source": [
    "### 250227_F2_C1"
   ]
  },
  {
   "cell_type": "markdown",
   "metadata": {},
   "source": [
    "Blue then Green. \n",
    "Nice learning! Some more timeouts and more as off trials with Green."
   ]
  },
  {
   "cell_type": "code",
   "execution_count": null,
   "metadata": {},
   "outputs": [],
   "source": [
    "T = Table('LEDFlashTriggerPiezoControl_250227_F2_C1_Table.parquet')\n",
    "# T.open_notes_files()"
   ]
  },
  {
   "cell_type": "code",
   "execution_count": null,
   "metadata": {},
   "outputs": [],
   "source": [
    "# T.exclude_list_of_trials(T.df.loc[83:86].index,reason='probe slipped, can kick')"
   ]
  },
  {
   "cell_type": "code",
   "execution_count": null,
   "metadata": {},
   "outputs": [],
   "source": [
    "T.add_df_category('blue',trial_min=1,trial_max=510,categories='_filtercube_status_cat')\n",
    "T.add_df_category('green',trial_min=511,categories='_filtercube_status_cat')"
   ]
  },
  {
   "cell_type": "code",
   "execution_count": null,
   "metadata": {},
   "outputs": [],
   "source": [
    "T.plot_outcomes(savefig=True)"
   ]
  },
  {
   "cell_type": "code",
   "execution_count": null,
   "metadata": {},
   "outputs": [],
   "source": [
    "hmdf = T.plot_probe_position_heatmap(savefig=True,cmin=-450, cmax=10)"
   ]
  },
  {
   "cell_type": "code",
   "execution_count": null,
   "metadata": {},
   "outputs": [],
   "source": [
    "# T.plot_some_trials(index=T.df.loc[83:85].index,savefig=True)\n",
    "# T.loc[83:85]\n",
    "T._excluded_df.loc[84, 'Trial'].plot_probe_groups(use_full_y = True,savefig=True)"
   ]
  },
  {
   "cell_type": "markdown",
   "metadata": {},
   "source": [
    "### 250227_F3_C1"
   ]
  },
  {
   "cell_type": "markdown",
   "metadata": {},
   "source": [
    "?"
   ]
  },
  {
   "cell_type": "code",
   "execution_count": null,
   "metadata": {},
   "outputs": [],
   "source": [
    "T = Table('LEDFlashTriggerPiezoControl_250227_F3_C1_Table.parquet')\n",
    "# T.open_notes_files()"
   ]
  },
  {
   "cell_type": "code",
   "execution_count": null,
   "metadata": {},
   "outputs": [],
   "source": [
    "# T.exclude_list_of_trials(T.df.loc[83:86].index,reason='probe slipped, can kick')"
   ]
  },
  {
   "cell_type": "code",
   "execution_count": null,
   "metadata": {},
   "outputs": [],
   "source": [
    "T.add_df_category('blue',trial_min=1,trial_max=638,categories='_filtercube_status_cat')"
   ]
  },
  {
   "cell_type": "code",
   "execution_count": null,
   "metadata": {},
   "outputs": [],
   "source": [
    "T.plot_outcomes(savefig=True)"
   ]
  },
  {
   "cell_type": "code",
   "execution_count": null,
   "metadata": {},
   "outputs": [],
   "source": [
    "hmdf = T.plot_probe_position_heatmap(savefig=True,cmin=-450, cmax=10)"
   ]
  },
  {
   "cell_type": "code",
   "execution_count": null,
   "metadata": {},
   "outputs": [],
   "source": [
    "# T.plot_some_trials(index=T.df.loc[83:85].index,savefig=True)\n",
    "# T.loc[83:85]\n",
    "T._excluded_df.loc[84, 'Trial'].plot_probe_groups(use_full_y = True,savefig=True)"
   ]
  },
  {
   "cell_type": "markdown",
   "metadata": {},
   "source": [
    "### 250228_F1_C1"
   ]
  },
  {
   "cell_type": "markdown",
   "metadata": {},
   "source": [
    "Blue then Green. \n",
    "This one takes a long time to learn in each block. Some more timeouts and more as off trials with Green."
   ]
  },
  {
   "cell_type": "code",
   "execution_count": null,
   "metadata": {},
   "outputs": [],
   "source": [
    "T = Table('LEDFlashTriggerPiezoControl_250228_F1_C1_Table.parquet')\n",
    "T.open_notes_files()"
   ]
  },
  {
   "cell_type": "code",
   "execution_count": null,
   "metadata": {},
   "outputs": [],
   "source": [
    "# T.exclude_list_of_trials(T.df.loc[83:86].index,reason='probe slipped, can kick')"
   ]
  },
  {
   "cell_type": "code",
   "execution_count": null,
   "metadata": {},
   "outputs": [],
   "source": [
    "T.add_df_category('blue',trial_min=1,trial_max=507,categories='_filtercube_status_cat')\n",
    "T.add_df_category('green',trial_min=508,categories='_filtercube_status_cat')"
   ]
  },
  {
   "cell_type": "code",
   "execution_count": null,
   "metadata": {},
   "outputs": [],
   "source": [
    "T.plot_outcomes(savefig=True)"
   ]
  },
  {
   "cell_type": "code",
   "execution_count": null,
   "metadata": {},
   "outputs": [],
   "source": [
    "hmdf = T.plot_probe_position_heatmap(savefig=True,cmin=-450, cmax=10)"
   ]
  },
  {
   "cell_type": "code",
   "execution_count": null,
   "metadata": {},
   "outputs": [],
   "source": [
    "# T.plot_some_trials(index=T.df.loc[83:85].index,savefig=True)\n",
    "# T.loc[83:85]\n",
    "T._excluded_df.loc[84, 'Trial'].plot_probe_groups(use_full_y = True,savefig=True)"
   ]
  },
  {
   "cell_type": "markdown",
   "metadata": {},
   "source": [
    "### 250304_F3_C1"
   ]
  },
  {
   "cell_type": "markdown",
   "metadata": {},
   "source": [
    "Blue then Green. \n"
   ]
  },
  {
   "cell_type": "code",
   "execution_count": null,
   "metadata": {},
   "outputs": [],
   "source": [
    "T = Table('LEDFlashTriggerPiezoControl_250304_F3_C1_Table.parquet')\n",
    "T.open_notes_files()"
   ]
  },
  {
   "cell_type": "code",
   "execution_count": null,
   "metadata": {},
   "outputs": [],
   "source": [
    "# T.exclude_list_of_trials(T.df.loc[83:86].index,reason='probe slipped, can kick')"
   ]
  },
  {
   "cell_type": "code",
   "execution_count": null,
   "metadata": {},
   "outputs": [],
   "source": [
    "T.add_df_category('blue',trial_min=1,trial_max=1450,categories='_filtercube_status_cat')\n",
    "# T.add_df_category('green',trial_min=508,categories='_filtercube_status_cat')"
   ]
  },
  {
   "cell_type": "code",
   "execution_count": null,
   "metadata": {},
   "outputs": [],
   "source": [
    "T.plot_outcomes(savefig=True)"
   ]
  },
  {
   "cell_type": "code",
   "execution_count": null,
   "metadata": {},
   "outputs": [],
   "source": [
    "hmdf = T.plot_probe_position_heatmap(savefig=True,cmin=-450, cmax=10)"
   ]
  },
  {
   "cell_type": "code",
   "execution_count": null,
   "metadata": {},
   "outputs": [],
   "source": [
    "# T.plot_some_trials(index=T.df.loc[83:85].index,savefig=True)\n",
    "# T.loc[83:85]\n",
    "T._excluded_df.loc[84, 'Trial'].plot_probe_groups(use_full_y = True,savefig=True)"
   ]
  },
  {
   "cell_type": "markdown",
   "metadata": {},
   "source": [
    "### 250425_F1_C1"
   ]
  },
  {
   "cell_type": "code",
   "execution_count": null,
   "metadata": {},
   "outputs": [],
   "source": [
    "T = Table('LEDFlashTriggerPiezoControl_250425_F1_C1_Table.parquet')\n",
    "# T.open_notes_files()"
   ]
  },
  {
   "cell_type": "code",
   "execution_count": null,
   "metadata": {},
   "outputs": [],
   "source": [
    "T.df"
   ]
  },
  {
   "cell_type": "code",
   "execution_count": null,
   "metadata": {},
   "outputs": [],
   "source": [
    "# T.exclude_list_of_trials(T.df.loc[83:86].index,reason='probe slipped, can kick')"
   ]
  },
  {
   "cell_type": "code",
   "execution_count": null,
   "metadata": {},
   "outputs": [],
   "source": [
    "T.add_df_category('blue',trial_min=1,categories='_filtercube_status_cat')\n",
    "# T.add_df_category('green',trial_min=508,categories='_filtercube_status_cat')"
   ]
  },
  {
   "cell_type": "code",
   "execution_count": null,
   "metadata": {},
   "outputs": [],
   "source": [
    "T.plot_outcomes(savefig=True)"
   ]
  },
  {
   "cell_type": "code",
   "execution_count": null,
   "metadata": {},
   "outputs": [],
   "source": [
    "hmdf = T.plot_probe_position_heatmap(savefig=True,cmin=-450, cmax=10)"
   ]
  },
  {
   "cell_type": "code",
   "execution_count": null,
   "metadata": {},
   "outputs": [],
   "source": [
    "tr = T.df.loc[104,'Trial']\n",
    "tr.plot_group('current_2')"
   ]
  },
  {
   "cell_type": "code",
   "execution_count": null,
   "metadata": {},
   "outputs": [],
   "source": [
    "tr.params"
   ]
  },
  {
   "cell_type": "markdown",
   "metadata": {},
   "source": [
    "## w+ Green to Blue"
   ]
  },
  {
   "cell_type": "markdown",
   "metadata": {},
   "source": [
    "### 250228_F2_C1"
   ]
  },
  {
   "cell_type": "markdown",
   "metadata": {},
   "source": [
    "Green then Blue\n"
   ]
  },
  {
   "cell_type": "code",
   "execution_count": null,
   "metadata": {},
   "outputs": [],
   "source": [
    "T = Table('LEDFlashTriggerPiezoControl_250228_F2_C1_Table.parquet')"
   ]
  },
  {
   "cell_type": "code",
   "execution_count": null,
   "metadata": {},
   "outputs": [],
   "source": [
    "T.open_notes_files()"
   ]
  },
  {
   "cell_type": "code",
   "execution_count": null,
   "metadata": {},
   "outputs": [],
   "source": [
    "# T.exclude_list_of_trials(T.df.loc[83:86].index,reason='probe slipped, can kick')"
   ]
  },
  {
   "cell_type": "code",
   "execution_count": null,
   "metadata": {},
   "outputs": [],
   "source": [
    "T.add_df_category('green',trial_min=51,trial_max=713,categories='_filtercube_status_cat')"
   ]
  },
  {
   "cell_type": "code",
   "execution_count": null,
   "metadata": {},
   "outputs": [],
   "source": [
    "T.plot_outcomes(savefig=True)"
   ]
  },
  {
   "cell_type": "code",
   "execution_count": null,
   "metadata": {},
   "outputs": [],
   "source": [
    "index = T.df.index[50:450]\n",
    "hmdf = T.plot_probe_position_heatmap(index = index,format='svg',cmin=-450, cmax=-10)\n",
    "# hmdf = T.plot_probe_position_heatmap(savefig=True,cmin=-450, cmax=10)"
   ]
  },
  {
   "cell_type": "code",
   "execution_count": null,
   "metadata": {},
   "outputs": [],
   "source": [
    "# T.plot_some_trials(index=T.df.loc[83:85].index,savefig=True)\n",
    "# T.loc[83:85]\n",
    "# T._excluded_df.loc[84, 'Trial'].plot_probe_groups(use_full_y = True,savefig=False)\n",
    "T.df.loc[328, 'Trial'].plot_probe_groups(from_zero=True,use_full_y=False,format='svg')"
   ]
  },
  {
   "cell_type": "markdown",
   "metadata": {},
   "source": [
    "### 250304_F2_C1"
   ]
  },
  {
   "cell_type": "code",
   "execution_count": null,
   "metadata": {},
   "outputs": [],
   "source": [
    "T = Table('LEDFlashTriggerPiezoControl_250304_F2_C1_Table.parquet')"
   ]
  },
  {
   "cell_type": "code",
   "execution_count": null,
   "metadata": {},
   "outputs": [],
   "source": [
    "T.open_notes_files()"
   ]
  },
  {
   "cell_type": "code",
   "execution_count": null,
   "metadata": {},
   "outputs": [],
   "source": [
    "# T.exclude_list_of_trials(T.df.loc[83:86].index,reason='probe slipped, can kick')"
   ]
  },
  {
   "cell_type": "code",
   "execution_count": null,
   "metadata": {},
   "outputs": [],
   "source": [
    "T.add_df_category('green',trial_min=1,trial_max=408,categories='_filtercube_status_cat')\n",
    "T.add_df_category('green',trial_min=409,trial_max=513,categories='_filtercube_status_cat')"
   ]
  },
  {
   "cell_type": "code",
   "execution_count": null,
   "metadata": {},
   "outputs": [],
   "source": [
    "T.plot_outcomes(savefig=True)"
   ]
  },
  {
   "cell_type": "code",
   "execution_count": null,
   "metadata": {},
   "outputs": [],
   "source": [
    "hmdf = T.plot_probe_position_heatmap(savefig=True,cmin=-450, cmax=10)\n",
    "\n",
    "DEBUG = True"
   ]
  },
  {
   "cell_type": "code",
   "execution_count": null,
   "metadata": {},
   "outputs": [],
   "source": [
    "# T.plot_some_trials(index=T.df.loc[83:85].index,savefig=True)\n",
    "# T.loc[83:85]\n",
    "# T._excluded_df.loc[84, 'Trial'].plot_probe_groups(use_full_y = True,savefig=False)\n",
    "T.df.loc[84, 'Trial'].plot_probe_groups(use_full_y = True,savefig=False)\n"
   ]
  },
  {
   "cell_type": "markdown",
   "metadata": {},
   "source": [
    "# Play with table"
   ]
  },
  {
   "cell_type": "code",
   "execution_count": null,
   "metadata": {},
   "outputs": [],
   "source": []
  }
 ],
 "metadata": {
  "kernelspec": {
   "display_name": "flop_py312",
   "language": "python",
   "name": "python3"
  },
  "language_info": {
   "codemirror_mode": {
    "name": "ipython",
    "version": 3
   },
   "file_extension": ".py",
   "mimetype": "text/x-python",
   "name": "python",
   "nbconvert_exporter": "python",
   "pygments_lexer": "ipython3",
   "version": "3.12.7"
  }
 },
 "nbformat": 4,
 "nbformat_minor": 2
}
