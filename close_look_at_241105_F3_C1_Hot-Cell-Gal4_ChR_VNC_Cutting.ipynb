{
 "cells": [
  {
   "cell_type": "code",
   "execution_count": null,
   "metadata": {},
   "outputs": [],
   "source": [
    "import quickScanner\n",
    "from scipy.io import loadmat\n",
    "import pandas as pd\n",
    "import os\n",
    "import matplotlib.pyplot as plt"
   ]
  },
  {
   "cell_type": "code",
   "execution_count": 2,
   "metadata": {},
   "outputs": [
    {
     "data": {
      "text/plain": [
       "'d:\\\\Data\\\\241105\\\\241105_F3_C1'"
      ]
     },
     "execution_count": 2,
     "metadata": {},
     "output_type": "execute_result"
    }
   ],
   "source": [
    "qs = quickScanner.QuickScanner('241105_F3_C1')\n",
    "qs._fly_cell_dir\n"
   ]
  },
  {
   "cell_type": "code",
   "execution_count": 5,
   "metadata": {},
   "outputs": [
    {
     "name": "stderr",
     "output_type": "stream",
     "text": [
      "'ls' is not recognized as an internal or external command,\n",
      "operable program or batch file.\n"
     ]
    }
   ],
   "source": [
    "os.chdir('d:\\\\Data\\\\241105\\\\241105_F3_C1')\n",
    "!ls\n"
   ]
  },
  {
   "cell_type": "code",
   "execution_count": 22,
   "metadata": {},
   "outputs": [],
   "source": [
    "df = pd.read_csv('LEDFlashTriggerPiezoControl_241105_F3_C1_Table.csv')\n",
    "# df = pd.DataFrame(table_data)"
   ]
  },
  {
   "cell_type": "code",
   "execution_count": 24,
   "metadata": {},
   "outputs": [
    {
     "data": {
      "text/plain": [
       "Index(['timestamp', 'background', 'cueDelayDurInSec', 'cueRampDurInSec',\n",
       "       'cueStimDurInSec', 'displacement', 'displacements_1', 'displacements_2',\n",
       "       'displacements_3', 'displacements_4', 'durSweep', 'gain', 'mode', 'ndf',\n",
       "       'ndfs', 'postDurInSec', 'posttriggerdelay', 'preDurInSec', 'protocol',\n",
       "       'sampratein', 'samprateout', 'secondary_gain', 'stimDurInSec',\n",
       "       'stimhashval', 'Vm_id', 'trial', 'trialBlock', 'blueToggle',\n",
       "       'controlToggle', 'routineToggle', 'pyasXPosition', 'pyasWidth',\n",
       "       'probeZero', 'pyasState', 'sampratein_control', 'tags', 'excluded'],\n",
       "      dtype='object')"
      ]
     },
     "execution_count": 24,
     "metadata": {},
     "output_type": "execute_result"
    }
   ],
   "source": [
    "df.columns"
   ]
  },
  {
   "cell_type": "code",
   "execution_count": 26,
   "metadata": {},
   "outputs": [
    {
     "data": {
      "text/plain": [
       "array(['hi', 'lo'], dtype=object)"
      ]
     },
     "execution_count": 26,
     "metadata": {},
     "output_type": "execute_result"
    }
   ],
   "source": [
    "df['pyasState'].unique()"
   ]
  },
  {
   "cell_type": "code",
   "execution_count": 27,
   "metadata": {},
   "outputs": [],
   "source": [
    "trial = loadmat('LEDFlashTriggerPiezoControl_Raw_241105_F3_C1_41.mat')"
   ]
  },
  {
   "cell_type": "code",
   "execution_count": 36,
   "metadata": {},
   "outputs": [
    {
     "data": {
      "text/plain": [
       "dict_keys(['__header__', '__version__', '__globals__', 'params', 'timestamp', 'name', 'tags', 'target_location', 'starttime', 'startsample', 'voltage_1', 'intertrial', 'current_1', 'current_2', 'voltage_2', 'current_extEMG', 'sgsmonitor', 'probe_position', 'arduino_output', 'excluded'])"
      ]
     },
     "execution_count": 36,
     "metadata": {},
     "output_type": "execute_result"
    }
   ],
   "source": [
    "trial.keys()\n"
   ]
  },
  {
   "cell_type": "code",
   "execution_count": null,
   "metadata": {},
   "outputs": [],
   "source": [
    "trial['target_location'].ravel()"
   ]
  },
  {
   "cell_type": "code",
   "execution_count": 38,
   "metadata": {},
   "outputs": [
    {
     "data": {
      "text/plain": [
       "array([372.40905762, 372.40905762, 372.40905762, ..., 381.7817688 ,\n",
       "       381.7817688 , 381.7817688 ])"
      ]
     },
     "execution_count": 38,
     "metadata": {},
     "output_type": "execute_result"
    }
   ],
   "source": [
    "trial['probe_position'].ravel()"
   ]
  }
 ],
 "metadata": {
  "kernelspec": {
   "display_name": "flop_py312",
   "language": "python",
   "name": "python3"
  },
  "language_info": {
   "codemirror_mode": {
    "name": "ipython",
    "version": 3
   },
   "file_extension": ".py",
   "mimetype": "text/x-python",
   "name": "python",
   "nbconvert_exporter": "python",
   "pygments_lexer": "ipython3",
   "version": "3.12.7"
  }
 },
 "nbformat": 4,
 "nbformat_minor": 2
}
